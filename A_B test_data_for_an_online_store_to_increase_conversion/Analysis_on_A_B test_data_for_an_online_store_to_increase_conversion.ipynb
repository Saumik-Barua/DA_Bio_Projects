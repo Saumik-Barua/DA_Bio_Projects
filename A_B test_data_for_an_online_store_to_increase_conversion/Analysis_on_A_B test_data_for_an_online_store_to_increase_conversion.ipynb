{
 "cells": [
  {
   "cell_type": "markdown",
   "metadata": {},
   "source": [
    "## Analysis on A/B test data for an online store to increase conversion"
   ]
  },
  {
   "cell_type": "markdown",
   "metadata": {},
   "source": [
    "**Task and Goal:**\n",
    "\n",
    "Here, we are going to scrutinize and process the given datasets. The purpose is to test changes related to the introduction of an improved recommendation system and to come up with comprehensible and handy information for the online store that will help to gain success.  It is expected that within 14 days of signing up, users will show better conversion (at least a 10% increase) into each of the stage of the funnel. So, initially, we aim at finding the internal connection between different columns or categories of the given datasets.\n",
    "\n",
    "We will consider the following steps in our whole process and analysis:\n",
    "\n",
    "\n",
    "-  <a href='#the_destination1'>General Information</a>\n",
    "\n",
    "\n",
    "-  <a href='#the_destination2'>Data preprocessing and Changing Data types</a>\n",
    "\n",
    "\n",
    "-  <a href='#the_destination3'>Study, Check and Analysis of the Data Including Event Funnel</a>\n",
    "\n",
    "\n",
    "-  <a href='#the_destination4'>Testing Hypothesis and Study the results of the A/B Test</a>\n",
    "\n",
    "\n",
    "-  <a href='#the_destination5'>Report and Conclusion</a>\n"
   ]
  },
  {
   "cell_type": "markdown",
   "metadata": {},
   "source": [
    "<a id='the_destination1'></a>\n",
    "###  Opening the data file, extracting the general information and preparing for analysis. "
   ]
  },
  {
   "cell_type": "code",
   "execution_count": 1,
   "metadata": {},
   "outputs": [],
   "source": [
    "import pandas as pd\n",
    "import matplotlib.pyplot as plt\n",
    "import seaborn as sns\n",
    "import numpy as np\n",
    "import datetime as dt\n",
    "import plotly.graph_objects as go\n",
    "import math\n",
    "import plotly.express as px\n",
    "import scipy.stats as stats"
   ]
  },
  {
   "cell_type": "code",
   "execution_count": 2,
   "metadata": {},
   "outputs": [],
   "source": [
    "import sys\n",
    "import warnings\n",
    "if not sys.warnoptions:\n",
    "       warnings.simplefilter(\"ignore\")"
   ]
  },
  {
   "cell_type": "code",
   "execution_count": 3,
   "metadata": {},
   "outputs": [],
   "source": [
    "try:\n",
    "    mark_data = pd.read_csv(\"datasets/ab_project_marketing_events_us.csv\")\n",
    "    user_data = pd.read_csv(\"datasets/final_ab_new_users_upd_us.csv\")\n",
    "    event_data = pd.read_csv(\"datasets/final_ab_events_upd_us.csv\")\n",
    "    part_data = pd.read_csv(\"datasets/final_ab_participants_upd_us.csv\")\n",
    "except:\n",
    "    mark_data = pd.read_csv(\"/datasets/ab_project_marketing_events_us.csv\")\n",
    "    user_data = pd.read_csv(\"/datasets/final_ab_new_users_upd_us.csv\")\n",
    "    event_data = pd.read_csv(\"/datasets/final_ab_events_upd_us.csv\")\n",
    "    part_data = pd.read_csv(\"/datasets/final_ab_participants_upd_us.csv\")"
   ]
  },
  {
   "cell_type": "code",
   "execution_count": 4,
   "metadata": {},
   "outputs": [
    {
     "name": "stdout",
     "output_type": "stream",
     "text": [
      "marketing data:\n",
      "\n",
      "<class 'pandas.core.frame.DataFrame'>\n",
      "RangeIndex: 14 entries, 0 to 13\n",
      "Data columns (total 4 columns):\n",
      "name         14 non-null object\n",
      "regions      14 non-null object\n",
      "start_dt     14 non-null object\n",
      "finish_dt    14 non-null object\n",
      "dtypes: object(4)\n",
      "memory usage: 576.0+ bytes\n"
     ]
    },
    {
     "data": {
      "text/html": [
       "<div>\n",
       "<style scoped>\n",
       "    .dataframe tbody tr th:only-of-type {\n",
       "        vertical-align: middle;\n",
       "    }\n",
       "\n",
       "    .dataframe tbody tr th {\n",
       "        vertical-align: top;\n",
       "    }\n",
       "\n",
       "    .dataframe thead th {\n",
       "        text-align: right;\n",
       "    }\n",
       "</style>\n",
       "<table border=\"1\" class=\"dataframe\">\n",
       "  <thead>\n",
       "    <tr style=\"text-align: right;\">\n",
       "      <th></th>\n",
       "      <th>name</th>\n",
       "      <th>regions</th>\n",
       "      <th>start_dt</th>\n",
       "      <th>finish_dt</th>\n",
       "    </tr>\n",
       "  </thead>\n",
       "  <tbody>\n",
       "    <tr>\n",
       "      <td>0</td>\n",
       "      <td>Christmas&amp;New Year Promo</td>\n",
       "      <td>EU, N.America</td>\n",
       "      <td>2020-12-25</td>\n",
       "      <td>2021-01-03</td>\n",
       "    </tr>\n",
       "    <tr>\n",
       "      <td>1</td>\n",
       "      <td>St. Valentine's Day Giveaway</td>\n",
       "      <td>EU, CIS, APAC, N.America</td>\n",
       "      <td>2020-02-14</td>\n",
       "      <td>2020-02-16</td>\n",
       "    </tr>\n",
       "    <tr>\n",
       "      <td>2</td>\n",
       "      <td>St. Patric's Day Promo</td>\n",
       "      <td>EU, N.America</td>\n",
       "      <td>2020-03-17</td>\n",
       "      <td>2020-03-19</td>\n",
       "    </tr>\n",
       "    <tr>\n",
       "      <td>3</td>\n",
       "      <td>Easter Promo</td>\n",
       "      <td>EU, CIS, APAC, N.America</td>\n",
       "      <td>2020-04-12</td>\n",
       "      <td>2020-04-19</td>\n",
       "    </tr>\n",
       "    <tr>\n",
       "      <td>4</td>\n",
       "      <td>4th of July Promo</td>\n",
       "      <td>N.America</td>\n",
       "      <td>2020-07-04</td>\n",
       "      <td>2020-07-11</td>\n",
       "    </tr>\n",
       "  </tbody>\n",
       "</table>\n",
       "</div>"
      ],
      "text/plain": [
       "                           name                   regions    start_dt  \\\n",
       "0      Christmas&New Year Promo             EU, N.America  2020-12-25   \n",
       "1  St. Valentine's Day Giveaway  EU, CIS, APAC, N.America  2020-02-14   \n",
       "2        St. Patric's Day Promo             EU, N.America  2020-03-17   \n",
       "3                  Easter Promo  EU, CIS, APAC, N.America  2020-04-12   \n",
       "4             4th of July Promo                 N.America  2020-07-04   \n",
       "\n",
       "    finish_dt  \n",
       "0  2021-01-03  \n",
       "1  2020-02-16  \n",
       "2  2020-03-19  \n",
       "3  2020-04-19  \n",
       "4  2020-07-11  "
      ]
     },
     "metadata": {},
     "output_type": "display_data"
    },
    {
     "name": "stdout",
     "output_type": "stream",
     "text": [
      "\n"
     ]
    }
   ],
   "source": [
    "print('marketing data:')\n",
    "print()\n",
    "mark_data.info()\n",
    "display(mark_data.head())\n",
    "print()\n"
   ]
  },
  {
   "cell_type": "code",
   "execution_count": 5,
   "metadata": {},
   "outputs": [
    {
     "name": "stdout",
     "output_type": "stream",
     "text": [
      "user data:\n",
      "\n",
      "<class 'pandas.core.frame.DataFrame'>\n",
      "RangeIndex: 58703 entries, 0 to 58702\n",
      "Data columns (total 4 columns):\n",
      "user_id       58703 non-null object\n",
      "first_date    58703 non-null object\n",
      "region        58703 non-null object\n",
      "device        58703 non-null object\n",
      "dtypes: object(4)\n",
      "memory usage: 1.8+ MB\n"
     ]
    },
    {
     "data": {
      "text/html": [
       "<div>\n",
       "<style scoped>\n",
       "    .dataframe tbody tr th:only-of-type {\n",
       "        vertical-align: middle;\n",
       "    }\n",
       "\n",
       "    .dataframe tbody tr th {\n",
       "        vertical-align: top;\n",
       "    }\n",
       "\n",
       "    .dataframe thead th {\n",
       "        text-align: right;\n",
       "    }\n",
       "</style>\n",
       "<table border=\"1\" class=\"dataframe\">\n",
       "  <thead>\n",
       "    <tr style=\"text-align: right;\">\n",
       "      <th></th>\n",
       "      <th>user_id</th>\n",
       "      <th>first_date</th>\n",
       "      <th>region</th>\n",
       "      <th>device</th>\n",
       "    </tr>\n",
       "  </thead>\n",
       "  <tbody>\n",
       "    <tr>\n",
       "      <td>0</td>\n",
       "      <td>D72A72121175D8BE</td>\n",
       "      <td>2020-12-07</td>\n",
       "      <td>EU</td>\n",
       "      <td>PC</td>\n",
       "    </tr>\n",
       "    <tr>\n",
       "      <td>1</td>\n",
       "      <td>F1C668619DFE6E65</td>\n",
       "      <td>2020-12-07</td>\n",
       "      <td>N.America</td>\n",
       "      <td>Android</td>\n",
       "    </tr>\n",
       "    <tr>\n",
       "      <td>2</td>\n",
       "      <td>2E1BF1D4C37EA01F</td>\n",
       "      <td>2020-12-07</td>\n",
       "      <td>EU</td>\n",
       "      <td>PC</td>\n",
       "    </tr>\n",
       "    <tr>\n",
       "      <td>3</td>\n",
       "      <td>50734A22C0C63768</td>\n",
       "      <td>2020-12-07</td>\n",
       "      <td>EU</td>\n",
       "      <td>iPhone</td>\n",
       "    </tr>\n",
       "    <tr>\n",
       "      <td>4</td>\n",
       "      <td>E1BDDCE0DAFA2679</td>\n",
       "      <td>2020-12-07</td>\n",
       "      <td>N.America</td>\n",
       "      <td>iPhone</td>\n",
       "    </tr>\n",
       "  </tbody>\n",
       "</table>\n",
       "</div>"
      ],
      "text/plain": [
       "            user_id  first_date     region   device\n",
       "0  D72A72121175D8BE  2020-12-07         EU       PC\n",
       "1  F1C668619DFE6E65  2020-12-07  N.America  Android\n",
       "2  2E1BF1D4C37EA01F  2020-12-07         EU       PC\n",
       "3  50734A22C0C63768  2020-12-07         EU   iPhone\n",
       "4  E1BDDCE0DAFA2679  2020-12-07  N.America   iPhone"
      ]
     },
     "metadata": {},
     "output_type": "display_data"
    },
    {
     "name": "stdout",
     "output_type": "stream",
     "text": [
      "\n"
     ]
    }
   ],
   "source": [
    "print('user data:')\n",
    "print()\n",
    "user_data.info()\n",
    "display(user_data.head())\n",
    "print()\n"
   ]
  },
  {
   "cell_type": "code",
   "execution_count": 6,
   "metadata": {},
   "outputs": [
    {
     "name": "stdout",
     "output_type": "stream",
     "text": [
      "event data:\n",
      "\n",
      "<class 'pandas.core.frame.DataFrame'>\n",
      "RangeIndex: 423761 entries, 0 to 423760\n",
      "Data columns (total 4 columns):\n",
      "user_id       423761 non-null object\n",
      "event_dt      423761 non-null object\n",
      "event_name    423761 non-null object\n",
      "details       60314 non-null float64\n",
      "dtypes: float64(1), object(3)\n",
      "memory usage: 12.9+ MB\n"
     ]
    },
    {
     "data": {
      "text/html": [
       "<div>\n",
       "<style scoped>\n",
       "    .dataframe tbody tr th:only-of-type {\n",
       "        vertical-align: middle;\n",
       "    }\n",
       "\n",
       "    .dataframe tbody tr th {\n",
       "        vertical-align: top;\n",
       "    }\n",
       "\n",
       "    .dataframe thead th {\n",
       "        text-align: right;\n",
       "    }\n",
       "</style>\n",
       "<table border=\"1\" class=\"dataframe\">\n",
       "  <thead>\n",
       "    <tr style=\"text-align: right;\">\n",
       "      <th></th>\n",
       "      <th>user_id</th>\n",
       "      <th>event_dt</th>\n",
       "      <th>event_name</th>\n",
       "      <th>details</th>\n",
       "    </tr>\n",
       "  </thead>\n",
       "  <tbody>\n",
       "    <tr>\n",
       "      <td>0</td>\n",
       "      <td>E1BDDCE0DAFA2679</td>\n",
       "      <td>2020-12-07 20:22:03</td>\n",
       "      <td>purchase</td>\n",
       "      <td>99.99</td>\n",
       "    </tr>\n",
       "    <tr>\n",
       "      <td>1</td>\n",
       "      <td>7B6452F081F49504</td>\n",
       "      <td>2020-12-07 09:22:53</td>\n",
       "      <td>purchase</td>\n",
       "      <td>9.99</td>\n",
       "    </tr>\n",
       "    <tr>\n",
       "      <td>2</td>\n",
       "      <td>9CD9F34546DF254C</td>\n",
       "      <td>2020-12-07 12:59:29</td>\n",
       "      <td>purchase</td>\n",
       "      <td>4.99</td>\n",
       "    </tr>\n",
       "    <tr>\n",
       "      <td>3</td>\n",
       "      <td>96F27A054B191457</td>\n",
       "      <td>2020-12-07 04:02:40</td>\n",
       "      <td>purchase</td>\n",
       "      <td>4.99</td>\n",
       "    </tr>\n",
       "    <tr>\n",
       "      <td>4</td>\n",
       "      <td>1FD7660FDF94CA1F</td>\n",
       "      <td>2020-12-07 10:15:09</td>\n",
       "      <td>purchase</td>\n",
       "      <td>4.99</td>\n",
       "    </tr>\n",
       "  </tbody>\n",
       "</table>\n",
       "</div>"
      ],
      "text/plain": [
       "            user_id             event_dt event_name  details\n",
       "0  E1BDDCE0DAFA2679  2020-12-07 20:22:03   purchase    99.99\n",
       "1  7B6452F081F49504  2020-12-07 09:22:53   purchase     9.99\n",
       "2  9CD9F34546DF254C  2020-12-07 12:59:29   purchase     4.99\n",
       "3  96F27A054B191457  2020-12-07 04:02:40   purchase     4.99\n",
       "4  1FD7660FDF94CA1F  2020-12-07 10:15:09   purchase     4.99"
      ]
     },
     "metadata": {},
     "output_type": "display_data"
    },
    {
     "name": "stdout",
     "output_type": "stream",
     "text": [
      "\n"
     ]
    }
   ],
   "source": [
    "print('event data:')\n",
    "print()\n",
    "event_data.info()\n",
    "display(event_data.head())\n",
    "print()\n"
   ]
  },
  {
   "cell_type": "code",
   "execution_count": 7,
   "metadata": {},
   "outputs": [
    {
     "name": "stdout",
     "output_type": "stream",
     "text": [
      "paricipants data:\n",
      "\n",
      "<class 'pandas.core.frame.DataFrame'>\n",
      "RangeIndex: 14525 entries, 0 to 14524\n",
      "Data columns (total 3 columns):\n",
      "user_id    14525 non-null object\n",
      "group      14525 non-null object\n",
      "ab_test    14525 non-null object\n",
      "dtypes: object(3)\n",
      "memory usage: 340.6+ KB\n"
     ]
    },
    {
     "data": {
      "text/html": [
       "<div>\n",
       "<style scoped>\n",
       "    .dataframe tbody tr th:only-of-type {\n",
       "        vertical-align: middle;\n",
       "    }\n",
       "\n",
       "    .dataframe tbody tr th {\n",
       "        vertical-align: top;\n",
       "    }\n",
       "\n",
       "    .dataframe thead th {\n",
       "        text-align: right;\n",
       "    }\n",
       "</style>\n",
       "<table border=\"1\" class=\"dataframe\">\n",
       "  <thead>\n",
       "    <tr style=\"text-align: right;\">\n",
       "      <th></th>\n",
       "      <th>user_id</th>\n",
       "      <th>group</th>\n",
       "      <th>ab_test</th>\n",
       "    </tr>\n",
       "  </thead>\n",
       "  <tbody>\n",
       "    <tr>\n",
       "      <td>0</td>\n",
       "      <td>D1ABA3E2887B6A73</td>\n",
       "      <td>A</td>\n",
       "      <td>recommender_system_test</td>\n",
       "    </tr>\n",
       "    <tr>\n",
       "      <td>1</td>\n",
       "      <td>A7A3664BD6242119</td>\n",
       "      <td>A</td>\n",
       "      <td>recommender_system_test</td>\n",
       "    </tr>\n",
       "    <tr>\n",
       "      <td>2</td>\n",
       "      <td>DABC14FDDFADD29E</td>\n",
       "      <td>A</td>\n",
       "      <td>recommender_system_test</td>\n",
       "    </tr>\n",
       "    <tr>\n",
       "      <td>3</td>\n",
       "      <td>04988C5DF189632E</td>\n",
       "      <td>A</td>\n",
       "      <td>recommender_system_test</td>\n",
       "    </tr>\n",
       "    <tr>\n",
       "      <td>4</td>\n",
       "      <td>4FF2998A348C484F</td>\n",
       "      <td>A</td>\n",
       "      <td>recommender_system_test</td>\n",
       "    </tr>\n",
       "  </tbody>\n",
       "</table>\n",
       "</div>"
      ],
      "text/plain": [
       "            user_id group                  ab_test\n",
       "0  D1ABA3E2887B6A73     A  recommender_system_test\n",
       "1  A7A3664BD6242119     A  recommender_system_test\n",
       "2  DABC14FDDFADD29E     A  recommender_system_test\n",
       "3  04988C5DF189632E     A  recommender_system_test\n",
       "4  4FF2998A348C484F     A  recommender_system_test"
      ]
     },
     "metadata": {},
     "output_type": "display_data"
    }
   ],
   "source": [
    "print('paricipants data:')\n",
    "print()\n",
    "part_data.info()\n",
    "display(part_data.head())"
   ]
  },
  {
   "cell_type": "markdown",
   "metadata": {},
   "source": [
    "<a id='the_destination2'></a>\n",
    "### Data preprocessing and Changing Data types"
   ]
  },
  {
   "cell_type": "markdown",
   "metadata": {},
   "source": [
    "**Checking missing values and duplicates**"
   ]
  },
  {
   "cell_type": "code",
   "execution_count": 8,
   "metadata": {},
   "outputs": [
    {
     "name": "stdout",
     "output_type": "stream",
     "text": [
      "name         0\n",
      "regions      0\n",
      "start_dt     0\n",
      "finish_dt    0\n",
      "dtype: int64\n",
      "user_id       0\n",
      "first_date    0\n",
      "region        0\n",
      "device        0\n",
      "dtype: int64\n",
      "user_id            0\n",
      "event_dt           0\n",
      "event_name         0\n",
      "details       363447\n",
      "dtype: int64\n",
      "user_id    0\n",
      "group      0\n",
      "ab_test    0\n",
      "dtype: int64\n"
     ]
    }
   ],
   "source": [
    "# To check missing values\n",
    "print(mark_data.isnull().sum())\n",
    "print(user_data.isnull().sum())\n",
    "print(event_data.isnull().sum())\n",
    "print(part_data.isnull().sum())"
   ]
  },
  {
   "cell_type": "code",
   "execution_count": 9,
   "metadata": {},
   "outputs": [
    {
     "name": "stdout",
     "output_type": "stream",
     "text": [
      "There are in total  60314 times 'purchases' in 'event_name' column of 'event_data' data frame.\n"
     ]
    }
   ],
   "source": [
    "print(\"There are in total \", event_data['event_name'].value_counts()['purchase'] , \"times 'purchases' in 'event_name' column of 'event_data' data frame.\")"
   ]
  },
  {
   "cell_type": "code",
   "execution_count": 10,
   "metadata": {},
   "outputs": [],
   "source": [
    "# To fill the missing values of 'details' column with  0\n",
    "event_data['details']=event_data['details'].fillna(0)"
   ]
  },
  {
   "cell_type": "code",
   "execution_count": 11,
   "metadata": {},
   "outputs": [
    {
     "name": "stdout",
     "output_type": "stream",
     "text": [
      "0\n",
      "0\n",
      "0\n",
      "0\n"
     ]
    }
   ],
   "source": [
    "# To check if there are duplicates in given data frames\n",
    "\n",
    "print(mark_data.duplicated().sum())\n",
    "\n",
    "print(user_data.duplicated().sum())\n",
    "\n",
    "print(event_data.duplicated().sum())\n",
    "\n",
    "print(part_data.duplicated().sum())"
   ]
  },
  {
   "cell_type": "code",
   "execution_count": 12,
   "metadata": {},
   "outputs": [
    {
     "data": {
      "text/html": [
       "<div>\n",
       "<style scoped>\n",
       "    .dataframe tbody tr th:only-of-type {\n",
       "        vertical-align: middle;\n",
       "    }\n",
       "\n",
       "    .dataframe tbody tr th {\n",
       "        vertical-align: top;\n",
       "    }\n",
       "\n",
       "    .dataframe thead th {\n",
       "        text-align: right;\n",
       "    }\n",
       "</style>\n",
       "<table border=\"1\" class=\"dataframe\">\n",
       "  <thead>\n",
       "    <tr style=\"text-align: right;\">\n",
       "      <th></th>\n",
       "      <th>user_id</th>\n",
       "      <th>group</th>\n",
       "      <th>ab_test</th>\n",
       "    </tr>\n",
       "  </thead>\n",
       "  <tbody>\n",
       "  </tbody>\n",
       "</table>\n",
       "</div>"
      ],
      "text/plain": [
       "Empty DataFrame\n",
       "Columns: [user_id, group, ab_test]\n",
       "Index: []"
      ]
     },
     "metadata": {},
     "output_type": "display_data"
    }
   ],
   "source": [
    "# To show duplicates for all columns of part_data simultaneously\n",
    "display(part_data[part_data[part_data.columns.to_list()].duplicated() == True]) "
   ]
  },
  {
   "cell_type": "markdown",
   "metadata": {},
   "source": [
    "**Data type replacement**"
   ]
  },
  {
   "cell_type": "code",
   "execution_count": 13,
   "metadata": {},
   "outputs": [],
   "source": [
    "# To convert the data type of mark_data DataFrame into datetime format\n",
    "mark_data['start_dt'] = mark_data['start_dt'].astype('datetime64[ns]') \n",
    "mark_data['finish_dt'] = mark_data['finish_dt'].astype('datetime64[ns]') \n",
    "\n",
    "# To convert the data type of user_data DataFrame into datetime and category type\n",
    "user_data['region'] = user_data['region'].astype('category')\n",
    "user_data['device'] = user_data['device'].astype('category')\n",
    "user_data['first_date'] = user_data['first_date'].astype('datetime64[ns]') \n",
    "\n",
    "# To convert the data type of event_data DataFrame into datetime and category and float type\n",
    "event_data['event_dt'] = event_data['event_dt'].astype('datetime64[ns]') \n",
    "event_data['event_name'] = event_data['event_name'].astype('category')\n",
    "event_data['details'] = event_data['details'].astype('float64')\n",
    "\n",
    "# To convert the data type of part_data DataFrame into category type\n",
    "part_data['group'] = part_data['group'].astype('category')\n",
    "part_data['ab_test'] = part_data['ab_test'].astype('category')\n",
    "\n",
    "# Add a new column to store date from event_dt column of event_data DataFrame and then convert its type\n",
    "event_data['event_date']= event_data['event_dt'].dt.date\n",
    "event_data['event_date'] = event_data['event_date'].astype('datetime64[ns]') "
   ]
  },
  {
   "cell_type": "code",
   "execution_count": 14,
   "metadata": {},
   "outputs": [
    {
     "name": "stdout",
     "output_type": "stream",
     "text": [
      "<class 'pandas.core.frame.DataFrame'>\n",
      "RangeIndex: 423761 entries, 0 to 423760\n",
      "Data columns (total 5 columns):\n",
      "user_id       423761 non-null object\n",
      "event_dt      423761 non-null datetime64[ns]\n",
      "event_name    423761 non-null category\n",
      "details       423761 non-null float64\n",
      "event_date    423761 non-null datetime64[ns]\n",
      "dtypes: category(1), datetime64[ns](2), float64(1), object(1)\n",
      "memory usage: 13.3+ MB\n"
     ]
    }
   ],
   "source": [
    "event_data.info()"
   ]
  },
  {
   "cell_type": "markdown",
   "metadata": {},
   "source": [
    "<a id='the_destination3'></a>\n",
    "### Study, Check and Analysis of the Data Including Event Funnel"
   ]
  },
  {
   "cell_type": "markdown",
   "metadata": {},
   "source": [
    "**Finding users who participated in both test:**"
   ]
  },
  {
   "cell_type": "markdown",
   "metadata": {},
   "source": [
    "Now, we will find out the user who who participated in both test (recommender_system_test and interface_eu_test) and then, will show the user who participated in any one of two tests. \n",
    "- Indeed, we need to consider the users who participated in only one test."
   ]
  },
  {
   "cell_type": "code",
   "execution_count": 15,
   "metadata": {},
   "outputs": [
    {
     "name": "stdout",
     "output_type": "stream",
     "text": [
      "users who participated in both test:\n",
      "\n"
     ]
    },
    {
     "data": {
      "text/html": [
       "<div>\n",
       "<style scoped>\n",
       "    .dataframe tbody tr th:only-of-type {\n",
       "        vertical-align: middle;\n",
       "    }\n",
       "\n",
       "    .dataframe tbody tr th {\n",
       "        vertical-align: top;\n",
       "    }\n",
       "\n",
       "    .dataframe thead th {\n",
       "        text-align: right;\n",
       "    }\n",
       "</style>\n",
       "<table border=\"1\" class=\"dataframe\">\n",
       "  <thead>\n",
       "    <tr style=\"text-align: right;\">\n",
       "      <th></th>\n",
       "      <th>ab_test</th>\n",
       "    </tr>\n",
       "    <tr>\n",
       "      <th>user_id</th>\n",
       "      <th></th>\n",
       "    </tr>\n",
       "  </thead>\n",
       "  <tbody>\n",
       "    <tr>\n",
       "      <td>001064FEAAB631A1</td>\n",
       "      <td>2</td>\n",
       "    </tr>\n",
       "    <tr>\n",
       "      <td>00341D8401F0F665</td>\n",
       "      <td>2</td>\n",
       "    </tr>\n",
       "    <tr>\n",
       "      <td>0082295A41A867B5</td>\n",
       "      <td>2</td>\n",
       "    </tr>\n",
       "    <tr>\n",
       "      <td>00E68F103C66C1F7</td>\n",
       "      <td>2</td>\n",
       "    </tr>\n",
       "    <tr>\n",
       "      <td>00EFA157F7B6E1C4</td>\n",
       "      <td>2</td>\n",
       "    </tr>\n",
       "    <tr>\n",
       "      <td>...</td>\n",
       "      <td>...</td>\n",
       "    </tr>\n",
       "    <tr>\n",
       "      <td>FEA0C585A53E7027</td>\n",
       "      <td>2</td>\n",
       "    </tr>\n",
       "    <tr>\n",
       "      <td>FEC0BCA6C323872F</td>\n",
       "      <td>2</td>\n",
       "    </tr>\n",
       "    <tr>\n",
       "      <td>FF2174A1AA0EAD20</td>\n",
       "      <td>2</td>\n",
       "    </tr>\n",
       "    <tr>\n",
       "      <td>FF44696E39039D29</td>\n",
       "      <td>2</td>\n",
       "    </tr>\n",
       "    <tr>\n",
       "      <td>FFF28D02B1EACBE1</td>\n",
       "      <td>2</td>\n",
       "    </tr>\n",
       "  </tbody>\n",
       "</table>\n",
       "<p>887 rows × 1 columns</p>\n",
       "</div>"
      ],
      "text/plain": [
       "                  ab_test\n",
       "user_id                  \n",
       "001064FEAAB631A1        2\n",
       "00341D8401F0F665        2\n",
       "0082295A41A867B5        2\n",
       "00E68F103C66C1F7        2\n",
       "00EFA157F7B6E1C4        2\n",
       "...                   ...\n",
       "FEA0C585A53E7027        2\n",
       "FEC0BCA6C323872F        2\n",
       "FF2174A1AA0EAD20        2\n",
       "FF44696E39039D29        2\n",
       "FFF28D02B1EACBE1        2\n",
       "\n",
       "[887 rows x 1 columns]"
      ]
     },
     "metadata": {},
     "output_type": "display_data"
    },
    {
     "name": "stdout",
     "output_type": "stream",
     "text": [
      "\n",
      "user who participated in one test (either recommender_system_test or interface_eu_test):\n",
      "\n"
     ]
    },
    {
     "data": {
      "text/html": [
       "<div>\n",
       "<style scoped>\n",
       "    .dataframe tbody tr th:only-of-type {\n",
       "        vertical-align: middle;\n",
       "    }\n",
       "\n",
       "    .dataframe tbody tr th {\n",
       "        vertical-align: top;\n",
       "    }\n",
       "\n",
       "    .dataframe thead th {\n",
       "        text-align: right;\n",
       "    }\n",
       "</style>\n",
       "<table border=\"1\" class=\"dataframe\">\n",
       "  <thead>\n",
       "    <tr style=\"text-align: right;\">\n",
       "      <th></th>\n",
       "      <th>ab_test</th>\n",
       "    </tr>\n",
       "    <tr>\n",
       "      <th>user_id</th>\n",
       "      <th></th>\n",
       "    </tr>\n",
       "  </thead>\n",
       "  <tbody>\n",
       "    <tr>\n",
       "      <td>0002CE61FF2C4011</td>\n",
       "      <td>1</td>\n",
       "    </tr>\n",
       "    <tr>\n",
       "      <td>0010A1C096941592</td>\n",
       "      <td>1</td>\n",
       "    </tr>\n",
       "    <tr>\n",
       "      <td>001E72F50D1C48FA</td>\n",
       "      <td>1</td>\n",
       "    </tr>\n",
       "    <tr>\n",
       "      <td>002412F1EB3F6E38</td>\n",
       "      <td>1</td>\n",
       "    </tr>\n",
       "    <tr>\n",
       "      <td>002540BE89C930FB</td>\n",
       "      <td>1</td>\n",
       "    </tr>\n",
       "    <tr>\n",
       "      <td>...</td>\n",
       "      <td>...</td>\n",
       "    </tr>\n",
       "    <tr>\n",
       "      <td>FFE5B14BD55C1C5C</td>\n",
       "      <td>1</td>\n",
       "    </tr>\n",
       "    <tr>\n",
       "      <td>FFE600EEC4BA7685</td>\n",
       "      <td>1</td>\n",
       "    </tr>\n",
       "    <tr>\n",
       "      <td>FFE7FC140521F5F6</td>\n",
       "      <td>1</td>\n",
       "    </tr>\n",
       "    <tr>\n",
       "      <td>FFEFC0E55C1CCD4F</td>\n",
       "      <td>1</td>\n",
       "    </tr>\n",
       "    <tr>\n",
       "      <td>FFF58BC33966EB51</td>\n",
       "      <td>1</td>\n",
       "    </tr>\n",
       "  </tbody>\n",
       "</table>\n",
       "<p>12751 rows × 1 columns</p>\n",
       "</div>"
      ],
      "text/plain": [
       "                  ab_test\n",
       "user_id                  \n",
       "0002CE61FF2C4011        1\n",
       "0010A1C096941592        1\n",
       "001E72F50D1C48FA        1\n",
       "002412F1EB3F6E38        1\n",
       "002540BE89C930FB        1\n",
       "...                   ...\n",
       "FFE5B14BD55C1C5C        1\n",
       "FFE600EEC4BA7685        1\n",
       "FFE7FC140521F5F6        1\n",
       "FFEFC0E55C1CCD4F        1\n",
       "FFF58BC33966EB51        1\n",
       "\n",
       "[12751 rows x 1 columns]"
      ]
     },
     "metadata": {},
     "output_type": "display_data"
    }
   ],
   "source": [
    "counting_ab_test = part_data.groupby('user_id').agg({'ab_test': 'nunique'}) # list of user with number of belonging ab_test categ.\n",
    "include_2 = counting_ab_test[counting_ab_test['ab_test'] == 2] # user who participated in both test:\n",
    "print(\"users who participated in both test:\")\n",
    "print()\n",
    "display(include_2)\n",
    "print()\n",
    "\n",
    "include_1 = counting_ab_test[counting_ab_test['ab_test'] == 1] # user those who participated in one test (either recommender_system_test or interface_eu_test):\n",
    "print(\"user who participated in one test (either recommender_system_test or interface_eu_test):\")\n",
    "print()\n",
    "display(include_1)"
   ]
  },
  {
   "cell_type": "code",
   "execution_count": 16,
   "metadata": {},
   "outputs": [
    {
     "data": {
      "text/html": [
       "<div>\n",
       "<style scoped>\n",
       "    .dataframe tbody tr th:only-of-type {\n",
       "        vertical-align: middle;\n",
       "    }\n",
       "\n",
       "    .dataframe tbody tr th {\n",
       "        vertical-align: top;\n",
       "    }\n",
       "\n",
       "    .dataframe thead th {\n",
       "        text-align: right;\n",
       "    }\n",
       "</style>\n",
       "<table border=\"1\" class=\"dataframe\">\n",
       "  <thead>\n",
       "    <tr style=\"text-align: right;\">\n",
       "      <th></th>\n",
       "      <th>user_id</th>\n",
       "      <th>group</th>\n",
       "      <th>ab_test</th>\n",
       "    </tr>\n",
       "  </thead>\n",
       "  <tbody>\n",
       "    <tr>\n",
       "      <td>0</td>\n",
       "      <td>D1ABA3E2887B6A73</td>\n",
       "      <td>A</td>\n",
       "      <td>recommender_system_test</td>\n",
       "    </tr>\n",
       "    <tr>\n",
       "      <td>1</td>\n",
       "      <td>A7A3664BD6242119</td>\n",
       "      <td>A</td>\n",
       "      <td>recommender_system_test</td>\n",
       "    </tr>\n",
       "    <tr>\n",
       "      <td>4</td>\n",
       "      <td>4FF2998A348C484F</td>\n",
       "      <td>A</td>\n",
       "      <td>recommender_system_test</td>\n",
       "    </tr>\n",
       "    <tr>\n",
       "      <td>5</td>\n",
       "      <td>7473E0943673C09E</td>\n",
       "      <td>A</td>\n",
       "      <td>recommender_system_test</td>\n",
       "    </tr>\n",
       "    <tr>\n",
       "      <td>6</td>\n",
       "      <td>C46FE336D240A054</td>\n",
       "      <td>A</td>\n",
       "      <td>recommender_system_test</td>\n",
       "    </tr>\n",
       "  </tbody>\n",
       "</table>\n",
       "</div>"
      ],
      "text/plain": [
       "            user_id group                  ab_test\n",
       "0  D1ABA3E2887B6A73     A  recommender_system_test\n",
       "1  A7A3664BD6242119     A  recommender_system_test\n",
       "4  4FF2998A348C484F     A  recommender_system_test\n",
       "5  7473E0943673C09E     A  recommender_system_test\n",
       "6  C46FE336D240A054     A  recommender_system_test"
      ]
     },
     "metadata": {},
     "output_type": "display_data"
    }
   ],
   "source": [
    "# Considering the users who participated in one test (either recommender_system_test or interface_eu_test):\n",
    "filt_part_data = part_data[part_data['user_id'].isin(include_1.index)]\n",
    "\n",
    "#filt_part_data = part_data.reset_index()\n",
    "display(filt_part_data.head())"
   ]
  },
  {
   "cell_type": "markdown",
   "metadata": {},
   "source": [
    "**Finding users those are in both groups:**"
   ]
  },
  {
   "cell_type": "markdown",
   "metadata": {},
   "source": [
    "Now, we will find out the user who are in both group of A and B and then, will show the user who are only in any one group of A and B.\n",
    "- Indeed, we need to consider the user who are only in one group."
   ]
  },
  {
   "cell_type": "code",
   "execution_count": 17,
   "metadata": {},
   "outputs": [
    {
     "name": "stdout",
     "output_type": "stream",
     "text": [
      "user those are  in both group of A and B:\n",
      "\n"
     ]
    },
    {
     "data": {
      "text/html": [
       "<div>\n",
       "<style scoped>\n",
       "    .dataframe tbody tr th:only-of-type {\n",
       "        vertical-align: middle;\n",
       "    }\n",
       "\n",
       "    .dataframe tbody tr th {\n",
       "        vertical-align: top;\n",
       "    }\n",
       "\n",
       "    .dataframe thead th {\n",
       "        text-align: right;\n",
       "    }\n",
       "</style>\n",
       "<table border=\"1\" class=\"dataframe\">\n",
       "  <thead>\n",
       "    <tr style=\"text-align: right;\">\n",
       "      <th></th>\n",
       "      <th>group</th>\n",
       "    </tr>\n",
       "    <tr>\n",
       "      <th>user_id</th>\n",
       "      <th></th>\n",
       "    </tr>\n",
       "  </thead>\n",
       "  <tbody>\n",
       "  </tbody>\n",
       "</table>\n",
       "</div>"
      ],
      "text/plain": [
       "Empty DataFrame\n",
       "Columns: [group]\n",
       "Index: []"
      ]
     },
     "metadata": {},
     "output_type": "display_data"
    },
    {
     "name": "stdout",
     "output_type": "stream",
     "text": [
      "\n",
      "user those are only in any 1 group (either A or B):\n",
      "\n"
     ]
    },
    {
     "data": {
      "text/html": [
       "<div>\n",
       "<style scoped>\n",
       "    .dataframe tbody tr th:only-of-type {\n",
       "        vertical-align: middle;\n",
       "    }\n",
       "\n",
       "    .dataframe tbody tr th {\n",
       "        vertical-align: top;\n",
       "    }\n",
       "\n",
       "    .dataframe thead th {\n",
       "        text-align: right;\n",
       "    }\n",
       "</style>\n",
       "<table border=\"1\" class=\"dataframe\">\n",
       "  <thead>\n",
       "    <tr style=\"text-align: right;\">\n",
       "      <th></th>\n",
       "      <th>group</th>\n",
       "    </tr>\n",
       "    <tr>\n",
       "      <th>user_id</th>\n",
       "      <th></th>\n",
       "    </tr>\n",
       "  </thead>\n",
       "  <tbody>\n",
       "    <tr>\n",
       "      <td>0002CE61FF2C4011</td>\n",
       "      <td>1</td>\n",
       "    </tr>\n",
       "    <tr>\n",
       "      <td>0010A1C096941592</td>\n",
       "      <td>1</td>\n",
       "    </tr>\n",
       "    <tr>\n",
       "      <td>001E72F50D1C48FA</td>\n",
       "      <td>1</td>\n",
       "    </tr>\n",
       "    <tr>\n",
       "      <td>002412F1EB3F6E38</td>\n",
       "      <td>1</td>\n",
       "    </tr>\n",
       "    <tr>\n",
       "      <td>002540BE89C930FB</td>\n",
       "      <td>1</td>\n",
       "    </tr>\n",
       "    <tr>\n",
       "      <td>...</td>\n",
       "      <td>...</td>\n",
       "    </tr>\n",
       "    <tr>\n",
       "      <td>FFE5B14BD55C1C5C</td>\n",
       "      <td>1</td>\n",
       "    </tr>\n",
       "    <tr>\n",
       "      <td>FFE600EEC4BA7685</td>\n",
       "      <td>1</td>\n",
       "    </tr>\n",
       "    <tr>\n",
       "      <td>FFE7FC140521F5F6</td>\n",
       "      <td>1</td>\n",
       "    </tr>\n",
       "    <tr>\n",
       "      <td>FFEFC0E55C1CCD4F</td>\n",
       "      <td>1</td>\n",
       "    </tr>\n",
       "    <tr>\n",
       "      <td>FFF58BC33966EB51</td>\n",
       "      <td>1</td>\n",
       "    </tr>\n",
       "  </tbody>\n",
       "</table>\n",
       "<p>12751 rows × 1 columns</p>\n",
       "</div>"
      ],
      "text/plain": [
       "                  group\n",
       "user_id                \n",
       "0002CE61FF2C4011      1\n",
       "0010A1C096941592      1\n",
       "001E72F50D1C48FA      1\n",
       "002412F1EB3F6E38      1\n",
       "002540BE89C930FB      1\n",
       "...                 ...\n",
       "FFE5B14BD55C1C5C      1\n",
       "FFE600EEC4BA7685      1\n",
       "FFE7FC140521F5F6      1\n",
       "FFEFC0E55C1CCD4F      1\n",
       "FFF58BC33966EB51      1\n",
       "\n",
       "[12751 rows x 1 columns]"
      ]
     },
     "metadata": {},
     "output_type": "display_data"
    }
   ],
   "source": [
    "counting_group = filt_part_data.groupby('user_id').agg({'group': 'nunique'}) # list of user with number of belonging groups\n",
    "include_2 = counting_group[counting_group['group'] == 2] # user those are  in both group of A and B\n",
    "print(\"user those are  in both group of A and B:\")\n",
    "print()\n",
    "display(include_2)\n",
    "print()\n",
    "\n",
    "include_1 = counting_group[counting_group['group'] == 1] # user those are only in any 1 group (either A or B)\n",
    "print(\"user those are only in any 1 group (either A or B):\")\n",
    "print()\n",
    "display(include_1)"
   ]
  },
  {
   "cell_type": "code",
   "execution_count": 18,
   "metadata": {},
   "outputs": [
    {
     "data": {
      "text/html": [
       "<div>\n",
       "<style scoped>\n",
       "    .dataframe tbody tr th:only-of-type {\n",
       "        vertical-align: middle;\n",
       "    }\n",
       "\n",
       "    .dataframe tbody tr th {\n",
       "        vertical-align: top;\n",
       "    }\n",
       "\n",
       "    .dataframe thead th {\n",
       "        text-align: right;\n",
       "    }\n",
       "</style>\n",
       "<table border=\"1\" class=\"dataframe\">\n",
       "  <thead>\n",
       "    <tr style=\"text-align: right;\">\n",
       "      <th></th>\n",
       "      <th>index</th>\n",
       "      <th>user_id</th>\n",
       "      <th>group</th>\n",
       "      <th>ab_test</th>\n",
       "    </tr>\n",
       "  </thead>\n",
       "  <tbody>\n",
       "    <tr>\n",
       "      <td>0</td>\n",
       "      <td>0</td>\n",
       "      <td>D1ABA3E2887B6A73</td>\n",
       "      <td>A</td>\n",
       "      <td>recommender_system_test</td>\n",
       "    </tr>\n",
       "    <tr>\n",
       "      <td>1</td>\n",
       "      <td>1</td>\n",
       "      <td>A7A3664BD6242119</td>\n",
       "      <td>A</td>\n",
       "      <td>recommender_system_test</td>\n",
       "    </tr>\n",
       "    <tr>\n",
       "      <td>2</td>\n",
       "      <td>4</td>\n",
       "      <td>4FF2998A348C484F</td>\n",
       "      <td>A</td>\n",
       "      <td>recommender_system_test</td>\n",
       "    </tr>\n",
       "    <tr>\n",
       "      <td>3</td>\n",
       "      <td>5</td>\n",
       "      <td>7473E0943673C09E</td>\n",
       "      <td>A</td>\n",
       "      <td>recommender_system_test</td>\n",
       "    </tr>\n",
       "    <tr>\n",
       "      <td>4</td>\n",
       "      <td>6</td>\n",
       "      <td>C46FE336D240A054</td>\n",
       "      <td>A</td>\n",
       "      <td>recommender_system_test</td>\n",
       "    </tr>\n",
       "  </tbody>\n",
       "</table>\n",
       "</div>"
      ],
      "text/plain": [
       "   index           user_id group                  ab_test\n",
       "0      0  D1ABA3E2887B6A73     A  recommender_system_test\n",
       "1      1  A7A3664BD6242119     A  recommender_system_test\n",
       "2      4  4FF2998A348C484F     A  recommender_system_test\n",
       "3      5  7473E0943673C09E     A  recommender_system_test\n",
       "4      6  C46FE336D240A054     A  recommender_system_test"
      ]
     },
     "metadata": {},
     "output_type": "display_data"
    }
   ],
   "source": [
    "# Considering the users who are only in one group (either in A or in B)\n",
    "filt_part_data = filt_part_data[filt_part_data['user_id'].isin(include_1.index)]\n",
    "filt_part_data = filt_part_data.reset_index()\n",
    "display(filt_part_data.head())"
   ]
  },
  {
   "cell_type": "markdown",
   "metadata": {},
   "source": [
    "**Considering the users who paticipated in \"recommender_system_test\":**"
   ]
  },
  {
   "cell_type": "code",
   "execution_count": 19,
   "metadata": {},
   "outputs": [
    {
     "data": {
      "text/html": [
       "<div>\n",
       "<style scoped>\n",
       "    .dataframe tbody tr th:only-of-type {\n",
       "        vertical-align: middle;\n",
       "    }\n",
       "\n",
       "    .dataframe tbody tr th {\n",
       "        vertical-align: top;\n",
       "    }\n",
       "\n",
       "    .dataframe thead th {\n",
       "        text-align: right;\n",
       "    }\n",
       "</style>\n",
       "<table border=\"1\" class=\"dataframe\">\n",
       "  <thead>\n",
       "    <tr style=\"text-align: right;\">\n",
       "      <th></th>\n",
       "      <th>index</th>\n",
       "      <th>user_id</th>\n",
       "      <th>group</th>\n",
       "      <th>ab_test</th>\n",
       "    </tr>\n",
       "  </thead>\n",
       "  <tbody>\n",
       "    <tr>\n",
       "      <td>0</td>\n",
       "      <td>0</td>\n",
       "      <td>D1ABA3E2887B6A73</td>\n",
       "      <td>A</td>\n",
       "      <td>recommender_system_test</td>\n",
       "    </tr>\n",
       "    <tr>\n",
       "      <td>1</td>\n",
       "      <td>1</td>\n",
       "      <td>A7A3664BD6242119</td>\n",
       "      <td>A</td>\n",
       "      <td>recommender_system_test</td>\n",
       "    </tr>\n",
       "    <tr>\n",
       "      <td>2</td>\n",
       "      <td>4</td>\n",
       "      <td>4FF2998A348C484F</td>\n",
       "      <td>A</td>\n",
       "      <td>recommender_system_test</td>\n",
       "    </tr>\n",
       "    <tr>\n",
       "      <td>3</td>\n",
       "      <td>5</td>\n",
       "      <td>7473E0943673C09E</td>\n",
       "      <td>A</td>\n",
       "      <td>recommender_system_test</td>\n",
       "    </tr>\n",
       "    <tr>\n",
       "      <td>4</td>\n",
       "      <td>6</td>\n",
       "      <td>C46FE336D240A054</td>\n",
       "      <td>A</td>\n",
       "      <td>recommender_system_test</td>\n",
       "    </tr>\n",
       "  </tbody>\n",
       "</table>\n",
       "</div>"
      ],
      "text/plain": [
       "   index           user_id group                  ab_test\n",
       "0      0  D1ABA3E2887B6A73     A  recommender_system_test\n",
       "1      1  A7A3664BD6242119     A  recommender_system_test\n",
       "2      4  4FF2998A348C484F     A  recommender_system_test\n",
       "3      5  7473E0943673C09E     A  recommender_system_test\n",
       "4      6  C46FE336D240A054     A  recommender_system_test"
      ]
     },
     "metadata": {},
     "output_type": "display_data"
    }
   ],
   "source": [
    "# Considering the users who paticipated in \"recommender_system_test\"\n",
    "filt_part_data = filt_part_data.query(' ab_test == \"recommender_system_test\" ')\n",
    "display(filt_part_data.head())"
   ]
  },
  {
   "cell_type": "code",
   "execution_count": 20,
   "metadata": {},
   "outputs": [
    {
     "name": "stdout",
     "output_type": "stream",
     "text": [
      "2020-12-07 00:00:00\n",
      "2020-12-30 00:00:00\n"
     ]
    }
   ],
   "source": [
    "print(event_data['event_date'].min())\n",
    "print(event_data['event_date'].max())"
   ]
  },
  {
   "cell_type": "code",
   "execution_count": 21,
   "metadata": {},
   "outputs": [
    {
     "name": "stdout",
     "output_type": "stream",
     "text": [
      "starting date for first_date column of user_data DataFrame:  2020-12-07 00:00:00\n",
      "Ending date for first_date column of user_data DataFrame:  2020-12-23 00:00:00\n"
     ]
    }
   ],
   "source": [
    "print(\"starting date for first_date column of user_data DataFrame: \", user_data['first_date'].min())\n",
    "print(\"Ending date for first_date column of user_data DataFrame: \", user_data['first_date'].max())"
   ]
  },
  {
   "cell_type": "markdown",
   "metadata": {},
   "source": [
    "**filtering users data in terms of first date:**"
   ]
  },
  {
   "cell_type": "code",
   "execution_count": 22,
   "metadata": {},
   "outputs": [
    {
     "data": {
      "text/html": [
       "<div>\n",
       "<style scoped>\n",
       "    .dataframe tbody tr th:only-of-type {\n",
       "        vertical-align: middle;\n",
       "    }\n",
       "\n",
       "    .dataframe tbody tr th {\n",
       "        vertical-align: top;\n",
       "    }\n",
       "\n",
       "    .dataframe thead th {\n",
       "        text-align: right;\n",
       "    }\n",
       "</style>\n",
       "<table border=\"1\" class=\"dataframe\">\n",
       "  <thead>\n",
       "    <tr style=\"text-align: right;\">\n",
       "      <th></th>\n",
       "      <th>user_id</th>\n",
       "      <th>first_date</th>\n",
       "      <th>region</th>\n",
       "      <th>device</th>\n",
       "    </tr>\n",
       "  </thead>\n",
       "  <tbody>\n",
       "    <tr>\n",
       "      <td>0</td>\n",
       "      <td>D72A72121175D8BE</td>\n",
       "      <td>2020-12-07</td>\n",
       "      <td>EU</td>\n",
       "      <td>PC</td>\n",
       "    </tr>\n",
       "    <tr>\n",
       "      <td>1</td>\n",
       "      <td>F1C668619DFE6E65</td>\n",
       "      <td>2020-12-07</td>\n",
       "      <td>N.America</td>\n",
       "      <td>Android</td>\n",
       "    </tr>\n",
       "    <tr>\n",
       "      <td>2</td>\n",
       "      <td>2E1BF1D4C37EA01F</td>\n",
       "      <td>2020-12-07</td>\n",
       "      <td>EU</td>\n",
       "      <td>PC</td>\n",
       "    </tr>\n",
       "    <tr>\n",
       "      <td>3</td>\n",
       "      <td>50734A22C0C63768</td>\n",
       "      <td>2020-12-07</td>\n",
       "      <td>EU</td>\n",
       "      <td>iPhone</td>\n",
       "    </tr>\n",
       "    <tr>\n",
       "      <td>4</td>\n",
       "      <td>E1BDDCE0DAFA2679</td>\n",
       "      <td>2020-12-07</td>\n",
       "      <td>N.America</td>\n",
       "      <td>iPhone</td>\n",
       "    </tr>\n",
       "  </tbody>\n",
       "</table>\n",
       "</div>"
      ],
      "text/plain": [
       "            user_id first_date     region   device\n",
       "0  D72A72121175D8BE 2020-12-07         EU       PC\n",
       "1  F1C668619DFE6E65 2020-12-07  N.America  Android\n",
       "2  2E1BF1D4C37EA01F 2020-12-07         EU       PC\n",
       "3  50734A22C0C63768 2020-12-07         EU   iPhone\n",
       "4  E1BDDCE0DAFA2679 2020-12-07  N.America   iPhone"
      ]
     },
     "metadata": {},
     "output_type": "display_data"
    }
   ],
   "source": [
    "# filtering user_data in terms of first_date since on 2020-12-21 they stopped taking up new users\n",
    "user_data = user_data.query(' first_date >= \"2020-12-07\" and first_date<= \"2020-12-21\" ')\n",
    "display(user_data.head())"
   ]
  },
  {
   "cell_type": "code",
   "execution_count": 23,
   "metadata": {},
   "outputs": [
    {
     "data": {
      "text/html": [
       "<div>\n",
       "<style scoped>\n",
       "    .dataframe tbody tr th:only-of-type {\n",
       "        vertical-align: middle;\n",
       "    }\n",
       "\n",
       "    .dataframe tbody tr th {\n",
       "        vertical-align: top;\n",
       "    }\n",
       "\n",
       "    .dataframe thead th {\n",
       "        text-align: right;\n",
       "    }\n",
       "</style>\n",
       "<table border=\"1\" class=\"dataframe\">\n",
       "  <thead>\n",
       "    <tr style=\"text-align: right;\">\n",
       "      <th></th>\n",
       "      <th>user_id</th>\n",
       "      <th>event_dt</th>\n",
       "      <th>event_name</th>\n",
       "      <th>details</th>\n",
       "      <th>event_date</th>\n",
       "      <th>first_date</th>\n",
       "      <th>region</th>\n",
       "      <th>device</th>\n",
       "    </tr>\n",
       "  </thead>\n",
       "  <tbody>\n",
       "    <tr>\n",
       "      <td>0</td>\n",
       "      <td>E1BDDCE0DAFA2679</td>\n",
       "      <td>2020-12-07 20:22:03</td>\n",
       "      <td>purchase</td>\n",
       "      <td>99.99</td>\n",
       "      <td>2020-12-07</td>\n",
       "      <td>2020-12-07</td>\n",
       "      <td>N.America</td>\n",
       "      <td>iPhone</td>\n",
       "    </tr>\n",
       "    <tr>\n",
       "      <td>1</td>\n",
       "      <td>7B6452F081F49504</td>\n",
       "      <td>2020-12-07 09:22:53</td>\n",
       "      <td>purchase</td>\n",
       "      <td>9.99</td>\n",
       "      <td>2020-12-07</td>\n",
       "      <td>2020-12-07</td>\n",
       "      <td>EU</td>\n",
       "      <td>iPhone</td>\n",
       "    </tr>\n",
       "    <tr>\n",
       "      <td>2</td>\n",
       "      <td>9CD9F34546DF254C</td>\n",
       "      <td>2020-12-07 12:59:29</td>\n",
       "      <td>purchase</td>\n",
       "      <td>4.99</td>\n",
       "      <td>2020-12-07</td>\n",
       "      <td>2020-12-07</td>\n",
       "      <td>N.America</td>\n",
       "      <td>iPhone</td>\n",
       "    </tr>\n",
       "    <tr>\n",
       "      <td>3</td>\n",
       "      <td>96F27A054B191457</td>\n",
       "      <td>2020-12-07 04:02:40</td>\n",
       "      <td>purchase</td>\n",
       "      <td>4.99</td>\n",
       "      <td>2020-12-07</td>\n",
       "      <td>2020-12-07</td>\n",
       "      <td>EU</td>\n",
       "      <td>iPhone</td>\n",
       "    </tr>\n",
       "    <tr>\n",
       "      <td>4</td>\n",
       "      <td>1FD7660FDF94CA1F</td>\n",
       "      <td>2020-12-07 10:15:09</td>\n",
       "      <td>purchase</td>\n",
       "      <td>4.99</td>\n",
       "      <td>2020-12-07</td>\n",
       "      <td>2020-12-07</td>\n",
       "      <td>EU</td>\n",
       "      <td>Android</td>\n",
       "    </tr>\n",
       "  </tbody>\n",
       "</table>\n",
       "</div>"
      ],
      "text/plain": [
       "            user_id            event_dt event_name  details event_date  \\\n",
       "0  E1BDDCE0DAFA2679 2020-12-07 20:22:03   purchase    99.99 2020-12-07   \n",
       "1  7B6452F081F49504 2020-12-07 09:22:53   purchase     9.99 2020-12-07   \n",
       "2  9CD9F34546DF254C 2020-12-07 12:59:29   purchase     4.99 2020-12-07   \n",
       "3  96F27A054B191457 2020-12-07 04:02:40   purchase     4.99 2020-12-07   \n",
       "4  1FD7660FDF94CA1F 2020-12-07 10:15:09   purchase     4.99 2020-12-07   \n",
       "\n",
       "  first_date     region   device  \n",
       "0 2020-12-07  N.America   iPhone  \n",
       "1 2020-12-07         EU   iPhone  \n",
       "2 2020-12-07  N.America   iPhone  \n",
       "3 2020-12-07         EU   iPhone  \n",
       "4 2020-12-07         EU  Android  "
      ]
     },
     "metadata": {},
     "output_type": "display_data"
    }
   ],
   "source": [
    "# To merge the event_data dataframe and user_data data frame\n",
    "event_user_data = pd.merge(event_data, user_data, how= 'left', on = 'user_id')\n",
    "display(event_user_data.head())"
   ]
  },
  {
   "cell_type": "code",
   "execution_count": 24,
   "metadata": {},
   "outputs": [],
   "source": [
    "# Initially we add a seperate column to show the difference of days of signing up and event date\n",
    "event_user_data['difference'] = (event_user_data['event_date'] - event_user_data['first_date']).dt.days"
   ]
  },
  {
   "cell_type": "code",
   "execution_count": 25,
   "metadata": {},
   "outputs": [
    {
     "data": {
      "text/html": [
       "<div>\n",
       "<style scoped>\n",
       "    .dataframe tbody tr th:only-of-type {\n",
       "        vertical-align: middle;\n",
       "    }\n",
       "\n",
       "    .dataframe tbody tr th {\n",
       "        vertical-align: top;\n",
       "    }\n",
       "\n",
       "    .dataframe thead th {\n",
       "        text-align: right;\n",
       "    }\n",
       "</style>\n",
       "<table border=\"1\" class=\"dataframe\">\n",
       "  <thead>\n",
       "    <tr style=\"text-align: right;\">\n",
       "      <th></th>\n",
       "      <th>user_id</th>\n",
       "      <th>event_dt</th>\n",
       "      <th>event_name</th>\n",
       "      <th>details</th>\n",
       "      <th>event_date</th>\n",
       "      <th>first_date</th>\n",
       "      <th>region</th>\n",
       "      <th>device</th>\n",
       "      <th>difference</th>\n",
       "    </tr>\n",
       "  </thead>\n",
       "  <tbody>\n",
       "    <tr>\n",
       "      <td>66638</td>\n",
       "      <td>E459CE9C1B1643BC</td>\n",
       "      <td>2020-12-10 10:13:16</td>\n",
       "      <td>product_cart</td>\n",
       "      <td>0.0</td>\n",
       "      <td>2020-12-10</td>\n",
       "      <td>2020-12-10</td>\n",
       "      <td>EU</td>\n",
       "      <td>PC</td>\n",
       "      <td>0.0</td>\n",
       "    </tr>\n",
       "    <tr>\n",
       "      <td>90931</td>\n",
       "      <td>0E4C7231A7414F3A</td>\n",
       "      <td>2020-12-18 09:44:10</td>\n",
       "      <td>product_cart</td>\n",
       "      <td>0.0</td>\n",
       "      <td>2020-12-18</td>\n",
       "      <td>2020-12-12</td>\n",
       "      <td>EU</td>\n",
       "      <td>PC</td>\n",
       "      <td>6.0</td>\n",
       "    </tr>\n",
       "    <tr>\n",
       "      <td>155135</td>\n",
       "      <td>7B1B0B8F93E01AA0</td>\n",
       "      <td>2020-12-14 05:56:25</td>\n",
       "      <td>product_page</td>\n",
       "      <td>0.0</td>\n",
       "      <td>2020-12-14</td>\n",
       "      <td>2020-12-12</td>\n",
       "      <td>EU</td>\n",
       "      <td>Android</td>\n",
       "      <td>2.0</td>\n",
       "    </tr>\n",
       "    <tr>\n",
       "      <td>412516</td>\n",
       "      <td>3244CA66292B190A</td>\n",
       "      <td>2020-12-27 11:43:28</td>\n",
       "      <td>login</td>\n",
       "      <td>0.0</td>\n",
       "      <td>2020-12-27</td>\n",
       "      <td>2020-12-17</td>\n",
       "      <td>N.America</td>\n",
       "      <td>Android</td>\n",
       "      <td>10.0</td>\n",
       "    </tr>\n",
       "    <tr>\n",
       "      <td>73513</td>\n",
       "      <td>8E902D5364430CED</td>\n",
       "      <td>2020-12-13 21:21:47</td>\n",
       "      <td>product_cart</td>\n",
       "      <td>0.0</td>\n",
       "      <td>2020-12-13</td>\n",
       "      <td>2020-12-13</td>\n",
       "      <td>EU</td>\n",
       "      <td>iPhone</td>\n",
       "      <td>0.0</td>\n",
       "    </tr>\n",
       "  </tbody>\n",
       "</table>\n",
       "</div>"
      ],
      "text/plain": [
       "                 user_id            event_dt    event_name  details  \\\n",
       "66638   E459CE9C1B1643BC 2020-12-10 10:13:16  product_cart      0.0   \n",
       "90931   0E4C7231A7414F3A 2020-12-18 09:44:10  product_cart      0.0   \n",
       "155135  7B1B0B8F93E01AA0 2020-12-14 05:56:25  product_page      0.0   \n",
       "412516  3244CA66292B190A 2020-12-27 11:43:28         login      0.0   \n",
       "73513   8E902D5364430CED 2020-12-13 21:21:47  product_cart      0.0   \n",
       "\n",
       "       event_date first_date     region   device  difference  \n",
       "66638  2020-12-10 2020-12-10         EU       PC         0.0  \n",
       "90931  2020-12-18 2020-12-12         EU       PC         6.0  \n",
       "155135 2020-12-14 2020-12-12         EU  Android         2.0  \n",
       "412516 2020-12-27 2020-12-17  N.America  Android        10.0  \n",
       "73513  2020-12-13 2020-12-13         EU   iPhone         0.0  "
      ]
     },
     "metadata": {},
     "output_type": "display_data"
    }
   ],
   "source": [
    "# filtering the data to consider only less than or equal to 14 days\n",
    "event_user_data = event_user_data.query(' difference <=14 ')\n",
    "display(event_user_data.sample(5))"
   ]
  },
  {
   "cell_type": "code",
   "execution_count": 26,
   "metadata": {},
   "outputs": [
    {
     "data": {
      "text/html": [
       "<div>\n",
       "<style scoped>\n",
       "    .dataframe tbody tr th:only-of-type {\n",
       "        vertical-align: middle;\n",
       "    }\n",
       "\n",
       "    .dataframe tbody tr th {\n",
       "        vertical-align: top;\n",
       "    }\n",
       "\n",
       "    .dataframe thead th {\n",
       "        text-align: right;\n",
       "    }\n",
       "</style>\n",
       "<table border=\"1\" class=\"dataframe\">\n",
       "  <thead>\n",
       "    <tr style=\"text-align: right;\">\n",
       "      <th></th>\n",
       "      <th>index</th>\n",
       "      <th>user_id</th>\n",
       "      <th>group</th>\n",
       "      <th>ab_test</th>\n",
       "      <th>event_dt</th>\n",
       "      <th>event_name</th>\n",
       "      <th>details</th>\n",
       "      <th>event_date</th>\n",
       "      <th>first_date</th>\n",
       "      <th>region</th>\n",
       "      <th>device</th>\n",
       "      <th>difference</th>\n",
       "    </tr>\n",
       "  </thead>\n",
       "  <tbody>\n",
       "    <tr>\n",
       "      <td>0</td>\n",
       "      <td>0</td>\n",
       "      <td>D1ABA3E2887B6A73</td>\n",
       "      <td>A</td>\n",
       "      <td>recommender_system_test</td>\n",
       "      <td>2020-12-07 14:43:27</td>\n",
       "      <td>purchase</td>\n",
       "      <td>99.99</td>\n",
       "      <td>2020-12-07</td>\n",
       "      <td>2020-12-07</td>\n",
       "      <td>EU</td>\n",
       "      <td>PC</td>\n",
       "      <td>0.0</td>\n",
       "    </tr>\n",
       "    <tr>\n",
       "      <td>1</td>\n",
       "      <td>0</td>\n",
       "      <td>D1ABA3E2887B6A73</td>\n",
       "      <td>A</td>\n",
       "      <td>recommender_system_test</td>\n",
       "      <td>2020-12-07 14:43:29</td>\n",
       "      <td>product_cart</td>\n",
       "      <td>0.00</td>\n",
       "      <td>2020-12-07</td>\n",
       "      <td>2020-12-07</td>\n",
       "      <td>EU</td>\n",
       "      <td>PC</td>\n",
       "      <td>0.0</td>\n",
       "    </tr>\n",
       "    <tr>\n",
       "      <td>2</td>\n",
       "      <td>0</td>\n",
       "      <td>D1ABA3E2887B6A73</td>\n",
       "      <td>A</td>\n",
       "      <td>recommender_system_test</td>\n",
       "      <td>2020-12-07 14:43:27</td>\n",
       "      <td>product_page</td>\n",
       "      <td>0.00</td>\n",
       "      <td>2020-12-07</td>\n",
       "      <td>2020-12-07</td>\n",
       "      <td>EU</td>\n",
       "      <td>PC</td>\n",
       "      <td>0.0</td>\n",
       "    </tr>\n",
       "    <tr>\n",
       "      <td>3</td>\n",
       "      <td>0</td>\n",
       "      <td>D1ABA3E2887B6A73</td>\n",
       "      <td>A</td>\n",
       "      <td>recommender_system_test</td>\n",
       "      <td>2020-12-07 14:43:27</td>\n",
       "      <td>login</td>\n",
       "      <td>0.00</td>\n",
       "      <td>2020-12-07</td>\n",
       "      <td>2020-12-07</td>\n",
       "      <td>EU</td>\n",
       "      <td>PC</td>\n",
       "      <td>0.0</td>\n",
       "    </tr>\n",
       "    <tr>\n",
       "      <td>4</td>\n",
       "      <td>1</td>\n",
       "      <td>A7A3664BD6242119</td>\n",
       "      <td>A</td>\n",
       "      <td>recommender_system_test</td>\n",
       "      <td>2020-12-20 15:46:06</td>\n",
       "      <td>product_page</td>\n",
       "      <td>0.00</td>\n",
       "      <td>2020-12-20</td>\n",
       "      <td>2020-12-20</td>\n",
       "      <td>EU</td>\n",
       "      <td>iPhone</td>\n",
       "      <td>0.0</td>\n",
       "    </tr>\n",
       "  </tbody>\n",
       "</table>\n",
       "</div>"
      ],
      "text/plain": [
       "   index           user_id group                  ab_test            event_dt  \\\n",
       "0      0  D1ABA3E2887B6A73     A  recommender_system_test 2020-12-07 14:43:27   \n",
       "1      0  D1ABA3E2887B6A73     A  recommender_system_test 2020-12-07 14:43:29   \n",
       "2      0  D1ABA3E2887B6A73     A  recommender_system_test 2020-12-07 14:43:27   \n",
       "3      0  D1ABA3E2887B6A73     A  recommender_system_test 2020-12-07 14:43:27   \n",
       "4      1  A7A3664BD6242119     A  recommender_system_test 2020-12-20 15:46:06   \n",
       "\n",
       "     event_name  details event_date first_date region  device  difference  \n",
       "0      purchase    99.99 2020-12-07 2020-12-07     EU      PC         0.0  \n",
       "1  product_cart     0.00 2020-12-07 2020-12-07     EU      PC         0.0  \n",
       "2  product_page     0.00 2020-12-07 2020-12-07     EU      PC         0.0  \n",
       "3         login     0.00 2020-12-07 2020-12-07     EU      PC         0.0  \n",
       "4  product_page     0.00 2020-12-20 2020-12-20     EU  iPhone         0.0  "
      ]
     },
     "metadata": {},
     "output_type": "display_data"
    }
   ],
   "source": [
    "# To merge the filt_part_data dataframe and event_user_data data frame\n",
    "new_df = pd.merge(filt_part_data, event_user_data, how= 'left', on = 'user_id')\n",
    "display(new_df.head())"
   ]
  },
  {
   "cell_type": "code",
   "execution_count": 27,
   "metadata": {},
   "outputs": [
    {
     "data": {
      "text/html": [
       "<div>\n",
       "<style scoped>\n",
       "    .dataframe tbody tr th:only-of-type {\n",
       "        vertical-align: middle;\n",
       "    }\n",
       "\n",
       "    .dataframe tbody tr th {\n",
       "        vertical-align: top;\n",
       "    }\n",
       "\n",
       "    .dataframe thead th {\n",
       "        text-align: right;\n",
       "    }\n",
       "</style>\n",
       "<table border=\"1\" class=\"dataframe\">\n",
       "  <thead>\n",
       "    <tr style=\"text-align: right;\">\n",
       "      <th></th>\n",
       "      <th>index</th>\n",
       "      <th>user_id</th>\n",
       "      <th>group</th>\n",
       "      <th>ab_test</th>\n",
       "      <th>first_date</th>\n",
       "      <th>region</th>\n",
       "      <th>device</th>\n",
       "    </tr>\n",
       "  </thead>\n",
       "  <tbody>\n",
       "    <tr>\n",
       "      <td>0</td>\n",
       "      <td>0</td>\n",
       "      <td>D1ABA3E2887B6A73</td>\n",
       "      <td>A</td>\n",
       "      <td>recommender_system_test</td>\n",
       "      <td>2020-12-07</td>\n",
       "      <td>EU</td>\n",
       "      <td>PC</td>\n",
       "    </tr>\n",
       "    <tr>\n",
       "      <td>1</td>\n",
       "      <td>1</td>\n",
       "      <td>A7A3664BD6242119</td>\n",
       "      <td>A</td>\n",
       "      <td>recommender_system_test</td>\n",
       "      <td>2020-12-20</td>\n",
       "      <td>EU</td>\n",
       "      <td>iPhone</td>\n",
       "    </tr>\n",
       "    <tr>\n",
       "      <td>2</td>\n",
       "      <td>4</td>\n",
       "      <td>4FF2998A348C484F</td>\n",
       "      <td>A</td>\n",
       "      <td>recommender_system_test</td>\n",
       "      <td>2020-12-20</td>\n",
       "      <td>EU</td>\n",
       "      <td>Mac</td>\n",
       "    </tr>\n",
       "    <tr>\n",
       "      <td>3</td>\n",
       "      <td>5</td>\n",
       "      <td>7473E0943673C09E</td>\n",
       "      <td>A</td>\n",
       "      <td>recommender_system_test</td>\n",
       "      <td>2020-12-16</td>\n",
       "      <td>EU</td>\n",
       "      <td>iPhone</td>\n",
       "    </tr>\n",
       "    <tr>\n",
       "      <td>4</td>\n",
       "      <td>6</td>\n",
       "      <td>C46FE336D240A054</td>\n",
       "      <td>A</td>\n",
       "      <td>recommender_system_test</td>\n",
       "      <td>2020-12-17</td>\n",
       "      <td>EU</td>\n",
       "      <td>iPhone</td>\n",
       "    </tr>\n",
       "  </tbody>\n",
       "</table>\n",
       "</div>"
      ],
      "text/plain": [
       "   index           user_id group                  ab_test first_date region  \\\n",
       "0      0  D1ABA3E2887B6A73     A  recommender_system_test 2020-12-07     EU   \n",
       "1      1  A7A3664BD6242119     A  recommender_system_test 2020-12-20     EU   \n",
       "2      4  4FF2998A348C484F     A  recommender_system_test 2020-12-20     EU   \n",
       "3      5  7473E0943673C09E     A  recommender_system_test 2020-12-16     EU   \n",
       "4      6  C46FE336D240A054     A  recommender_system_test 2020-12-17     EU   \n",
       "\n",
       "   device  \n",
       "0      PC  \n",
       "1  iPhone  \n",
       "2     Mac  \n",
       "3  iPhone  \n",
       "4  iPhone  "
      ]
     },
     "metadata": {},
     "output_type": "display_data"
    }
   ],
   "source": [
    "# To merge the filt_part_data dataframe and user_data data frame\n",
    "filt_part_data = pd.merge(filt_part_data, user_data, how= 'left', on = 'user_id')\n",
    "display(filt_part_data.head())"
   ]
  },
  {
   "cell_type": "code",
   "execution_count": 28,
   "metadata": {},
   "outputs": [
    {
     "data": {
      "image/png": "[encoded data removed]",
      "text/plain": [
       "<Figure size 1008x432 with 1 Axes>"
      ]
     },
     "metadata": {
      "needs_background": "light"
     },
     "output_type": "display_data"
    }
   ],
   "source": [
    "# To visualize the Number of users who participated in the test\n",
    "plt.figure(figsize=(14,6))\n",
    "plt.title('Number of devices of users who participated in the test ', fontsize=14)\n",
    "d_order=['Android','PC','iPhone','Mac']\n",
    "ax=sns.countplot(x='device',data=filt_part_data, order=d_order)\n",
    "for i in ax.patches:\n",
    "    # get_x pulls left or right; get_height pushes up or down\n",
    "    ax.text(i.get_x()+.03, i.get_height()+1, str(round((i.get_height()), 2)), fontsize=11)\n",
    "plt.show()\n"
   ]
  },
  {
   "cell_type": "code",
   "execution_count": 29,
   "metadata": {},
   "outputs": [
    {
     "data": {
      "text/html": [
       "<div>\n",
       "<style scoped>\n",
       "    .dataframe tbody tr th:only-of-type {\n",
       "        vertical-align: middle;\n",
       "    }\n",
       "\n",
       "    .dataframe tbody tr th {\n",
       "        vertical-align: top;\n",
       "    }\n",
       "\n",
       "    .dataframe thead th {\n",
       "        text-align: right;\n",
       "    }\n",
       "</style>\n",
       "<table border=\"1\" class=\"dataframe\">\n",
       "  <thead>\n",
       "    <tr style=\"text-align: right;\">\n",
       "      <th></th>\n",
       "      <th>group</th>\n",
       "      <th>device</th>\n",
       "      <th>number_of_devices</th>\n",
       "    </tr>\n",
       "  </thead>\n",
       "  <tbody>\n",
       "    <tr>\n",
       "      <td>0</td>\n",
       "      <td>A</td>\n",
       "      <td>Android</td>\n",
       "      <td>916</td>\n",
       "    </tr>\n",
       "    <tr>\n",
       "      <td>1</td>\n",
       "      <td>A</td>\n",
       "      <td>Mac</td>\n",
       "      <td>192</td>\n",
       "    </tr>\n",
       "    <tr>\n",
       "      <td>2</td>\n",
       "      <td>A</td>\n",
       "      <td>PC</td>\n",
       "      <td>541</td>\n",
       "    </tr>\n",
       "    <tr>\n",
       "      <td>3</td>\n",
       "      <td>A</td>\n",
       "      <td>iPhone</td>\n",
       "      <td>433</td>\n",
       "    </tr>\n",
       "    <tr>\n",
       "      <td>4</td>\n",
       "      <td>B</td>\n",
       "      <td>Android</td>\n",
       "      <td>332</td>\n",
       "    </tr>\n",
       "    <tr>\n",
       "      <td>5</td>\n",
       "      <td>B</td>\n",
       "      <td>Mac</td>\n",
       "      <td>60</td>\n",
       "    </tr>\n",
       "    <tr>\n",
       "      <td>6</td>\n",
       "      <td>B</td>\n",
       "      <td>PC</td>\n",
       "      <td>173</td>\n",
       "    </tr>\n",
       "    <tr>\n",
       "      <td>7</td>\n",
       "      <td>B</td>\n",
       "      <td>iPhone</td>\n",
       "      <td>141</td>\n",
       "    </tr>\n",
       "  </tbody>\n",
       "</table>\n",
       "</div>"
      ],
      "text/plain": [
       "  group   device  number_of_devices\n",
       "0     A  Android                916\n",
       "1     A      Mac                192\n",
       "2     A       PC                541\n",
       "3     A   iPhone                433\n",
       "4     B  Android                332\n",
       "5     B      Mac                 60\n",
       "6     B       PC                173\n",
       "7     B   iPhone                141"
      ]
     },
     "metadata": {},
     "output_type": "display_data"
    }
   ],
   "source": [
    "filt_part_data1= filt_part_data.groupby(['group','device'])['device'].count().to_frame()\n",
    "filt_part_data1.columns = [' '.join(col).strip() for col in filt_part_data1.columns.values]\n",
    "filt_part_data1  = filt_part_data1.reset_index()\n",
    "filt_part_data1.columns = ['group', 'device', 'number_of_devices']\n",
    "\n",
    "display(filt_part_data1)"
   ]
  },
  {
   "cell_type": "code",
   "execution_count": 30,
   "metadata": {},
   "outputs": [
    {
     "data": {
      "image/png": "[encoded data removed]",
      "text/plain": [
       "<Figure size 720x360 with 1 Axes>"
      ]
     },
     "metadata": {
      "needs_background": "light"
     },
     "output_type": "display_data"
    }
   ],
   "source": [
    "# plotting the number of the various types of establishments \n",
    "plt.figure(figsize=(10,5))\n",
    "d_order=['Android','PC','iPhone','Mac']\n",
    "ax = sns.barplot(x=\"device\",y='number_of_devices', hue='group', data=filt_part_data1 ,order=d_order)\n",
    "\n",
    "plt.title('Number of various types of devices ', size = 14)\n",
    "plt.xlabel('type of devices')\n",
    "plt.ylabel('nummber of devices')\n",
    "for i in ax.patches:\n",
    "    # get_x pulls left or right; get_height pushes up or down\n",
    "    ax.text(i.get_x()+.03, i.get_height()+1, str(round((i.get_height()), 2)), fontsize=11)\n",
    "plt.show()\n"
   ]
  },
  {
   "cell_type": "code",
   "execution_count": 31,
   "metadata": {},
   "outputs": [
    {
     "data": {
      "image/png": "[encoded data removed]",
      "text/plain": [
       "<Figure size 720x432 with 1 Axes>"
      ]
     },
     "metadata": {
      "needs_background": "light"
     },
     "output_type": "display_data"
    },
    {
     "data": {
      "image/png": "[encoded data removed]",
      "text/plain": [
       "<Figure size 720x432 with 1 Axes>"
      ]
     },
     "metadata": {
      "needs_background": "light"
     },
     "output_type": "display_data"
    }
   ],
   "source": [
    "# To visualize the Number of users in different regions\n",
    "plt.figure(figsize=(10,6))\n",
    "plt.title('Number of general users in different regions ', fontsize=14)\n",
    "r_order = ['EU','N.America','CIS','APAC']\n",
    "ax=sns.countplot(x='region',data=user_data, order=r_order)\n",
    "for i in ax.patches:\n",
    "    # get_x pulls left or right; get_height pushes up or down\n",
    "    ax.text(i.get_x()+.03, i.get_height()+1, str(round((i.get_height()), 2)), fontsize=11)\n",
    "plt.show()\n",
    "\n",
    "\n",
    "# To visualize the Number of participated users in different regions\n",
    "plt.figure(figsize=(10,6))\n",
    "plt.title('Number of participated users in different regions ', fontsize=14)\n",
    "r_order = ['EU','N.America','CIS','APAC']\n",
    "ax=sns.countplot(x='region',data=filt_part_data, order=r_order)\n",
    "for i in ax.patches:\n",
    "    # get_x pulls left or right; get_height pushes up or down\n",
    "    ax.text(i.get_x()+.03, i.get_height()+1, str(round((i.get_height()), 2)), fontsize=11)\n",
    "plt.show()"
   ]
  },
  {
   "cell_type": "code",
   "execution_count": 32,
   "metadata": {},
   "outputs": [
    {
     "name": "stdout",
     "output_type": "stream",
     "text": [
      "EU           0.930416\n",
      "N.America    0.042683\n",
      "APAC         0.016141\n",
      "CIS          0.010760\n",
      "Name: region, dtype: float64\n"
     ]
    }
   ],
   "source": [
    "#Observing the percentage of participants from different regions\n",
    "print(filt_part_data['region'].value_counts(normalize=True))"
   ]
  },
  {
   "cell_type": "code",
   "execution_count": 33,
   "metadata": {
    "scrolled": true
   },
   "outputs": [
    {
     "name": "stdout",
     "output_type": "stream",
     "text": [
      "17.86 % users of total participants are from EU region and took recommender_system_test.\n"
     ]
    }
   ],
   "source": [
    "print(round(len(filt_part_data.query(' region == \"EU\" ')) / len(part_data) * 100 ,2 ) , \"% users of total participants are from EU region and took recommender_system_test.\")"
   ]
  },
  {
   "cell_type": "code",
   "execution_count": 34,
   "metadata": {},
   "outputs": [
    {
     "name": "stdout",
     "output_type": "stream",
     "text": [
      "6.57 % users of total participants are from EU region and took recommender_system_test.\n"
     ]
    }
   ],
   "source": [
    "# the reviewer's code:\n",
    "print(round(len(filt_part_data.query(' region == \"EU\" ')) / len(user_data.query('region == \"EU\" and first_date < \"2020-12-22\"')) * 100 ,2 ) , \"% users of total participants are from EU region and took recommender_system_test.\")"
   ]
  },
  {
   "cell_type": "code",
   "execution_count": 35,
   "metadata": {},
   "outputs": [
    {
     "data": {
      "text/html": [
       "<div>\n",
       "<style scoped>\n",
       "    .dataframe tbody tr th:only-of-type {\n",
       "        vertical-align: middle;\n",
       "    }\n",
       "\n",
       "    .dataframe tbody tr th {\n",
       "        vertical-align: top;\n",
       "    }\n",
       "\n",
       "    .dataframe thead th {\n",
       "        text-align: right;\n",
       "    }\n",
       "</style>\n",
       "<table border=\"1\" class=\"dataframe\">\n",
       "  <thead>\n",
       "    <tr style=\"text-align: right;\">\n",
       "      <th></th>\n",
       "      <th>event_name</th>\n",
       "      <th>group</th>\n",
       "      <th>numbers</th>\n",
       "    </tr>\n",
       "  </thead>\n",
       "  <tbody>\n",
       "    <tr>\n",
       "      <td>0</td>\n",
       "      <td>login</td>\n",
       "      <td>A</td>\n",
       "      <td>2082</td>\n",
       "    </tr>\n",
       "    <tr>\n",
       "      <td>4</td>\n",
       "      <td>product_page</td>\n",
       "      <td>A</td>\n",
       "      <td>1360</td>\n",
       "    </tr>\n",
       "    <tr>\n",
       "      <td>1</td>\n",
       "      <td>login</td>\n",
       "      <td>B</td>\n",
       "      <td>705</td>\n",
       "    </tr>\n",
       "    <tr>\n",
       "      <td>6</td>\n",
       "      <td>purchase</td>\n",
       "      <td>A</td>\n",
       "      <td>652</td>\n",
       "    </tr>\n",
       "    <tr>\n",
       "      <td>2</td>\n",
       "      <td>product_cart</td>\n",
       "      <td>A</td>\n",
       "      <td>631</td>\n",
       "    </tr>\n",
       "    <tr>\n",
       "      <td>5</td>\n",
       "      <td>product_page</td>\n",
       "      <td>B</td>\n",
       "      <td>397</td>\n",
       "    </tr>\n",
       "    <tr>\n",
       "      <td>7</td>\n",
       "      <td>purchase</td>\n",
       "      <td>B</td>\n",
       "      <td>198</td>\n",
       "    </tr>\n",
       "    <tr>\n",
       "      <td>3</td>\n",
       "      <td>product_cart</td>\n",
       "      <td>B</td>\n",
       "      <td>195</td>\n",
       "    </tr>\n",
       "  </tbody>\n",
       "</table>\n",
       "</div>"
      ],
      "text/plain": [
       "     event_name group  numbers\n",
       "0         login     A     2082\n",
       "4  product_page     A     1360\n",
       "1         login     B      705\n",
       "6      purchase     A      652\n",
       "2  product_cart     A      631\n",
       "5  product_page     B      397\n",
       "7      purchase     B      198\n",
       "3  product_cart     B      195"
      ]
     },
     "metadata": {},
     "output_type": "display_data"
    }
   ],
   "source": [
    "# Finding number of frequency for each events for each group\n",
    "event_exp_id= new_df.groupby(['event_name','group'])['user_id'].nunique().reset_index().sort_values(by='user_id', ascending=False)\n",
    "event_exp_id.columns=['event_name','group','numbers']\n",
    "display(event_exp_id)"
   ]
  },
  {
   "cell_type": "code",
   "execution_count": 36,
   "metadata": {},
   "outputs": [
    {
     "data": {
      "image/png": "[encoded data removed]",
      "text/plain": [
       "<Figure size 720x360 with 1 Axes>"
      ]
     },
     "metadata": {
      "needs_background": "light"
     },
     "output_type": "display_data"
    }
   ],
   "source": [
    "# plotting the number of the various types of establishments \n",
    "plt.figure(figsize=(10,5))\n",
    "event_order=['login','product_page','product_cart','purchase']\n",
    "ax = sns.barplot(x=\"event_name\",y='numbers', hue='group', data=event_exp_id, order = event_order) \n",
    "\n",
    "\n",
    "plt.title('Number of events in terms of group ', size = 14)\n",
    "plt.xlabel('event_name')\n",
    "plt.ylabel('nummber of users')\n",
    "for i in ax.patches:\n",
    "    # get_x pulls left or right; get_height pushes up or down\n",
    "    ax.text(i.get_x()+.03, i.get_height()+1, str(round((i.get_height()), 2)), fontsize=11)\n",
    "plt.show()\n"
   ]
  },
  {
   "cell_type": "code",
   "execution_count": 37,
   "metadata": {
    "scrolled": false
   },
   "outputs": [
    {
     "data": {
      "image/png": "[encoded data removed]",
      "text/plain": [
       "<Figure size 720x360 with 1 Axes>"
      ]
     },
     "metadata": {
      "needs_background": "light"
     },
     "output_type": "display_data"
    },
    {
     "data": {
      "image/png": "[encoded data removed]",
      "text/plain": [
       "<Figure size 720x360 with 1 Axes>"
      ]
     },
     "metadata": {
      "needs_background": "light"
     },
     "output_type": "display_data"
    }
   ],
   "source": [
    "# Histogram for period of time to cover data\n",
    "plt.figure(figsize=(10,5))\n",
    "#fig, ax = plt.subplots()\n",
    "user_data['first_date'].hist()\n",
    "\n",
    "#fig.autofmt_xdate()\n",
    "plt.title('Histogram on first_date for general users', size =14)\n",
    "plt.xlabel('first_date')\n",
    "plt.ylabel('count')\n",
    "plt.show()\n",
    "\n",
    "# Histogram for period of time to cover data for filt_part_data\n",
    "plt.figure(figsize=(10,5))\n",
    "#fig, ax = plt.subplots()\n",
    "filt_part_data['first_date'].hist()\n",
    "\n",
    "#fig.autofmt_xdate()\n",
    "plt.title('Histogram on first_date for participants', size =14)\n",
    "plt.xlabel('first_date')\n",
    "plt.ylabel('count')\n",
    "plt.show()"
   ]
  },
  {
   "cell_type": "code",
   "execution_count": 38,
   "metadata": {
    "scrolled": false
   },
   "outputs": [
    {
     "data": {
      "image/png": "[encoded data removed]",
      "text/plain": [
       "<Figure size 720x576 with 4 Axes>"
      ]
     },
     "metadata": {
      "needs_background": "light"
     },
     "output_type": "display_data"
    }
   ],
   "source": [
    "#Histogram for events for users in terms of date\n",
    "\n",
    "event_data.hist(column='event_date', by='event_name', figsize=(10,8))\n",
    "#plt.title('Histogram on frequency for event_date for general users', size =14)\n",
    "\n",
    "plt.ylabel('Frequency')\n",
    "plt.xlabel('event_date')\n",
    "plt.show()"
   ]
  },
  {
   "cell_type": "code",
   "execution_count": 39,
   "metadata": {},
   "outputs": [
    {
     "data": {
      "image/png": "[encoded data removed]",
      "text/plain": [
       "<Figure size 720x360 with 1 Axes>"
      ]
     },
     "metadata": {
      "needs_background": "light"
     },
     "output_type": "display_data"
    }
   ],
   "source": [
    "# Histogram for period of time to cover data for filt_part_data\n",
    "plt.figure(figsize=(10,5))\n",
    "#fig, ax = plt.subplots()\n",
    "filt_part_data.query('group== \"A\" ')['first_date'].hist(alpha=0.8)\n",
    "filt_part_data.query('group== \"B\" ')['first_date'].hist(alpha=0.8)\n",
    "\n",
    "#fig.autofmt_xdate()\n",
    "plt.title('Histogram on first_date for participants of group A and B', size =14)\n",
    "plt.xlabel('first_date')\n",
    "plt.ylabel('count')\n",
    "plt.show()"
   ]
  },
  {
   "cell_type": "code",
   "execution_count": 40,
   "metadata": {},
   "outputs": [
    {
     "name": "stdout",
     "output_type": "stream",
     "text": [
      "Histogram for events for participants of group A in terms of date:\n"
     ]
    },
    {
     "data": {
      "image/png": "[encoded data removed]",
      "text/plain": [
       "<Figure size 720x576 with 4 Axes>"
      ]
     },
     "metadata": {
      "needs_background": "light"
     },
     "output_type": "display_data"
    },
    {
     "name": "stdout",
     "output_type": "stream",
     "text": [
      "\n",
      "\n",
      "Histogram for events for participants of group B in terms of date:\n",
      "\n"
     ]
    },
    {
     "data": {
      "image/png": "[encoded data removed]",
      "text/plain": [
       "<Figure size 720x576 with 4 Axes>"
      ]
     },
     "metadata": {
      "needs_background": "light"
     },
     "output_type": "display_data"
    }
   ],
   "source": [
    "#Histogram for events for participants of group A in terms of date\n",
    "\n",
    "#event_data.hist(column='event_date', by='event_name', figsize=(10,8))\n",
    "#plt.title('Histogram for events for participants of group A in terms of date', size =14)\n",
    "\n",
    "print(\"Histogram for events for participants of group A in terms of date:\")\n",
    "\n",
    "new_df.query('group== \"A\" ').hist(column='event_date', by='event_name', figsize=(10,8))\n",
    "\n",
    "plt.ylabel('Frequency')\n",
    "plt.xlabel('event_date')\n",
    "plt.show()\n",
    "\n",
    "print()\n",
    "print()\n",
    "print(\"Histogram for events for participants of group B in terms of date:\")\n",
    "print()\n",
    "\n",
    "#Histogram for events for participants of group B in terms of date\n",
    "\n",
    "#event_data.hist(column='event_date', by='event_name', figsize=(10,8))\n",
    "#plt.title('Histogram on frequency for event_date for general users', size =14)\n",
    "\n",
    "new_df.query('group== \"B\" ').hist(column='event_date', by='event_name', figsize=(10,8))\n",
    "\n",
    "plt.ylabel('Frequency')\n",
    "plt.xlabel('event_date')\n",
    "plt.show()\n",
    "\n",
    "\n"
   ]
  },
  {
   "cell_type": "code",
   "execution_count": 41,
   "metadata": {},
   "outputs": [
    {
     "data": {
      "text/html": [
       "<div>\n",
       "<style scoped>\n",
       "    .dataframe tbody tr th:only-of-type {\n",
       "        vertical-align: middle;\n",
       "    }\n",
       "\n",
       "    .dataframe tbody tr th {\n",
       "        vertical-align: top;\n",
       "    }\n",
       "\n",
       "    .dataframe thead th {\n",
       "        text-align: right;\n",
       "    }\n",
       "</style>\n",
       "<table border=\"1\" class=\"dataframe\">\n",
       "  <thead>\n",
       "    <tr style=\"text-align: right;\">\n",
       "      <th></th>\n",
       "      <th>event_date</th>\n",
       "      <th>number_of_events</th>\n",
       "    </tr>\n",
       "  </thead>\n",
       "  <tbody>\n",
       "    <tr>\n",
       "      <td>0</td>\n",
       "      <td>2020-12-07</td>\n",
       "      <td>11385</td>\n",
       "    </tr>\n",
       "    <tr>\n",
       "      <td>1</td>\n",
       "      <td>2020-12-08</td>\n",
       "      <td>12547</td>\n",
       "    </tr>\n",
       "    <tr>\n",
       "      <td>2</td>\n",
       "      <td>2020-12-09</td>\n",
       "      <td>12122</td>\n",
       "    </tr>\n",
       "    <tr>\n",
       "      <td>3</td>\n",
       "      <td>2020-12-10</td>\n",
       "      <td>14077</td>\n",
       "    </tr>\n",
       "    <tr>\n",
       "      <td>4</td>\n",
       "      <td>2020-12-11</td>\n",
       "      <td>13864</td>\n",
       "    </tr>\n",
       "  </tbody>\n",
       "</table>\n",
       "</div>"
      ],
      "text/plain": [
       "   event_date  number_of_events\n",
       "0  2020-12-07             11385\n",
       "1  2020-12-08             12547\n",
       "2  2020-12-09             12122\n",
       "3  2020-12-10             14077\n",
       "4  2020-12-11             13864"
      ]
     },
     "metadata": {},
     "output_type": "display_data"
    }
   ],
   "source": [
    "# Finding the number of total events in each date for all users\n",
    "date_events_number = event_data.groupby(['event_date'])['event_name'].count().to_frame()\n",
    "date_events_number.columns = [' '.join(col).strip() for col in date_events_number.columns.values]\n",
    "date_events_number  = date_events_number.reset_index()\n",
    "date_events_number.columns = ['event_date','number_of_events']\n",
    "date_events_number[\"event_date\"]= date_events_number[\"event_date\"].dt.date\n",
    "display(date_events_number.head())"
   ]
  },
  {
   "cell_type": "code",
   "execution_count": 42,
   "metadata": {
    "scrolled": false
   },
   "outputs": [
    {
     "data": {
      "image/png": "[encoded data removed]",
      "text/plain": [
       "<Figure size 1008x432 with 1 Axes>"
      ]
     },
     "metadata": {
      "needs_background": "light"
     },
     "output_type": "display_data"
    },
    {
     "data": {
      "image/png": "[encoded data removed]",
      "text/plain": [
       "<Figure size 792x432 with 1 Axes>"
      ]
     },
     "metadata": {
      "needs_background": "light"
     },
     "output_type": "display_data"
    }
   ],
   "source": [
    "#Plotting graph for number of events in each event_date:\n",
    "\n",
    "fig_dims = (14, 6)\n",
    "fig, ax = plt.subplots(figsize=fig_dims)\n",
    "\n",
    "sns.barplot(data=date_events_number, x='event_date', y='number_of_events', ax=ax)\n",
    "# sns.countplot(data=log_data, x='event_date', ax=ax)\n",
    "\n",
    "ax.set_xticklabels(ax.get_xticklabels(), rotation=30, ha='right')\n",
    "#plt.xticks(np.arange(0,300,50))\n",
    "#plt.tight_layout()\n",
    "plt.title('Number of total events in each date for all users', fontsize=16)\n",
    "plt.xlabel('event date', fontsize=14)\n",
    "plt.ylabel('numner of events', fontsize=14);\n",
    "\n",
    "# for i in ax.patches:\n",
    "#     # get_x pulls left or right; get_height pushes up or down\n",
    "#     ax.text(i.get_x()+.03, i.get_height()+1, str(round((i.get_height()), 2)), fontsize=11)\n",
    "plt.show()\n",
    "\n",
    "\n",
    "fig=plt.figure(figsize=(11,6))\n",
    "ax=fig.add_axes([0,0,1,1])\n",
    "ax.plot(date_events_number['event_date'],date_events_number['number_of_events'])\n",
    "plt.title('Number of total events in each date for all users', size =14)\n",
    "plt.xlabel('event_date')\n",
    "plt.ylabel('Number of events')\n",
    "plt.show()"
   ]
  },
  {
   "cell_type": "code",
   "execution_count": 43,
   "metadata": {},
   "outputs": [
    {
     "data": {
      "text/html": [
       "<div>\n",
       "<style scoped>\n",
       "    .dataframe tbody tr th:only-of-type {\n",
       "        vertical-align: middle;\n",
       "    }\n",
       "\n",
       "    .dataframe tbody tr th {\n",
       "        vertical-align: top;\n",
       "    }\n",
       "\n",
       "    .dataframe thead th {\n",
       "        text-align: right;\n",
       "    }\n",
       "</style>\n",
       "<table border=\"1\" class=\"dataframe\">\n",
       "  <thead>\n",
       "    <tr style=\"text-align: right;\">\n",
       "      <th></th>\n",
       "      <th>event_date</th>\n",
       "      <th>number_of_events</th>\n",
       "    </tr>\n",
       "  </thead>\n",
       "  <tbody>\n",
       "    <tr>\n",
       "      <td>0</td>\n",
       "      <td>2020-12-07</td>\n",
       "      <td>234</td>\n",
       "    </tr>\n",
       "    <tr>\n",
       "      <td>1</td>\n",
       "      <td>2020-12-08</td>\n",
       "      <td>267</td>\n",
       "    </tr>\n",
       "    <tr>\n",
       "      <td>2</td>\n",
       "      <td>2020-12-09</td>\n",
       "      <td>296</td>\n",
       "    </tr>\n",
       "    <tr>\n",
       "      <td>3</td>\n",
       "      <td>2020-12-10</td>\n",
       "      <td>265</td>\n",
       "    </tr>\n",
       "    <tr>\n",
       "      <td>4</td>\n",
       "      <td>2020-12-11</td>\n",
       "      <td>282</td>\n",
       "    </tr>\n",
       "  </tbody>\n",
       "</table>\n",
       "</div>"
      ],
      "text/plain": [
       "   event_date  number_of_events\n",
       "0  2020-12-07               234\n",
       "1  2020-12-08               267\n",
       "2  2020-12-09               296\n",
       "3  2020-12-10               265\n",
       "4  2020-12-11               282"
      ]
     },
     "metadata": {},
     "output_type": "display_data"
    }
   ],
   "source": [
    "# Finding the number of total events in each date for all users\n",
    "date_events_number_testA = new_df.query(' group== \"A\" ').groupby(['event_date'])['event_name'].count().to_frame()\n",
    "date_events_number_testA.columns = [' '.join(col).strip() for col in date_events_number_testA.columns.values]\n",
    "date_events_number_testA  = date_events_number_testA.reset_index()\n",
    "date_events_number_testA.columns = ['event_date','number_of_events']\n",
    "date_events_number_testA[\"event_date\"]= date_events_number_testA[\"event_date\"].dt.date\n",
    "display(date_events_number_testA.head())"
   ]
  },
  {
   "cell_type": "code",
   "execution_count": 44,
   "metadata": {},
   "outputs": [
    {
     "data": {
      "text/html": [
       "<div>\n",
       "<style scoped>\n",
       "    .dataframe tbody tr th:only-of-type {\n",
       "        vertical-align: middle;\n",
       "    }\n",
       "\n",
       "    .dataframe tbody tr th {\n",
       "        vertical-align: top;\n",
       "    }\n",
       "\n",
       "    .dataframe thead th {\n",
       "        text-align: right;\n",
       "    }\n",
       "</style>\n",
       "<table border=\"1\" class=\"dataframe\">\n",
       "  <thead>\n",
       "    <tr style=\"text-align: right;\">\n",
       "      <th></th>\n",
       "      <th>event_date</th>\n",
       "      <th>number_of_events</th>\n",
       "    </tr>\n",
       "  </thead>\n",
       "  <tbody>\n",
       "    <tr>\n",
       "      <td>0</td>\n",
       "      <td>2020-12-07</td>\n",
       "      <td>290</td>\n",
       "    </tr>\n",
       "    <tr>\n",
       "      <td>1</td>\n",
       "      <td>2020-12-08</td>\n",
       "      <td>183</td>\n",
       "    </tr>\n",
       "    <tr>\n",
       "      <td>2</td>\n",
       "      <td>2020-12-09</td>\n",
       "      <td>273</td>\n",
       "    </tr>\n",
       "    <tr>\n",
       "      <td>3</td>\n",
       "      <td>2020-12-10</td>\n",
       "      <td>196</td>\n",
       "    </tr>\n",
       "    <tr>\n",
       "      <td>4</td>\n",
       "      <td>2020-12-11</td>\n",
       "      <td>122</td>\n",
       "    </tr>\n",
       "  </tbody>\n",
       "</table>\n",
       "</div>"
      ],
      "text/plain": [
       "   event_date  number_of_events\n",
       "0  2020-12-07               290\n",
       "1  2020-12-08               183\n",
       "2  2020-12-09               273\n",
       "3  2020-12-10               196\n",
       "4  2020-12-11               122"
      ]
     },
     "metadata": {},
     "output_type": "display_data"
    }
   ],
   "source": [
    "# Finding the number of total events in each date for all users\n",
    "date_events_number_testB = new_df.query(' group== \"B\" ').groupby(['event_date'])['event_name'].count().to_frame()\n",
    "date_events_number_testB.columns = [' '.join(col).strip() for col in date_events_number_testB.columns.values]\n",
    "date_events_number_testB  = date_events_number_testB.reset_index()\n",
    "date_events_number_testB.columns = ['event_date','number_of_events']\n",
    "date_events_number_testB[\"event_date\"]= date_events_number_testB[\"event_date\"].dt.date\n",
    "display(date_events_number_testB.head())"
   ]
  },
  {
   "cell_type": "code",
   "execution_count": 45,
   "metadata": {},
   "outputs": [
    {
     "data": {
      "image/png": "[encoded data removed]",
      "text/plain": [
       "<Figure size 1008x432 with 1 Axes>"
      ]
     },
     "metadata": {
      "needs_background": "light"
     },
     "output_type": "display_data"
    },
    {
     "data": {
      "image/png": "[encoded data removed]",
      "text/plain": [
       "<Figure size 1008x432 with 1 Axes>"
      ]
     },
     "metadata": {
      "needs_background": "light"
     },
     "output_type": "display_data"
    }
   ],
   "source": [
    "#Plotting graph for number of events in each event_date:\n",
    "\n",
    "fig_dims = (14, 6)\n",
    "fig, ax = plt.subplots(figsize=fig_dims)\n",
    "\n",
    "sns.barplot(data=date_events_number_testA, x='event_date', y='number_of_events', ax=ax)\n",
    "# sns.countplot(data=log_data, x='event_date', ax=ax)\n",
    "\n",
    "ax.set_xticklabels(ax.get_xticklabels(), rotation=30, ha='right')\n",
    "#plt.xticks(np.arange(0,300,50))\n",
    "#plt.tight_layout()\n",
    "plt.title('Number of total events in each date for participants of group A', fontsize=16)\n",
    "plt.xlabel('event date', fontsize=14)\n",
    "plt.ylabel('numner of events', fontsize=14);\n",
    "\n",
    "# for i in ax.patches:\n",
    "#     # get_x pulls left or right; get_height pushes up or down\n",
    "#     ax.text(i.get_x()+.03, i.get_height()+1, str(round((i.get_height()), 2)), fontsize=11)\n",
    "plt.show()\n",
    "\n",
    "\n",
    "fig=plt.figure(figsize=(14,6))\n",
    "ax=fig.add_axes([0,0,1,1])\n",
    "ax.plot(date_events_number_testA['event_date'],date_events_number_testA['number_of_events'])\n",
    "plt.title('Number of total events in each date for participants of group A', size =14)\n",
    "plt.xlabel('event_date')\n",
    "plt.ylabel('Number of events')\n",
    "plt.show()"
   ]
  },
  {
   "cell_type": "code",
   "execution_count": 46,
   "metadata": {},
   "outputs": [
    {
     "data": {
      "image/png": "[encoded data removed]",
      "text/plain": [
       "<Figure size 1008x432 with 1 Axes>"
      ]
     },
     "metadata": {
      "needs_background": "light"
     },
     "output_type": "display_data"
    },
    {
     "data": {
      "image/png": "[encoded data removed]",
      "text/plain": [
       "<Figure size 792x432 with 1 Axes>"
      ]
     },
     "metadata": {
      "needs_background": "light"
     },
     "output_type": "display_data"
    }
   ],
   "source": [
    "#Plotting graph for number of events in each event_date:\n",
    "\n",
    "fig_dims = (14, 6)\n",
    "fig, ax = plt.subplots(figsize=fig_dims)\n",
    "\n",
    "sns.barplot(data=date_events_number_testB, x='event_date', y='number_of_events', ax=ax)\n",
    "# sns.countplot(data=log_data, x='event_date', ax=ax)\n",
    "\n",
    "ax.set_xticklabels(ax.get_xticklabels(), rotation=30, ha='right')\n",
    "#plt.xticks(np.arange(0,300,50))\n",
    "#plt.tight_layout()\n",
    "plt.title('Number of total events in each date for participants of group B', fontsize=16)\n",
    "plt.xlabel('event date', fontsize=14)\n",
    "plt.ylabel('numner of events', fontsize=14);\n",
    "\n",
    "# for i in ax.patches:\n",
    "#     # get_x pulls left or right; get_height pushes up or down\n",
    "#     ax.text(i.get_x()+.03, i.get_height()+1, str(round((i.get_height()), 2)), fontsize=11)\n",
    "plt.show()\n",
    "\n",
    "\n",
    "fig=plt.figure(figsize=(11,6))\n",
    "ax=fig.add_axes([0,0,1,1])\n",
    "ax.plot(date_events_number_testB['event_date'],date_events_number_testB['number_of_events'])\n",
    "plt.title('Number of total events in each date for participants of group B', size =14)\n",
    "plt.xlabel('event_date')\n",
    "plt.ylabel('Number of events')\n",
    "plt.show()"
   ]
  },
  {
   "cell_type": "code",
   "execution_count": 47,
   "metadata": {},
   "outputs": [
    {
     "data": {
      "text/html": [
       "<div>\n",
       "<style scoped>\n",
       "    .dataframe tbody tr th:only-of-type {\n",
       "        vertical-align: middle;\n",
       "    }\n",
       "\n",
       "    .dataframe tbody tr th {\n",
       "        vertical-align: top;\n",
       "    }\n",
       "\n",
       "    .dataframe thead th {\n",
       "        text-align: right;\n",
       "    }\n",
       "</style>\n",
       "<table border=\"1\" class=\"dataframe\">\n",
       "  <thead>\n",
       "    <tr style=\"text-align: right;\">\n",
       "      <th></th>\n",
       "      <th>name</th>\n",
       "      <th>regions</th>\n",
       "      <th>start_dt</th>\n",
       "      <th>finish_dt</th>\n",
       "    </tr>\n",
       "  </thead>\n",
       "  <tbody>\n",
       "    <tr>\n",
       "      <td>0</td>\n",
       "      <td>Christmas&amp;New Year Promo</td>\n",
       "      <td>EU, N.America</td>\n",
       "      <td>2020-12-25</td>\n",
       "      <td>2021-01-03</td>\n",
       "    </tr>\n",
       "    <tr>\n",
       "      <td>1</td>\n",
       "      <td>St. Valentine's Day Giveaway</td>\n",
       "      <td>EU, CIS, APAC, N.America</td>\n",
       "      <td>2020-02-14</td>\n",
       "      <td>2020-02-16</td>\n",
       "    </tr>\n",
       "    <tr>\n",
       "      <td>2</td>\n",
       "      <td>St. Patric's Day Promo</td>\n",
       "      <td>EU, N.America</td>\n",
       "      <td>2020-03-17</td>\n",
       "      <td>2020-03-19</td>\n",
       "    </tr>\n",
       "    <tr>\n",
       "      <td>3</td>\n",
       "      <td>Easter Promo</td>\n",
       "      <td>EU, CIS, APAC, N.America</td>\n",
       "      <td>2020-04-12</td>\n",
       "      <td>2020-04-19</td>\n",
       "    </tr>\n",
       "    <tr>\n",
       "      <td>4</td>\n",
       "      <td>4th of July Promo</td>\n",
       "      <td>N.America</td>\n",
       "      <td>2020-07-04</td>\n",
       "      <td>2020-07-11</td>\n",
       "    </tr>\n",
       "    <tr>\n",
       "      <td>5</td>\n",
       "      <td>Black Friday Ads Campaign</td>\n",
       "      <td>EU, CIS, APAC, N.America</td>\n",
       "      <td>2020-11-26</td>\n",
       "      <td>2020-12-01</td>\n",
       "    </tr>\n",
       "    <tr>\n",
       "      <td>6</td>\n",
       "      <td>Chinese New Year Promo</td>\n",
       "      <td>APAC</td>\n",
       "      <td>2020-01-25</td>\n",
       "      <td>2020-02-07</td>\n",
       "    </tr>\n",
       "    <tr>\n",
       "      <td>7</td>\n",
       "      <td>Labor day (May 1st) Ads Campaign</td>\n",
       "      <td>EU, CIS, APAC</td>\n",
       "      <td>2020-05-01</td>\n",
       "      <td>2020-05-03</td>\n",
       "    </tr>\n",
       "    <tr>\n",
       "      <td>8</td>\n",
       "      <td>International Women's Day Promo</td>\n",
       "      <td>EU, CIS, APAC</td>\n",
       "      <td>2020-03-08</td>\n",
       "      <td>2020-03-10</td>\n",
       "    </tr>\n",
       "    <tr>\n",
       "      <td>9</td>\n",
       "      <td>Victory Day CIS (May 9th) Event</td>\n",
       "      <td>CIS</td>\n",
       "      <td>2020-05-09</td>\n",
       "      <td>2020-05-11</td>\n",
       "    </tr>\n",
       "    <tr>\n",
       "      <td>10</td>\n",
       "      <td>CIS New Year Gift Lottery</td>\n",
       "      <td>CIS</td>\n",
       "      <td>2020-12-30</td>\n",
       "      <td>2021-01-07</td>\n",
       "    </tr>\n",
       "    <tr>\n",
       "      <td>11</td>\n",
       "      <td>Dragon Boat Festival Giveaway</td>\n",
       "      <td>APAC</td>\n",
       "      <td>2020-06-25</td>\n",
       "      <td>2020-07-01</td>\n",
       "    </tr>\n",
       "    <tr>\n",
       "      <td>12</td>\n",
       "      <td>Single's Day Gift Promo</td>\n",
       "      <td>APAC</td>\n",
       "      <td>2020-11-11</td>\n",
       "      <td>2020-11-12</td>\n",
       "    </tr>\n",
       "    <tr>\n",
       "      <td>13</td>\n",
       "      <td>Chinese Moon Festival</td>\n",
       "      <td>APAC</td>\n",
       "      <td>2020-10-01</td>\n",
       "      <td>2020-10-07</td>\n",
       "    </tr>\n",
       "  </tbody>\n",
       "</table>\n",
       "</div>"
      ],
      "text/plain": [
       "                                name                   regions   start_dt  \\\n",
       "0           Christmas&New Year Promo             EU, N.America 2020-12-25   \n",
       "1       St. Valentine's Day Giveaway  EU, CIS, APAC, N.America 2020-02-14   \n",
       "2             St. Patric's Day Promo             EU, N.America 2020-03-17   \n",
       "3                       Easter Promo  EU, CIS, APAC, N.America 2020-04-12   \n",
       "4                  4th of July Promo                 N.America 2020-07-04   \n",
       "5          Black Friday Ads Campaign  EU, CIS, APAC, N.America 2020-11-26   \n",
       "6             Chinese New Year Promo                      APAC 2020-01-25   \n",
       "7   Labor day (May 1st) Ads Campaign             EU, CIS, APAC 2020-05-01   \n",
       "8    International Women's Day Promo             EU, CIS, APAC 2020-03-08   \n",
       "9    Victory Day CIS (May 9th) Event                       CIS 2020-05-09   \n",
       "10         CIS New Year Gift Lottery                       CIS 2020-12-30   \n",
       "11     Dragon Boat Festival Giveaway                      APAC 2020-06-25   \n",
       "12           Single's Day Gift Promo                      APAC 2020-11-11   \n",
       "13             Chinese Moon Festival                      APAC 2020-10-01   \n",
       "\n",
       "    finish_dt  \n",
       "0  2021-01-03  \n",
       "1  2020-02-16  \n",
       "2  2020-03-19  \n",
       "3  2020-04-19  \n",
       "4  2020-07-11  \n",
       "5  2020-12-01  \n",
       "6  2020-02-07  \n",
       "7  2020-05-03  \n",
       "8  2020-03-10  \n",
       "9  2020-05-11  \n",
       "10 2021-01-07  \n",
       "11 2020-07-01  \n",
       "12 2020-11-12  \n",
       "13 2020-10-07  "
      ]
     },
     "metadata": {},
     "output_type": "display_data"
    }
   ],
   "source": [
    "display(mark_data)"
   ]
  },
  {
   "cell_type": "markdown",
   "metadata": {},
   "source": [
    "**Finding events number by each user**"
   ]
  },
  {
   "cell_type": "code",
   "execution_count": 48,
   "metadata": {},
   "outputs": [
    {
     "data": {
      "text/html": [
       "<div>\n",
       "<style scoped>\n",
       "    .dataframe tbody tr th:only-of-type {\n",
       "        vertical-align: middle;\n",
       "    }\n",
       "\n",
       "    .dataframe tbody tr th {\n",
       "        vertical-align: top;\n",
       "    }\n",
       "\n",
       "    .dataframe thead th {\n",
       "        text-align: right;\n",
       "    }\n",
       "</style>\n",
       "<table border=\"1\" class=\"dataframe\">\n",
       "  <thead>\n",
       "    <tr style=\"text-align: right;\">\n",
       "      <th></th>\n",
       "      <th>user_id</th>\n",
       "      <th>number</th>\n",
       "    </tr>\n",
       "  </thead>\n",
       "  <tbody>\n",
       "    <tr>\n",
       "      <td>0</td>\n",
       "      <td>A3917F81482141F2</td>\n",
       "      <td>36</td>\n",
       "    </tr>\n",
       "    <tr>\n",
       "      <td>1</td>\n",
       "      <td>11285A53EC2B2042</td>\n",
       "      <td>32</td>\n",
       "    </tr>\n",
       "    <tr>\n",
       "      <td>2</td>\n",
       "      <td>BA87FD8D70D63CC6</td>\n",
       "      <td>32</td>\n",
       "    </tr>\n",
       "    <tr>\n",
       "      <td>3</td>\n",
       "      <td>426330B820B8711A</td>\n",
       "      <td>32</td>\n",
       "    </tr>\n",
       "    <tr>\n",
       "      <td>4</td>\n",
       "      <td>365C8B51237C61AF</td>\n",
       "      <td>32</td>\n",
       "    </tr>\n",
       "  </tbody>\n",
       "</table>\n",
       "</div>"
      ],
      "text/plain": [
       "            user_id  number\n",
       "0  A3917F81482141F2      36\n",
       "1  11285A53EC2B2042      32\n",
       "2  BA87FD8D70D63CC6      32\n",
       "3  426330B820B8711A      32\n",
       "4  365C8B51237C61AF      32"
      ]
     },
     "metadata": {},
     "output_type": "display_data"
    }
   ],
   "source": [
    "eventsByusers = event_data['user_id'].value_counts().to_frame().reset_index()\n",
    "#eventsByusers = eventsByusers.to_frame()\n",
    "#eventsByusers = eventsByusers.reset_index()\n",
    "eventsByusers.columns = ['user_id', 'number']\n",
    "display(eventsByusers.head())"
   ]
  },
  {
   "cell_type": "code",
   "execution_count": 49,
   "metadata": {},
   "outputs": [
    {
     "data": {
      "image/png": "[encoded data removed]",
      "text/plain": [
       "<Figure size 648x360 with 1 Axes>"
      ]
     },
     "metadata": {
      "needs_background": "light"
     },
     "output_type": "display_data"
    }
   ],
   "source": [
    "plt.figure(figsize=(9,5))\n",
    "plt.hist(eventsByusers['number'],bins=20)\n",
    "plt.title('Histogram for event number for users', size =14)\n",
    "plt.xlabel('event number')\n",
    "plt.ylabel('count')\n",
    "plt.show()"
   ]
  },
  {
   "cell_type": "code",
   "execution_count": 50,
   "metadata": {},
   "outputs": [
    {
     "data": {
      "text/html": [
       "<div>\n",
       "<style scoped>\n",
       "    .dataframe tbody tr th:only-of-type {\n",
       "        vertical-align: middle;\n",
       "    }\n",
       "\n",
       "    .dataframe tbody tr th {\n",
       "        vertical-align: top;\n",
       "    }\n",
       "\n",
       "    .dataframe thead th {\n",
       "        text-align: right;\n",
       "    }\n",
       "</style>\n",
       "<table border=\"1\" class=\"dataframe\">\n",
       "  <thead>\n",
       "    <tr style=\"text-align: right;\">\n",
       "      <th></th>\n",
       "      <th>user_id</th>\n",
       "      <th>number</th>\n",
       "    </tr>\n",
       "  </thead>\n",
       "  <tbody>\n",
       "    <tr>\n",
       "      <td>0</td>\n",
       "      <td>CED71698585A2E46</td>\n",
       "      <td>24</td>\n",
       "    </tr>\n",
       "    <tr>\n",
       "      <td>1</td>\n",
       "      <td>1BFEE479308EFF44</td>\n",
       "      <td>24</td>\n",
       "    </tr>\n",
       "    <tr>\n",
       "      <td>2</td>\n",
       "      <td>6E3DF9C69A6B607E</td>\n",
       "      <td>21</td>\n",
       "    </tr>\n",
       "    <tr>\n",
       "      <td>3</td>\n",
       "      <td>F9D53F0BA957F728</td>\n",
       "      <td>20</td>\n",
       "    </tr>\n",
       "    <tr>\n",
       "      <td>4</td>\n",
       "      <td>8378F834617AA310</td>\n",
       "      <td>20</td>\n",
       "    </tr>\n",
       "  </tbody>\n",
       "</table>\n",
       "</div>"
      ],
      "text/plain": [
       "            user_id  number\n",
       "0  CED71698585A2E46      24\n",
       "1  1BFEE479308EFF44      24\n",
       "2  6E3DF9C69A6B607E      21\n",
       "3  F9D53F0BA957F728      20\n",
       "4  8378F834617AA310      20"
      ]
     },
     "metadata": {},
     "output_type": "display_data"
    }
   ],
   "source": [
    "eventsByusers_A = new_df.query(' group== \"A\" ')['user_id'].value_counts().to_frame().reset_index()\n",
    "#eventsByusers_A = eventsByusers_A.to_frame()\n",
    "#eventsByusers_A = eventsByusers_A.reset_index()\n",
    "eventsByusers_A.columns = ['user_id', 'number']\n",
    "display(eventsByusers_A.head())"
   ]
  },
  {
   "cell_type": "code",
   "execution_count": 51,
   "metadata": {
    "scrolled": false
   },
   "outputs": [
    {
     "data": {
      "text/html": [
       "<div>\n",
       "<style scoped>\n",
       "    .dataframe tbody tr th:only-of-type {\n",
       "        vertical-align: middle;\n",
       "    }\n",
       "\n",
       "    .dataframe tbody tr th {\n",
       "        vertical-align: top;\n",
       "    }\n",
       "\n",
       "    .dataframe thead th {\n",
       "        text-align: right;\n",
       "    }\n",
       "</style>\n",
       "<table border=\"1\" class=\"dataframe\">\n",
       "  <thead>\n",
       "    <tr style=\"text-align: right;\">\n",
       "      <th></th>\n",
       "      <th>user_id</th>\n",
       "      <th>number</th>\n",
       "    </tr>\n",
       "  </thead>\n",
       "  <tbody>\n",
       "    <tr>\n",
       "      <td>0</td>\n",
       "      <td>1198061F6AF34B7B</td>\n",
       "      <td>24</td>\n",
       "    </tr>\n",
       "    <tr>\n",
       "      <td>1</td>\n",
       "      <td>115EBC1CA027854A</td>\n",
       "      <td>24</td>\n",
       "    </tr>\n",
       "    <tr>\n",
       "      <td>2</td>\n",
       "      <td>89545C7F903DBA34</td>\n",
       "      <td>21</td>\n",
       "    </tr>\n",
       "    <tr>\n",
       "      <td>3</td>\n",
       "      <td>2C2BE85372033F77</td>\n",
       "      <td>20</td>\n",
       "    </tr>\n",
       "    <tr>\n",
       "      <td>4</td>\n",
       "      <td>7E8720DB6A21CF66</td>\n",
       "      <td>20</td>\n",
       "    </tr>\n",
       "  </tbody>\n",
       "</table>\n",
       "</div>"
      ],
      "text/plain": [
       "            user_id  number\n",
       "0  1198061F6AF34B7B      24\n",
       "1  115EBC1CA027854A      24\n",
       "2  89545C7F903DBA34      21\n",
       "3  2C2BE85372033F77      20\n",
       "4  7E8720DB6A21CF66      20"
      ]
     },
     "metadata": {},
     "output_type": "display_data"
    }
   ],
   "source": [
    "eventsByusers_B = new_df.query(' group== \"B\" ')['user_id'].value_counts().to_frame().reset_index()\n",
    "#eventsByusers_B = eventsByusers_B.to_frame()\n",
    "#eventsByusers_B = eventsByusers_B.reset_index()\n",
    "eventsByusers_B.columns = ['user_id', 'number']\n",
    "display(eventsByusers_B.head())"
   ]
  },
  {
   "cell_type": "code",
   "execution_count": 52,
   "metadata": {},
   "outputs": [
    {
     "data": {
      "image/png": "[encoded data removed]",
      "text/plain": [
       "<Figure size 648x360 with 1 Axes>"
      ]
     },
     "metadata": {
      "needs_background": "light"
     },
     "output_type": "display_data"
    }
   ],
   "source": [
    "plt.figure(figsize=(9,5))\n",
    "plt.hist(eventsByusers_A['number'],bins=20, alpha=0.8)\n",
    "plt.hist(eventsByusers_B['number'],bins=20, alpha=0.8)\n",
    "plt.title('Histogram for event number for users for groups (A or B) ', size =14)\n",
    "plt.xlabel('event number')\n",
    "plt.ylabel('count')\n",
    "plt.show()"
   ]
  },
  {
   "cell_type": "markdown",
   "metadata": {},
   "source": [
    "**Funnel plot for number of users for each events**"
   ]
  },
  {
   "cell_type": "code",
   "execution_count": 53,
   "metadata": {},
   "outputs": [
    {
     "data": {
      "text/html": [
       "<div>\n",
       "<style scoped>\n",
       "    .dataframe tbody tr th:only-of-type {\n",
       "        vertical-align: middle;\n",
       "    }\n",
       "\n",
       "    .dataframe tbody tr th {\n",
       "        vertical-align: top;\n",
       "    }\n",
       "\n",
       "    .dataframe thead th {\n",
       "        text-align: right;\n",
       "    }\n",
       "</style>\n",
       "<table border=\"1\" class=\"dataframe\">\n",
       "  <thead>\n",
       "    <tr style=\"text-align: right;\">\n",
       "      <th></th>\n",
       "      <th>event_name</th>\n",
       "      <th>group</th>\n",
       "      <th>numbers</th>\n",
       "    </tr>\n",
       "  </thead>\n",
       "  <tbody>\n",
       "    <tr>\n",
       "      <td>0</td>\n",
       "      <td>login</td>\n",
       "      <td>A</td>\n",
       "      <td>2082</td>\n",
       "    </tr>\n",
       "    <tr>\n",
       "      <td>4</td>\n",
       "      <td>product_page</td>\n",
       "      <td>A</td>\n",
       "      <td>1360</td>\n",
       "    </tr>\n",
       "    <tr>\n",
       "      <td>1</td>\n",
       "      <td>login</td>\n",
       "      <td>B</td>\n",
       "      <td>705</td>\n",
       "    </tr>\n",
       "    <tr>\n",
       "      <td>6</td>\n",
       "      <td>purchase</td>\n",
       "      <td>A</td>\n",
       "      <td>652</td>\n",
       "    </tr>\n",
       "    <tr>\n",
       "      <td>2</td>\n",
       "      <td>product_cart</td>\n",
       "      <td>A</td>\n",
       "      <td>631</td>\n",
       "    </tr>\n",
       "    <tr>\n",
       "      <td>5</td>\n",
       "      <td>product_page</td>\n",
       "      <td>B</td>\n",
       "      <td>397</td>\n",
       "    </tr>\n",
       "    <tr>\n",
       "      <td>7</td>\n",
       "      <td>purchase</td>\n",
       "      <td>B</td>\n",
       "      <td>198</td>\n",
       "    </tr>\n",
       "    <tr>\n",
       "      <td>3</td>\n",
       "      <td>product_cart</td>\n",
       "      <td>B</td>\n",
       "      <td>195</td>\n",
       "    </tr>\n",
       "  </tbody>\n",
       "</table>\n",
       "</div>"
      ],
      "text/plain": [
       "     event_name group  numbers\n",
       "0         login     A     2082\n",
       "4  product_page     A     1360\n",
       "1         login     B      705\n",
       "6      purchase     A      652\n",
       "2  product_cart     A      631\n",
       "5  product_page     B      397\n",
       "7      purchase     B      198\n",
       "3  product_cart     B      195"
      ]
     },
     "metadata": {},
     "output_type": "display_data"
    }
   ],
   "source": [
    "display(event_exp_id)"
   ]
  },
  {
   "cell_type": "code",
   "execution_count": 54,
   "metadata": {
    "scrolled": false
   },
   "outputs": [
    {
     "data": {
      "image/png": "[encoded data removed]"
     },
     "metadata": {},
     "output_type": "display_data"
    }
   ],
   "source": [
    "# Funnel plot for number of user for each events\n",
    "\n",
    "#fig = px.funnel(event_exp_id, x='numbers', y='event_name', color='group', title = \"Funnel plot for number of user for each events\")\n",
    "#fig.show()\n",
    "#Alternative\n",
    "\n",
    "fig = go.Figure()\n",
    "\n",
    "fig.add_trace(go.Funnel(\n",
    "    name = 'A',\n",
    "    y = [\"login\", \"product_page\", \"product_cart\", \"purchase\"],\n",
    "    x = [2082,1360,631,652],\n",
    "    textinfo = \"value+percent initial\"))\n",
    "\n",
    "fig.add_trace(go.Funnel(\n",
    "    name = 'B',\n",
    "    orientation = \"h\",\n",
    "    y = [\"login\", \"product_page\", \"product_cart\", \"purchase\"],\n",
    "    x = [705,397,195,198],\n",
    "    textposition = \"inside\",\n",
    "    textinfo = \"value+percent initial\"))\n",
    "\n",
    "fig.update_layout(title_text='Funnel plot for number of user for each events')\n",
    "fig.show(renderer=\"png\")"
   ]
  },
  {
   "cell_type": "code",
   "execution_count": 55,
   "metadata": {},
   "outputs": [
    {
     "data": {
      "image/png": "[encoded data removed]"
     },
     "metadata": {},
     "output_type": "display_data"
    }
   ],
   "source": [
    "# the r's code:\n",
    "event_exp_id = event_exp_id.reindex([0,1,4,5,2,3,6,7])\n",
    "fig = go.Figure()\n",
    "\n",
    "fig.add_trace(go.Funnel(\n",
    "    name = 'A',\n",
    "    y = event_exp_id.query('group == \"A\"')[\"event_name\"],\n",
    "    x = event_exp_id.query('group == \"A\"')[\"numbers\"],\n",
    "    textinfo = \"value+percent initial\"))\n",
    "\n",
    "fig.add_trace(go.Funnel(\n",
    "    name = 'B',\n",
    "    y = event_exp_id.query('group == \"B\"')[\"event_name\"],\n",
    "    x = event_exp_id.query('group == \"B\"')[\"numbers\"],\n",
    "    textinfo = \"value+percent initial\"))\n",
    "\n",
    "fig.update_layout(title_text='Funnel plot for number of user for each events')\n",
    "fig.show(renderer=\"png\")"
   ]
  },
  {
   "cell_type": "markdown",
   "metadata": {},
   "source": [
    "**Finding the number of users in each group**"
   ]
  },
  {
   "cell_type": "code",
   "execution_count": 56,
   "metadata": {},
   "outputs": [
    {
     "data": {
      "text/html": [
       "<div>\n",
       "<style scoped>\n",
       "    .dataframe tbody tr th:only-of-type {\n",
       "        vertical-align: middle;\n",
       "    }\n",
       "\n",
       "    .dataframe tbody tr th {\n",
       "        vertical-align: top;\n",
       "    }\n",
       "\n",
       "    .dataframe thead th {\n",
       "        text-align: right;\n",
       "    }\n",
       "</style>\n",
       "<table border=\"1\" class=\"dataframe\">\n",
       "  <thead>\n",
       "    <tr style=\"text-align: right;\">\n",
       "      <th></th>\n",
       "      <th>group</th>\n",
       "      <th>unique_users_num</th>\n",
       "    </tr>\n",
       "  </thead>\n",
       "  <tbody>\n",
       "    <tr>\n",
       "      <td>0</td>\n",
       "      <td>A</td>\n",
       "      <td>2082</td>\n",
       "    </tr>\n",
       "    <tr>\n",
       "      <td>1</td>\n",
       "      <td>B</td>\n",
       "      <td>706</td>\n",
       "    </tr>\n",
       "  </tbody>\n",
       "</table>\n",
       "</div>"
      ],
      "text/plain": [
       "  group  unique_users_num\n",
       "0     A              2082\n",
       "1     B               706"
      ]
     },
     "execution_count": 56,
     "metadata": {},
     "output_type": "execute_result"
    }
   ],
   "source": [
    "exp_num_users = new_df.groupby('group')['user_id'].nunique()\n",
    "exp_num_users = exp_num_users.reset_index()\n",
    "exp_num_users.columns =['group','unique_users_num']\n",
    "exp_num_users"
   ]
  },
  {
   "cell_type": "markdown",
   "metadata": {},
   "source": [
    "In our test data,  there are 2082 and 706 unique users for group A and B respectively."
   ]
  },
  {
   "cell_type": "markdown",
   "metadata": {},
   "source": [
    "**whether the groups were split properly:**"
   ]
  },
  {
   "cell_type": "code",
   "execution_count": 57,
   "metadata": {},
   "outputs": [
    {
     "data": {
      "text/html": [
       "<div>\n",
       "<style scoped>\n",
       "    .dataframe tbody tr th:only-of-type {\n",
       "        vertical-align: middle;\n",
       "    }\n",
       "\n",
       "    .dataframe tbody tr th {\n",
       "        vertical-align: top;\n",
       "    }\n",
       "\n",
       "    .dataframe thead th {\n",
       "        text-align: right;\n",
       "    }\n",
       "</style>\n",
       "<table border=\"1\" class=\"dataframe\">\n",
       "  <thead>\n",
       "    <tr style=\"text-align: right;\">\n",
       "      <th></th>\n",
       "      <th>event_name</th>\n",
       "      <th>A</th>\n",
       "      <th>B</th>\n",
       "    </tr>\n",
       "  </thead>\n",
       "  <tbody>\n",
       "    <tr>\n",
       "      <td>0</td>\n",
       "      <td>login</td>\n",
       "      <td>2082</td>\n",
       "      <td>705</td>\n",
       "    </tr>\n",
       "    <tr>\n",
       "      <td>1</td>\n",
       "      <td>product_cart</td>\n",
       "      <td>631</td>\n",
       "      <td>195</td>\n",
       "    </tr>\n",
       "    <tr>\n",
       "      <td>2</td>\n",
       "      <td>product_page</td>\n",
       "      <td>1360</td>\n",
       "      <td>397</td>\n",
       "    </tr>\n",
       "    <tr>\n",
       "      <td>3</td>\n",
       "      <td>purchase</td>\n",
       "      <td>652</td>\n",
       "      <td>198</td>\n",
       "    </tr>\n",
       "  </tbody>\n",
       "</table>\n",
       "</div>"
      ],
      "text/plain": [
       "     event_name     A    B\n",
       "0         login  2082  705\n",
       "1  product_cart   631  195\n",
       "2  product_page  1360  397\n",
       "3      purchase   652  198"
      ]
     },
     "execution_count": 57,
     "metadata": {},
     "output_type": "execute_result"
    }
   ],
   "source": [
    "event_exp_num_users= new_df.pivot_table(index='event_name', values='user_id', columns='group', aggfunc=lambda x: x.nunique())\n",
    "event_exp_num_users.columns = [' '.join(col).strip() for col in event_exp_num_users.columns.values]\n",
    "event_exp_num_users= event_exp_num_users.reset_index()\n",
    "event_exp_num_users"
   ]
  },
  {
   "cell_type": "code",
   "execution_count": 58,
   "metadata": {},
   "outputs": [
    {
     "data": {
      "image/png": "[encoded data removed]"
     },
     "metadata": {},
     "output_type": "display_data"
    }
   ],
   "source": [
    "# We can have a look on the number of unique users for each experimental group\n",
    "labels = exp_num_users['group']\n",
    "values = exp_num_users['unique_users_num']\n",
    "\n",
    "# Use `hole` to create a donut-like pie chart\n",
    "fig = go.Figure(data=[go.Pie(labels=labels, values=values, hole=.3)])\n",
    "fig.update_layout(title_text='Number and percentage of unique users for each experimental group')\n",
    "fig.show(renderer=\"png\")"
   ]
  },
  {
   "cell_type": "markdown",
   "metadata": {},
   "source": [
    "<a id='the_destination4'></a>\n",
    "### Testing Hypothesis and Study the results of the A/B Test"
   ]
  },
  {
   "cell_type": "markdown",
   "metadata": {},
   "source": [
    "**Thinking of the possible details in the data that need to be taken into account before starting the A/B test:**\n",
    "\n",
    "It is needed to \n",
    "\n",
    "- Identify the goal.\n",
    "- Split sample groups equally and randomly.\n",
    "- Determine sample size (if applicable).\n",
    "- Decide how significant the results need to be.\n",
    "\n",
    "\n",
    "- Make sure of only running one test at a time on any campaign.\n",
    "- Test both variations simultaneously.\n",
    "- Give the A/B test enough time to produce useful data.\n",
    "- Ask for feedback from real users.\n",
    "\n",
    "\n",
    "- Formulate  hypothesis correctly\n",
    "- Not to ignore statistical significance\n",
    "- Follow an iterative process\n",
    "- Consider external factors\n",
    "\n",
    "\n",
    "- Check the results as they should not be affected by anomalies or outliers in the statistical population\n",
    "- Consider the number of users in different groups doesn't vary significantly\n",
    "- Record data on the same event  for all groups and sent to analytical systems\n",
    "- Make sure users remain within their groups until the end of the test.\n"
   ]
  },
  {
   "cell_type": "markdown",
   "metadata": {},
   "source": [
    "**Formulation of hypothsis for  group A and B:**\n",
    "\n",
    "\n",
    "- Null Hypothesis (H_0) : There is no statistically significant difference for group A and B.\n",
    "\n",
    "\n",
    "- Alternative hypothesis (H_1) : There is a statistically significant difference for  group A and B."
   ]
  },
  {
   "cell_type": "markdown",
   "metadata": {},
   "source": [
    "**Critical statistical significance level**\n",
    "\n",
    "At this point, we need to determine our critical statistical significance level.\n",
    "The significance level, denoted as alpha, is the probability of rejecting the null hypothesis when p-value is less than alpha. For example, a significance level of 0.05 indicates a 5% risk of concluding that a difference exists when there is no actual difference. \n",
    "\n",
    "- However in our case, critical statistical significance level, alpha = 0.05 "
   ]
  },
  {
   "cell_type": "markdown",
   "metadata": {},
   "source": [
    "**Function for hypothesis testing**"
   ]
  },
  {
   "cell_type": "code",
   "execution_count": 59,
   "metadata": {},
   "outputs": [],
   "source": [
    "# function for hypothesis testing.\n",
    "\n",
    "# find statistical significance for each group for each event\n",
    "\n",
    "def statistical_significance_test_func(group1, group2, alpha):\n",
    "\n",
    "\n",
    "    for event in event_exp_num_users.event_name.unique():\n",
    "\n",
    "        #alpha = .05 # significance level\n",
    "        \n",
    "        successes1 = event_exp_num_users[event_exp_num_users.event_name == event][group1].iloc[0]\n",
    "        successes2 = event_exp_num_users[event_exp_num_users.event_name == event][group2].iloc[0]\n",
    "\n",
    "        \n",
    "        trials1 = new_df[new_df.group == group1]['user_id'].nunique()\n",
    "        trials2 = new_df[new_df.group == group2]['user_id'].nunique()\n",
    "\n",
    "        # success proportion in the first group:\n",
    "        p1 = successes1 / trials1\n",
    "\n",
    "        # success proportion in the second group:\n",
    "        p2 = successes2 / trials2\n",
    "\n",
    "        # success proportion in the combined dataset:\n",
    "        p_combined = (successes1 + successes2) / (trials1 + trials2)\n",
    "\n",
    "        # the difference between the datasets' proportions\n",
    "        difference = p1 - p2\n",
    "        \n",
    "        # calculating the statistic in standard deviations of the standard normal distribution\n",
    "        z_value = difference / math.sqrt(p_combined * (1 - p_combined) * (1/trials1 + 1/trials2))\n",
    "\n",
    "        # setting up the standard normal distribution (mean 0, standard deviation 1)\n",
    "        distr = stats.norm(0,1)\n",
    "\n",
    "        # calculate p_value\n",
    "        p_value = (1 - distr.cdf(abs(z_value))) * 2\n",
    "        print('p_value: ', p_value)\n",
    "        \n",
    "        if (p_value < alpha):\n",
    "            print(\"We reject the null hypothesis. There is a significant difference between the proportions for for the event:\",event, \"of control groups\",group1, \"and\", group2 ,\".\")\n",
    "            print()\n",
    "        else:\n",
    "            print(\"We can't reject the null hypothesis. There is no reason to consider the proportions are different for the event:\", event,\"of control groups\",group1, \"and\", group2 , \".\")\n",
    "            print()\n"
   ]
  },
  {
   "cell_type": "code",
   "execution_count": 60,
   "metadata": {},
   "outputs": [
    {
     "name": "stdout",
     "output_type": "stream",
     "text": [
      "p_value:  0.08587401754779211\n",
      "We can't reject the null hypothesis. There is no reason to consider the proportions are different for the event: login of control groups A and B .\n",
      "\n",
      "p_value:  0.1766337419130104\n",
      "We can't reject the null hypothesis. There is no reason to consider the proportions are different for the event: product_cart of control groups A and B .\n",
      "\n",
      "p_value:  1.5371909704686715e-05\n",
      "We reject the null hypothesis. There is a significant difference between the proportions for for the event: product_page of control groups A and B .\n",
      "\n",
      "p_value:  0.10281767567786759\n",
      "We can't reject the null hypothesis. There is no reason to consider the proportions are different for the event: purchase of control groups A and B .\n",
      "\n"
     ]
    }
   ],
   "source": [
    "statistical_significance_test_func(\"A\", \"B\", 0.05)"
   ]
  },
  {
   "cell_type": "markdown",
   "metadata": {},
   "source": [
    "**Number of statistical hypothesis tests that were carried out, required significance level , Bonferroni procedure (correction):**"
   ]
  },
  {
   "cell_type": "markdown",
   "metadata": {},
   "source": [
    "The same function written above can be implemented for the Bonferroni procedure."
   ]
  },
  {
   "cell_type": "code",
   "execution_count": 61,
   "metadata": {},
   "outputs": [],
   "source": [
    "# function for hypothesis testing.\n",
    "\n",
    "# find statistical significance for each group for each event\n",
    "\n",
    "def statistical_significance_test_func(group1, group2, alpha):\n",
    "\n",
    "\n",
    "    for event in event_exp_num_users.event_name.unique():\n",
    "\n",
    "        #alpha = .05 # significance level\n",
    "        #bonferroni_alpha = alpha / 15  # 2*4 = 8 comparisons made\n",
    "        \n",
    "        successes1 = event_exp_num_users[event_exp_num_users.event_name == event][group1].iloc[0]\n",
    "        successes2 = event_exp_num_users[event_exp_num_users.event_name == event][group2].iloc[0]\n",
    "\n",
    "        \n",
    "        trials1 = new_df[new_df.group == group1]['user_id'].nunique()\n",
    "        trials2 = new_df[new_df.group == group2]['user_id'].nunique()\n",
    "\n",
    "        # success proportion in the first group:\n",
    "        p1 = successes1 / trials1\n",
    "\n",
    "        # success proportion in the second group:\n",
    "        p2 = successes2 / trials2\n",
    "\n",
    "        # success proportion in the combined dataset:\n",
    "        p_combined = (successes1 + successes2) / (trials1 + trials2)\n",
    "\n",
    "        # the difference between the datasets' proportions\n",
    "        difference = p1 - p2\n",
    "        \n",
    "        # calculating the statistic in standard deviations of the standard normal distribution\n",
    "        z_value = difference / math.sqrt(p_combined * (1 - p_combined) * (1/trials1 + 1/trials2))\n",
    "\n",
    "        # setting up the standard normal distribution (mean 0, standard deviation 1)\n",
    "        distr = stats.norm(0,1)\n",
    "\n",
    "        # calculate p_value\n",
    "        p_value = (1 - distr.cdf(abs(z_value))) * 2\n",
    "        print('p_value: ', p_value)\n",
    "        \n",
    "        if (p_value < alpha):\n",
    "            print(\"We reject the null hypothesis. There is a significant difference between the proportions for for the event:\",event, \"of control groups\",group1, \"and\", group2 ,\".\")\n",
    "            print()\n",
    "        else:\n",
    "            print(\"We can't reject the null hypothesis. There is no reason to consider the proportions are different for the event:\", event,\"of control groups\",group1, \"and\", group2 , \".\")\n",
    "            print()\n"
   ]
  },
  {
   "cell_type": "code",
   "execution_count": 62,
   "metadata": {},
   "outputs": [
    {
     "name": "stdout",
     "output_type": "stream",
     "text": [
      "bonferroni_alpha: 0.00625\n"
     ]
    }
   ],
   "source": [
    "# required significance level, alpha = 0.05;  Number of comparison = 2*4 = 8 \n",
    "bonferroni_alpha = 0.05 / 8  \n",
    "print('bonferroni_alpha:', bonferroni_alpha)"
   ]
  },
  {
   "cell_type": "code",
   "execution_count": 63,
   "metadata": {},
   "outputs": [
    {
     "name": "stdout",
     "output_type": "stream",
     "text": [
      "p_value:  0.08587401754779211\n",
      "We can't reject the null hypothesis. There is no reason to consider the proportions are different for the event: login of control groups A and B .\n",
      "\n",
      "p_value:  0.1766337419130104\n",
      "We can't reject the null hypothesis. There is no reason to consider the proportions are different for the event: product_cart of control groups A and B .\n",
      "\n",
      "p_value:  1.5371909704686715e-05\n",
      "We reject the null hypothesis. There is a significant difference between the proportions for for the event: product_page of control groups A and B .\n",
      "\n",
      "p_value:  0.10281767567786759\n",
      "We can't reject the null hypothesis. There is no reason to consider the proportions are different for the event: purchase of control groups A and B .\n",
      "\n"
     ]
    }
   ],
   "source": [
    "statistical_significance_test_func(\"A\", \"B\", 0.00625) # bonferroni_alpha has been applied"
   ]
  },
  {
   "cell_type": "code",
   "execution_count": 64,
   "metadata": {},
   "outputs": [
    {
     "data": {
      "text/html": [
       "<div>\n",
       "<style scoped>\n",
       "    .dataframe tbody tr th:only-of-type {\n",
       "        vertical-align: middle;\n",
       "    }\n",
       "\n",
       "    .dataframe tbody tr th {\n",
       "        vertical-align: top;\n",
       "    }\n",
       "\n",
       "    .dataframe thead th {\n",
       "        text-align: right;\n",
       "    }\n",
       "</style>\n",
       "<table border=\"1\" class=\"dataframe\">\n",
       "  <thead>\n",
       "    <tr style=\"text-align: right;\">\n",
       "      <th></th>\n",
       "      <th>event_date</th>\n",
       "      <th>details_cum</th>\n",
       "    </tr>\n",
       "  </thead>\n",
       "  <tbody>\n",
       "    <tr>\n",
       "      <td>0</td>\n",
       "      <td>2020-12-07</td>\n",
       "      <td>744.70</td>\n",
       "    </tr>\n",
       "    <tr>\n",
       "      <td>1</td>\n",
       "      <td>2020-12-08</td>\n",
       "      <td>1479.40</td>\n",
       "    </tr>\n",
       "    <tr>\n",
       "      <td>2</td>\n",
       "      <td>2020-12-09</td>\n",
       "      <td>2803.97</td>\n",
       "    </tr>\n",
       "    <tr>\n",
       "      <td>3</td>\n",
       "      <td>2020-12-10</td>\n",
       "      <td>3993.59</td>\n",
       "    </tr>\n",
       "    <tr>\n",
       "      <td>4</td>\n",
       "      <td>2020-12-11</td>\n",
       "      <td>4953.26</td>\n",
       "    </tr>\n",
       "  </tbody>\n",
       "</table>\n",
       "</div>"
      ],
      "text/plain": [
       "  event_date  details_cum\n",
       "0 2020-12-07       744.70\n",
       "1 2020-12-08      1479.40\n",
       "2 2020-12-09      2803.97\n",
       "3 2020-12-10      3993.59\n",
       "4 2020-12-11      4953.26"
      ]
     },
     "metadata": {},
     "output_type": "display_data"
    }
   ],
   "source": [
    "#Finding the cumulative details/revenue for group A in terms of date\n",
    "\n",
    "date_details_cum_A = new_df.query(' group==\"A\" and event_name ==\"purchase\" ')\n",
    "date_details_cum_A.event_date = pd.to_datetime(date_details_cum_A.event_date)\n",
    "date_details_cum_A =date_details_cum_A.groupby('event_date').details.sum()\n",
    "date_details_cum_A  = date_details_cum_A .groupby(date_details_cum_A .index.month).cumsum().reset_index()\n",
    "date_details_cum_A.columns=['event_date', 'details_cum']\n",
    "display(date_details_cum_A.head())"
   ]
  },
  {
   "cell_type": "code",
   "execution_count": 65,
   "metadata": {},
   "outputs": [
    {
     "data": {
      "text/html": [
       "<div>\n",
       "<style scoped>\n",
       "    .dataframe tbody tr th:only-of-type {\n",
       "        vertical-align: middle;\n",
       "    }\n",
       "\n",
       "    .dataframe tbody tr th {\n",
       "        vertical-align: top;\n",
       "    }\n",
       "\n",
       "    .dataframe thead th {\n",
       "        text-align: right;\n",
       "    }\n",
       "</style>\n",
       "<table border=\"1\" class=\"dataframe\">\n",
       "  <thead>\n",
       "    <tr style=\"text-align: right;\">\n",
       "      <th></th>\n",
       "      <th>event_date</th>\n",
       "      <th>details_cum</th>\n",
       "    </tr>\n",
       "  </thead>\n",
       "  <tbody>\n",
       "    <tr>\n",
       "      <td>0</td>\n",
       "      <td>2020-12-07</td>\n",
       "      <td>639.53</td>\n",
       "    </tr>\n",
       "    <tr>\n",
       "      <td>1</td>\n",
       "      <td>2020-12-08</td>\n",
       "      <td>984.27</td>\n",
       "    </tr>\n",
       "    <tr>\n",
       "      <td>2</td>\n",
       "      <td>2020-12-09</td>\n",
       "      <td>1338.99</td>\n",
       "    </tr>\n",
       "    <tr>\n",
       "      <td>3</td>\n",
       "      <td>2020-12-10</td>\n",
       "      <td>1948.79</td>\n",
       "    </tr>\n",
       "    <tr>\n",
       "      <td>4</td>\n",
       "      <td>2020-12-11</td>\n",
       "      <td>2018.68</td>\n",
       "    </tr>\n",
       "  </tbody>\n",
       "</table>\n",
       "</div>"
      ],
      "text/plain": [
       "  event_date  details_cum\n",
       "0 2020-12-07       639.53\n",
       "1 2020-12-08       984.27\n",
       "2 2020-12-09      1338.99\n",
       "3 2020-12-10      1948.79\n",
       "4 2020-12-11      2018.68"
      ]
     },
     "metadata": {},
     "output_type": "display_data"
    }
   ],
   "source": [
    "#Finding the cumulative details/revenue for group B in terms of date\n",
    "\n",
    "date_details_cum_B = new_df.query(' group==\"B\" and event_name ==\"purchase\" ')\n",
    "date_details_cum_B.event_date = pd.to_datetime(date_details_cum_B.event_date)\n",
    "date_details_cum_B =date_details_cum_B.groupby('event_date').details.sum()\n",
    "date_details_cum_B  = date_details_cum_B .groupby(date_details_cum_B .index.month).cumsum().reset_index()\n",
    "date_details_cum_B.columns=['event_date', 'details_cum']\n",
    "display(date_details_cum_B.head())"
   ]
  },
  {
   "cell_type": "code",
   "execution_count": 66,
   "metadata": {},
   "outputs": [
    {
     "data": {
      "image/png": "[encoded data removed]",
      "text/plain": [
       "<Figure size 864x432 with 1 Axes>"
      ]
     },
     "metadata": {
      "needs_background": "light"
     },
     "output_type": "display_data"
    }
   ],
   "source": [
    "# Plotting Cumulative revenue by group\n",
    "\n",
    "plt.figure(figsize=(12, 6))\n",
    "# Plotting the group A revenue graph \n",
    "plt.plot(date_details_cum_A['event_date'], date_details_cum_A['details_cum'], label='A')\n",
    "\n",
    "# Plotting the group B revenue graph \n",
    "plt.plot(date_details_cum_B['event_date'], date_details_cum_B['details_cum'], label='B')\n",
    "\n",
    "plt.title('Cumulative revenue by group ', size =14)\n",
    "plt.xlabel('Time period')\n",
    "plt.ylabel('Cumulative revenue')\n",
    "\n",
    "plt.legend()\n",
    "plt.show()"
   ]
  },
  {
   "cell_type": "code",
   "execution_count": 67,
   "metadata": {},
   "outputs": [],
   "source": [
    "# Finding the number of each events in each date\n",
    "date_test_group_A = new_df.query('group == \"A\" ').groupby(['event_date','event_name' ])['event_name'].count().to_frame()\n",
    "date_test_group_A.columns = [' '.join(col).strip() for col in date_test_group_A.columns.values]\n",
    "date_test_group_A  = date_test_group_A.reset_index()\n",
    "date_test_group_A.columns = ['event_date', 'event_name', 'number_of_events']\n",
    "#display(date_test_group_A.head())"
   ]
  },
  {
   "cell_type": "code",
   "execution_count": 68,
   "metadata": {},
   "outputs": [],
   "source": [
    "# changing the view of above data frame of the number of each events in each date\n",
    "date_wise_events_A = date_test_group_A.set_index(['event_date','event_name'])['number_of_events'].unstack()\n",
    "date_wise_events_A.columns = [' '.join(col).strip() for col in date_wise_events_A.columns.values]\n",
    "date_wise_events_A  = date_wise_events_A.reset_index()\n",
    "date_wise_events_A.columns = ['event_date', 'login', 'product_cart','product_page','purchase']\n",
    "#display(date_wise_events_A.head())"
   ]
  },
  {
   "cell_type": "code",
   "execution_count": 69,
   "metadata": {},
   "outputs": [
    {
     "data": {
      "text/html": [
       "<div>\n",
       "<style scoped>\n",
       "    .dataframe tbody tr th:only-of-type {\n",
       "        vertical-align: middle;\n",
       "    }\n",
       "\n",
       "    .dataframe tbody tr th {\n",
       "        vertical-align: top;\n",
       "    }\n",
       "\n",
       "    .dataframe thead th {\n",
       "        text-align: right;\n",
       "    }\n",
       "</style>\n",
       "<table border=\"1\" class=\"dataframe\">\n",
       "  <thead>\n",
       "    <tr style=\"text-align: right;\">\n",
       "      <th></th>\n",
       "      <th>event_date</th>\n",
       "      <th>login</th>\n",
       "      <th>product_cart</th>\n",
       "      <th>product_page</th>\n",
       "      <th>purchase</th>\n",
       "      <th>login_cum</th>\n",
       "      <th>pro_cart_cum</th>\n",
       "      <th>pro_page_cum</th>\n",
       "      <th>purchase_cum</th>\n",
       "    </tr>\n",
       "  </thead>\n",
       "  <tbody>\n",
       "    <tr>\n",
       "      <td>0</td>\n",
       "      <td>2020-12-07</td>\n",
       "      <td>109</td>\n",
       "      <td>25</td>\n",
       "      <td>70</td>\n",
       "      <td>30</td>\n",
       "      <td>109</td>\n",
       "      <td>25</td>\n",
       "      <td>70</td>\n",
       "      <td>30</td>\n",
       "    </tr>\n",
       "    <tr>\n",
       "      <td>1</td>\n",
       "      <td>2020-12-08</td>\n",
       "      <td>121</td>\n",
       "      <td>30</td>\n",
       "      <td>86</td>\n",
       "      <td>30</td>\n",
       "      <td>230</td>\n",
       "      <td>55</td>\n",
       "      <td>156</td>\n",
       "      <td>60</td>\n",
       "    </tr>\n",
       "    <tr>\n",
       "      <td>2</td>\n",
       "      <td>2020-12-09</td>\n",
       "      <td>135</td>\n",
       "      <td>35</td>\n",
       "      <td>83</td>\n",
       "      <td>43</td>\n",
       "      <td>365</td>\n",
       "      <td>90</td>\n",
       "      <td>239</td>\n",
       "      <td>103</td>\n",
       "    </tr>\n",
       "    <tr>\n",
       "      <td>3</td>\n",
       "      <td>2020-12-10</td>\n",
       "      <td>122</td>\n",
       "      <td>33</td>\n",
       "      <td>72</td>\n",
       "      <td>38</td>\n",
       "      <td>487</td>\n",
       "      <td>123</td>\n",
       "      <td>311</td>\n",
       "      <td>141</td>\n",
       "    </tr>\n",
       "    <tr>\n",
       "      <td>4</td>\n",
       "      <td>2020-12-11</td>\n",
       "      <td>137</td>\n",
       "      <td>35</td>\n",
       "      <td>77</td>\n",
       "      <td>33</td>\n",
       "      <td>624</td>\n",
       "      <td>158</td>\n",
       "      <td>388</td>\n",
       "      <td>174</td>\n",
       "    </tr>\n",
       "  </tbody>\n",
       "</table>\n",
       "</div>"
      ],
      "text/plain": [
       "  event_date  login  product_cart  product_page  purchase  login_cum  \\\n",
       "0 2020-12-07    109            25            70        30        109   \n",
       "1 2020-12-08    121            30            86        30        230   \n",
       "2 2020-12-09    135            35            83        43        365   \n",
       "3 2020-12-10    122            33            72        38        487   \n",
       "4 2020-12-11    137            35            77        33        624   \n",
       "\n",
       "   pro_cart_cum  pro_page_cum  purchase_cum  \n",
       "0            25            70            30  \n",
       "1            55           156            60  \n",
       "2            90           239           103  \n",
       "3           123           311           141  \n",
       "4           158           388           174  "
      ]
     },
     "metadata": {},
     "output_type": "display_data"
    }
   ],
   "source": [
    "# Finding the cumulative sum of number of all events for each date\n",
    "date_wise_events_A['login_cum']=date_wise_events_A['login'].cumsum()\n",
    "date_wise_events_A['pro_cart_cum']=date_wise_events_A['product_cart'].cumsum()\n",
    "date_wise_events_A['pro_page_cum']=date_wise_events_A['product_page'].cumsum()\n",
    "date_wise_events_A['purchase_cum']=date_wise_events_A['purchase'].cumsum()\n",
    "display(date_wise_events_A.head())"
   ]
  },
  {
   "cell_type": "code",
   "execution_count": 70,
   "metadata": {},
   "outputs": [],
   "source": [
    "# Finding the number of each events in each date\n",
    "date_test_group_B = new_df.query('group == \"B\" ').groupby(['event_date','event_name' ])['event_name'].count().to_frame()\n",
    "date_test_group_B.columns = [' '.join(col).strip() for col in date_test_group_B.columns.values]\n",
    "date_test_group_B  = date_test_group_B.reset_index()\n",
    "date_test_group_B.columns = ['event_date', 'event_name', 'number_of_events']\n",
    "#display(date_test_group_B)"
   ]
  },
  {
   "cell_type": "code",
   "execution_count": 71,
   "metadata": {},
   "outputs": [],
   "source": [
    "# changing the view of above data frame of the number of each events in each date\n",
    "date_wise_events_B = date_test_group_B.set_index(['event_date','event_name'])['number_of_events'].unstack()\n",
    "date_wise_events_B.columns = [' '.join(col).strip() for col in date_wise_events_B.columns.values]\n",
    "date_wise_events_B  = date_wise_events_B.reset_index()\n",
    "date_wise_events_B.columns = ['event_date', 'login', 'product_cart','product_page','purchase']\n",
    "#display(date_wise_events_B)"
   ]
  },
  {
   "cell_type": "code",
   "execution_count": 72,
   "metadata": {},
   "outputs": [
    {
     "data": {
      "text/html": [
       "<div>\n",
       "<style scoped>\n",
       "    .dataframe tbody tr th:only-of-type {\n",
       "        vertical-align: middle;\n",
       "    }\n",
       "\n",
       "    .dataframe tbody tr th {\n",
       "        vertical-align: top;\n",
       "    }\n",
       "\n",
       "    .dataframe thead th {\n",
       "        text-align: right;\n",
       "    }\n",
       "</style>\n",
       "<table border=\"1\" class=\"dataframe\">\n",
       "  <thead>\n",
       "    <tr style=\"text-align: right;\">\n",
       "      <th></th>\n",
       "      <th>event_date</th>\n",
       "      <th>login</th>\n",
       "      <th>product_cart</th>\n",
       "      <th>product_page</th>\n",
       "      <th>purchase</th>\n",
       "      <th>login_cum</th>\n",
       "      <th>pro_cart_cum</th>\n",
       "      <th>pro_page_cum</th>\n",
       "      <th>purchase_cum</th>\n",
       "    </tr>\n",
       "  </thead>\n",
       "  <tbody>\n",
       "    <tr>\n",
       "      <td>0</td>\n",
       "      <td>2020-12-07</td>\n",
       "      <td>124</td>\n",
       "      <td>36</td>\n",
       "      <td>83</td>\n",
       "      <td>47</td>\n",
       "      <td>124</td>\n",
       "      <td>36</td>\n",
       "      <td>83</td>\n",
       "      <td>47</td>\n",
       "    </tr>\n",
       "    <tr>\n",
       "      <td>1</td>\n",
       "      <td>2020-12-08</td>\n",
       "      <td>87</td>\n",
       "      <td>26</td>\n",
       "      <td>44</td>\n",
       "      <td>26</td>\n",
       "      <td>211</td>\n",
       "      <td>62</td>\n",
       "      <td>127</td>\n",
       "      <td>73</td>\n",
       "    </tr>\n",
       "    <tr>\n",
       "      <td>2</td>\n",
       "      <td>2020-12-09</td>\n",
       "      <td>128</td>\n",
       "      <td>36</td>\n",
       "      <td>81</td>\n",
       "      <td>28</td>\n",
       "      <td>339</td>\n",
       "      <td>98</td>\n",
       "      <td>208</td>\n",
       "      <td>101</td>\n",
       "    </tr>\n",
       "    <tr>\n",
       "      <td>3</td>\n",
       "      <td>2020-12-10</td>\n",
       "      <td>96</td>\n",
       "      <td>29</td>\n",
       "      <td>51</td>\n",
       "      <td>20</td>\n",
       "      <td>435</td>\n",
       "      <td>127</td>\n",
       "      <td>259</td>\n",
       "      <td>121</td>\n",
       "    </tr>\n",
       "    <tr>\n",
       "      <td>4</td>\n",
       "      <td>2020-12-11</td>\n",
       "      <td>64</td>\n",
       "      <td>16</td>\n",
       "      <td>31</td>\n",
       "      <td>11</td>\n",
       "      <td>499</td>\n",
       "      <td>143</td>\n",
       "      <td>290</td>\n",
       "      <td>132</td>\n",
       "    </tr>\n",
       "  </tbody>\n",
       "</table>\n",
       "</div>"
      ],
      "text/plain": [
       "  event_date  login  product_cart  product_page  purchase  login_cum  \\\n",
       "0 2020-12-07    124            36            83        47        124   \n",
       "1 2020-12-08     87            26            44        26        211   \n",
       "2 2020-12-09    128            36            81        28        339   \n",
       "3 2020-12-10     96            29            51        20        435   \n",
       "4 2020-12-11     64            16            31        11        499   \n",
       "\n",
       "   pro_cart_cum  pro_page_cum  purchase_cum  \n",
       "0            36            83            47  \n",
       "1            62           127            73  \n",
       "2            98           208           101  \n",
       "3           127           259           121  \n",
       "4           143           290           132  "
      ]
     },
     "metadata": {},
     "output_type": "display_data"
    }
   ],
   "source": [
    "# Finding the cumulative sum of number of all events for each date\n",
    "date_wise_events_B['login_cum']=date_wise_events_B['login'].cumsum()\n",
    "date_wise_events_B['pro_cart_cum']=date_wise_events_B['product_cart'].cumsum()\n",
    "date_wise_events_B['pro_page_cum']=date_wise_events_B['product_page'].cumsum()\n",
    "date_wise_events_B['purchase_cum']=date_wise_events_B['purchase'].cumsum()\n",
    "display(date_wise_events_B.head())"
   ]
  },
  {
   "cell_type": "code",
   "execution_count": 73,
   "metadata": {},
   "outputs": [
    {
     "data": {
      "text/html": [
       "<div>\n",
       "<style scoped>\n",
       "    .dataframe tbody tr th:only-of-type {\n",
       "        vertical-align: middle;\n",
       "    }\n",
       "\n",
       "    .dataframe tbody tr th {\n",
       "        vertical-align: top;\n",
       "    }\n",
       "\n",
       "    .dataframe thead th {\n",
       "        text-align: right;\n",
       "    }\n",
       "</style>\n",
       "<table border=\"1\" class=\"dataframe\">\n",
       "  <thead>\n",
       "    <tr style=\"text-align: right;\">\n",
       "      <th></th>\n",
       "      <th>event_date</th>\n",
       "      <th>loginA</th>\n",
       "      <th>product_cartA</th>\n",
       "      <th>product_pageA</th>\n",
       "      <th>purchaseA</th>\n",
       "      <th>login_cumA</th>\n",
       "      <th>pro_cart_cumA</th>\n",
       "      <th>pro_page_cumA</th>\n",
       "      <th>purchase_cumA</th>\n",
       "      <th>loginB</th>\n",
       "      <th>product_cartB</th>\n",
       "      <th>product_pageB</th>\n",
       "      <th>purchaseB</th>\n",
       "      <th>login_cumB</th>\n",
       "      <th>pro_cart_cumB</th>\n",
       "      <th>pro_page_cumB</th>\n",
       "      <th>purchase_cumB</th>\n",
       "    </tr>\n",
       "  </thead>\n",
       "  <tbody>\n",
       "    <tr>\n",
       "      <td>0</td>\n",
       "      <td>2020-12-07</td>\n",
       "      <td>109</td>\n",
       "      <td>25</td>\n",
       "      <td>70</td>\n",
       "      <td>30</td>\n",
       "      <td>109</td>\n",
       "      <td>25</td>\n",
       "      <td>70</td>\n",
       "      <td>30</td>\n",
       "      <td>124</td>\n",
       "      <td>36</td>\n",
       "      <td>83</td>\n",
       "      <td>47</td>\n",
       "      <td>124</td>\n",
       "      <td>36</td>\n",
       "      <td>83</td>\n",
       "      <td>47</td>\n",
       "    </tr>\n",
       "    <tr>\n",
       "      <td>1</td>\n",
       "      <td>2020-12-08</td>\n",
       "      <td>121</td>\n",
       "      <td>30</td>\n",
       "      <td>86</td>\n",
       "      <td>30</td>\n",
       "      <td>230</td>\n",
       "      <td>55</td>\n",
       "      <td>156</td>\n",
       "      <td>60</td>\n",
       "      <td>87</td>\n",
       "      <td>26</td>\n",
       "      <td>44</td>\n",
       "      <td>26</td>\n",
       "      <td>211</td>\n",
       "      <td>62</td>\n",
       "      <td>127</td>\n",
       "      <td>73</td>\n",
       "    </tr>\n",
       "    <tr>\n",
       "      <td>2</td>\n",
       "      <td>2020-12-09</td>\n",
       "      <td>135</td>\n",
       "      <td>35</td>\n",
       "      <td>83</td>\n",
       "      <td>43</td>\n",
       "      <td>365</td>\n",
       "      <td>90</td>\n",
       "      <td>239</td>\n",
       "      <td>103</td>\n",
       "      <td>128</td>\n",
       "      <td>36</td>\n",
       "      <td>81</td>\n",
       "      <td>28</td>\n",
       "      <td>339</td>\n",
       "      <td>98</td>\n",
       "      <td>208</td>\n",
       "      <td>101</td>\n",
       "    </tr>\n",
       "    <tr>\n",
       "      <td>3</td>\n",
       "      <td>2020-12-10</td>\n",
       "      <td>122</td>\n",
       "      <td>33</td>\n",
       "      <td>72</td>\n",
       "      <td>38</td>\n",
       "      <td>487</td>\n",
       "      <td>123</td>\n",
       "      <td>311</td>\n",
       "      <td>141</td>\n",
       "      <td>96</td>\n",
       "      <td>29</td>\n",
       "      <td>51</td>\n",
       "      <td>20</td>\n",
       "      <td>435</td>\n",
       "      <td>127</td>\n",
       "      <td>259</td>\n",
       "      <td>121</td>\n",
       "    </tr>\n",
       "    <tr>\n",
       "      <td>4</td>\n",
       "      <td>2020-12-11</td>\n",
       "      <td>137</td>\n",
       "      <td>35</td>\n",
       "      <td>77</td>\n",
       "      <td>33</td>\n",
       "      <td>624</td>\n",
       "      <td>158</td>\n",
       "      <td>388</td>\n",
       "      <td>174</td>\n",
       "      <td>64</td>\n",
       "      <td>16</td>\n",
       "      <td>31</td>\n",
       "      <td>11</td>\n",
       "      <td>499</td>\n",
       "      <td>143</td>\n",
       "      <td>290</td>\n",
       "      <td>132</td>\n",
       "    </tr>\n",
       "  </tbody>\n",
       "</table>\n",
       "</div>"
      ],
      "text/plain": [
       "  event_date  loginA  product_cartA  product_pageA  purchaseA  login_cumA  \\\n",
       "0 2020-12-07     109             25             70         30         109   \n",
       "1 2020-12-08     121             30             86         30         230   \n",
       "2 2020-12-09     135             35             83         43         365   \n",
       "3 2020-12-10     122             33             72         38         487   \n",
       "4 2020-12-11     137             35             77         33         624   \n",
       "\n",
       "   pro_cart_cumA  pro_page_cumA  purchase_cumA  loginB  product_cartB  \\\n",
       "0             25             70             30     124             36   \n",
       "1             55            156             60      87             26   \n",
       "2             90            239            103     128             36   \n",
       "3            123            311            141      96             29   \n",
       "4            158            388            174      64             16   \n",
       "\n",
       "   product_pageB  purchaseB  login_cumB  pro_cart_cumB  pro_page_cumB  \\\n",
       "0             83         47         124             36             83   \n",
       "1             44         26         211             62            127   \n",
       "2             81         28         339             98            208   \n",
       "3             51         20         435            127            259   \n",
       "4             31         11         499            143            290   \n",
       "\n",
       "   purchase_cumB  \n",
       "0             47  \n",
       "1             73  \n",
       "2            101  \n",
       "3            121  \n",
       "4            132  "
      ]
     },
     "metadata": {},
     "output_type": "display_data"
    }
   ],
   "source": [
    "merged_date_wise_events = date_wise_events_A.merge(date_wise_events_B, left_on='event_date', right_on='event_date', how='left', suffixes=['A', 'B'])\n",
    "display(merged_date_wise_events.head())"
   ]
  },
  {
   "cell_type": "code",
   "execution_count": 74,
   "metadata": {},
   "outputs": [
    {
     "data": {
      "image/png": "[encoded data removed]",
      "text/plain": [
       "<Figure size 864x432 with 1 Axes>"
      ]
     },
     "metadata": {
      "needs_background": "light"
     },
     "output_type": "display_data"
    }
   ],
   "source": [
    "# calculating cumulative conversion\n",
    "\n",
    "date_wise_events_A['conversion'] = date_wise_events_A['purchase_cum']/date_wise_events_A['login_cum']\n",
    "date_wise_events_B['conversion'] = date_wise_events_B['purchase_cum']/date_wise_events_B['login_cum']\n",
    "\n",
    "\n",
    "\n",
    "# plotting the graphs\n",
    "plt.figure(figsize=(12,6))\n",
    "plt.plot(date_wise_events_A['event_date'], date_wise_events_A['conversion'], label='A')\n",
    "plt.plot(date_wise_events_B['event_date'], date_wise_events_B['conversion'], label='B')\n",
    "\n",
    "# setting the axes' scale\n",
    "#plt.axis(['2020-12-09', '2020-12-29', 0, 0.1]) \n",
    "\n",
    "plt.title('Cumulative conversion graph From login to Purchase', size =14)\n",
    "plt.xlabel('Time period')\n",
    "plt.ylabel('conversion rate')\n",
    "\n",
    "plt.legend()\n",
    "plt.show()"
   ]
  },
  {
   "cell_type": "code",
   "execution_count": 75,
   "metadata": {},
   "outputs": [
    {
     "data": {
      "image/png": "[encoded data removed]",
      "text/plain": [
       "<Figure size 864x432 with 1 Axes>"
      ]
     },
     "metadata": {
      "needs_background": "light"
     },
     "output_type": "display_data"
    }
   ],
   "source": [
    "# calculating cumulative conversion\n",
    "date_wise_events_A['conversion'] = date_wise_events_A['pro_page_cum']/date_wise_events_A['login_cum']\n",
    "date_wise_events_B['conversion'] = date_wise_events_B['pro_page_cum']/date_wise_events_B['login_cum']\n",
    "\n",
    "\n",
    "\n",
    "# plotting the graphs\n",
    "plt.figure(figsize=(12,6))\n",
    "plt.plot(date_wise_events_A['event_date'], date_wise_events_A['conversion'], label='A')\n",
    "plt.plot(date_wise_events_B['event_date'], date_wise_events_B['conversion'], label='B')\n",
    "\n",
    "\n",
    "plt.title('Cumulative conversion graph From login to product_page', size =14)\n",
    "plt.xlabel('Time period')\n",
    "plt.ylabel('conversion rate')\n",
    "\n",
    "plt.legend()\n",
    "plt.show()"
   ]
  },
  {
   "cell_type": "code",
   "execution_count": 76,
   "metadata": {},
   "outputs": [
    {
     "data": {
      "image/png": "[encoded data removed]",
      "text/plain": [
       "<Figure size 864x432 with 1 Axes>"
      ]
     },
     "metadata": {
      "needs_background": "light"
     },
     "output_type": "display_data"
    }
   ],
   "source": [
    "# calculating cumulative conversion\n",
    "date_wise_events_A['conversion'] = date_wise_events_A['pro_cart_cum']/date_wise_events_A['pro_page_cum']\n",
    "date_wise_events_B['conversion'] = date_wise_events_B['pro_cart_cum']/date_wise_events_B['pro_page_cum']\n",
    "\n",
    "\n",
    "\n",
    "# plotting the graphs\n",
    "plt.figure(figsize=(12,6))\n",
    "plt.plot(date_wise_events_A['event_date'], date_wise_events_A['conversion'], label='A')\n",
    "plt.plot(date_wise_events_B['event_date'], date_wise_events_B['conversion'], label='B')\n",
    "\n",
    "\n",
    "plt.title('Cumulative conversion graph From product_page to product_cart', size =14)\n",
    "plt.xlabel('Time period')\n",
    "plt.ylabel('conversion rate')\n",
    "\n",
    "plt.legend()\n",
    "plt.show()"
   ]
  },
  {
   "cell_type": "code",
   "execution_count": 77,
   "metadata": {},
   "outputs": [
    {
     "data": {
      "image/png": "[encoded data removed]",
      "text/plain": [
       "<Figure size 864x432 with 1 Axes>"
      ]
     },
     "metadata": {
      "needs_background": "light"
     },
     "output_type": "display_data"
    }
   ],
   "source": [
    "# Relative difference graph for the cumulative conversion rates\n",
    "plt.figure(figsize=(12,6))\n",
    "\n",
    "plt.plot(merged_date_wise_events['event_date'], (merged_date_wise_events['pro_cart_cumB']/merged_date_wise_events['pro_page_cumB'])/(merged_date_wise_events['pro_cart_cumA']/merged_date_wise_events['pro_page_cumA'])-1)\n",
    "\n",
    "plt.axhline(y=0, color='black', linestyle='--')\n",
    "plt.axhline(y=-0.1, color='grey', linestyle='--')\n",
    "plt.axis([\"2020-12-07\", '2020-12-31', -.1, .4])\n",
    "\n",
    "plt.title('Relative difference graph for the cumulative conversion rates From product_page to product_cart', size =14)\n",
    "plt.xlabel('Time period')\n",
    "plt.ylabel('Relative difference for the cumulative conversion rates')\n",
    "\n",
    "plt.show()\n"
   ]
  },
  {
   "cell_type": "code",
   "execution_count": 78,
   "metadata": {},
   "outputs": [
    {
     "data": {
      "image/png": "[encoded data removed]",
      "text/plain": [
       "<Figure size 864x432 with 1 Axes>"
      ]
     },
     "metadata": {
      "needs_background": "light"
     },
     "output_type": "display_data"
    }
   ],
   "source": [
    "# calculating cumulative conversion\n",
    "date_wise_events_A['conversion'] = date_wise_events_A['purchase_cum']/date_wise_events_A['pro_cart_cum']\n",
    "date_wise_events_B['conversion'] = date_wise_events_B['purchase_cum']/date_wise_events_B['pro_cart_cum']\n",
    "\n",
    "\n",
    "\n",
    "# plotting the graphs\n",
    "plt.figure(figsize=(12,6))\n",
    "plt.plot(date_wise_events_A['event_date'], date_wise_events_A['conversion'], label='A')\n",
    "plt.plot(date_wise_events_B['event_date'], date_wise_events_B['conversion'], label='B')\n",
    "\n",
    "\n",
    "plt.title('Cumulative conversion graph From product_cart to purchase', size =14)\n",
    "plt.xlabel('Time period')\n",
    "plt.ylabel('conversion rate')\n",
    "\n",
    "plt.legend()\n",
    "plt.show()"
   ]
  },
  {
   "cell_type": "code",
   "execution_count": 79,
   "metadata": {
    "scrolled": true
   },
   "outputs": [
    {
     "data": {
      "image/png": "[encoded data removed]",
      "text/plain": [
       "<Figure size 864x432 with 1 Axes>"
      ]
     },
     "metadata": {
      "needs_background": "light"
     },
     "output_type": "display_data"
    }
   ],
   "source": [
    "# calculating cumulative conversion\n",
    "date_wise_events_A['conversion'] = date_wise_events_A['purchase_cum']/date_wise_events_A['pro_page_cum']\n",
    "date_wise_events_B['conversion'] = date_wise_events_B['purchase_cum']/date_wise_events_B['pro_page_cum']\n",
    "\n",
    "\n",
    "\n",
    "# plotting the graphs\n",
    "plt.figure(figsize=(12,6))\n",
    "plt.plot(date_wise_events_A['event_date'], date_wise_events_A['conversion'], label='A')\n",
    "plt.plot(date_wise_events_B['event_date'], date_wise_events_B['conversion'], label='B')\n",
    "\n",
    "\n",
    "plt.title('Cumulative conversion graph of purchase From product_page ', size =14)\n",
    "plt.xlabel('Time period')\n",
    "plt.ylabel('conversion rate')\n",
    "\n",
    "plt.legend()\n",
    "plt.show()"
   ]
  },
  {
   "cell_type": "markdown",
   "metadata": {},
   "source": [
    "<div class=\"alert alert-info\"> \n",
    "<b>Remark:</b> \n",
    "I would like to state that due to special reasons, neither all the comments nor the report of the analysis were added with this part of the project. Therefore, there is no reason to consider this version as complete though this is the important and core part of the project.  \n",
    "    \n",
    "                                      Thank you very much for your scrutiny and time.\n",
    "   \n",
    "</div>"
   ]
  }
 ],
 "metadata": {
  "ExecuteTimeLog": [
   {
    "duration": 2253,
    "start_time": "2021-10-31T14:53:03.810Z"
   },
   {
    "duration": 4,
    "start_time": "2021-10-31T14:53:06.066Z"
   },
   {
    "duration": 1497,
    "start_time": "2021-10-31T14:53:06.073Z"
   },
   {
    "duration": 24,
    "start_time": "2021-10-31T14:53:07.573Z"
   },
   {
    "duration": 33,
    "start_time": "2021-10-31T14:53:07.600Z"
   },
   {
    "duration": 107,
    "start_time": "2021-10-31T14:53:07.635Z"
   },
   {
    "duration": 23,
    "start_time": "2021-10-31T14:53:07.749Z"
   },
   {
    "duration": 115,
    "start_time": "2021-10-31T14:53:07.776Z"
   },
   {
    "duration": 67,
    "start_time": "2021-10-31T14:53:07.894Z"
   },
   {
    "duration": 23,
    "start_time": "2021-10-31T14:53:07.964Z"
   },
   {
    "duration": 375,
    "start_time": "2021-10-31T14:53:07.990Z"
   },
   {
    "duration": 25,
    "start_time": "2021-10-31T14:53:08.368Z"
   },
   {
    "duration": 3,
    "start_time": "2021-10-31T14:53:08.396Z"
   },
   {
    "duration": 694,
    "start_time": "2021-10-31T14:53:08.402Z"
   },
   {
    "duration": 51,
    "start_time": "2021-10-31T14:53:09.098Z"
   },
   {
    "duration": 82,
    "start_time": "2021-10-31T14:53:09.156Z"
   },
   {
    "duration": 27,
    "start_time": "2021-10-31T14:53:09.241Z"
   },
   {
    "duration": 253,
    "start_time": "2021-10-31T14:53:09.271Z"
   },
   {
    "duration": 249,
    "start_time": "2021-10-31T14:53:09.526Z"
   },
   {
    "duration": 59,
    "start_time": "2021-10-31T14:53:09.777Z"
   },
   {
    "duration": 377,
    "start_time": "2021-10-31T14:53:09.839Z"
   },
   {
    "duration": 32,
    "start_time": "2021-10-31T14:53:10.219Z"
   },
   {
    "duration": 419,
    "start_time": "2021-10-31T14:53:10.260Z"
   },
   {
    "duration": 638,
    "start_time": "2021-10-31T14:53:10.682Z"
   },
   {
    "duration": 132,
    "start_time": "2021-10-31T14:53:11.323Z"
   },
   {
    "duration": 420,
    "start_time": "2021-10-31T14:53:11.457Z"
   },
   {
    "duration": 770,
    "start_time": "2021-10-31T14:53:11.881Z"
   },
   {
    "duration": 1212,
    "start_time": "2021-10-31T14:53:12.653Z"
   },
   {
    "duration": 69,
    "start_time": "2021-10-31T14:53:13.868Z"
   },
   {
    "duration": 1060,
    "start_time": "2021-10-31T14:53:13.939Z"
   },
   {
    "duration": 148,
    "start_time": "2021-10-31T14:53:15.002Z"
   },
   {
    "duration": 408,
    "start_time": "2021-10-31T14:53:15.152Z"
   },
   {
    "duration": 11,
    "start_time": "2021-10-31T14:53:15.562Z"
   },
   {
    "duration": 871,
    "start_time": "2021-10-31T14:53:15.576Z"
   },
   {
    "duration": 197,
    "start_time": "2021-10-31T14:53:16.469Z"
   },
   {
    "duration": 106,
    "start_time": "2021-10-31T14:53:16.669Z"
   },
   {
    "duration": 371,
    "start_time": "2021-10-31T14:53:16.777Z"
   },
   {
    "duration": 14,
    "start_time": "2021-10-31T14:53:17.153Z"
   },
   {
    "duration": 132,
    "start_time": "2021-10-31T14:53:17.170Z"
   },
   {
    "duration": 56,
    "start_time": "2021-10-31T14:53:17.304Z"
   },
   {
    "duration": 32,
    "start_time": "2021-10-31T14:53:17.362Z"
   },
   {
    "duration": 437,
    "start_time": "2021-10-31T14:53:17.396Z"
   },
   {
    "duration": 38,
    "start_time": "2021-10-31T14:53:17.836Z"
   },
   {
    "duration": 13,
    "start_time": "2021-10-31T14:53:17.876Z"
   },
   {
    "duration": 63,
    "start_time": "2021-10-31T14:53:17.892Z"
   },
   {
    "duration": 35,
    "start_time": "2021-10-31T14:53:17.958Z"
   },
   {
    "duration": 14,
    "start_time": "2021-10-31T14:53:17.996Z"
   },
   {
    "duration": 52,
    "start_time": "2021-10-31T14:53:18.013Z"
   },
   {
    "duration": 34,
    "start_time": "2021-10-31T14:53:18.068Z"
   },
   {
    "duration": 418,
    "start_time": "2021-10-31T14:53:18.105Z"
   },
   {
    "duration": 392,
    "start_time": "2021-10-31T14:53:18.529Z"
   },
   {
    "duration": 411,
    "start_time": "2021-10-31T14:53:18.923Z"
   },
   {
    "duration": 496,
    "start_time": "2021-10-31T14:53:19.336Z"
   },
   {
    "duration": 389,
    "start_time": "2021-10-31T14:53:19.834Z"
   },
   {
    "duration": 426,
    "start_time": "2021-10-31T14:53:20.225Z"
   },
   {
    "duration": 2237,
    "start_time": "2021-10-31T14:58:48.253Z"
   },
   {
    "duration": 4,
    "start_time": "2021-10-31T14:58:50.493Z"
   },
   {
    "duration": 974,
    "start_time": "2021-10-31T14:58:50.500Z"
   },
   {
    "duration": 23,
    "start_time": "2021-10-31T14:58:51.477Z"
   },
   {
    "duration": 53,
    "start_time": "2021-10-31T14:58:51.502Z"
   },
   {
    "duration": 88,
    "start_time": "2021-10-31T14:58:51.558Z"
   },
   {
    "duration": 22,
    "start_time": "2021-10-31T14:58:51.649Z"
   },
   {
    "duration": 130,
    "start_time": "2021-10-31T14:58:51.673Z"
   },
   {
    "duration": 66,
    "start_time": "2021-10-31T14:58:51.807Z"
   },
   {
    "duration": 13,
    "start_time": "2021-10-31T14:58:51.876Z"
   },
   {
    "duration": 470,
    "start_time": "2021-10-31T14:58:51.892Z"
   },
   {
    "duration": 18,
    "start_time": "2021-10-31T14:58:52.365Z"
   },
   {
    "duration": 3,
    "start_time": "2021-10-31T14:58:52.385Z"
   },
   {
    "duration": 608,
    "start_time": "2021-10-31T14:58:52.390Z"
   },
   {
    "duration": 66,
    "start_time": "2021-10-31T14:58:53.000Z"
   },
   {
    "duration": 81,
    "start_time": "2021-10-31T14:58:53.069Z"
   },
   {
    "duration": 22,
    "start_time": "2021-10-31T14:58:53.153Z"
   },
   {
    "duration": 298,
    "start_time": "2021-10-31T14:58:53.178Z"
   },
   {
    "duration": 228,
    "start_time": "2021-10-31T14:58:53.479Z"
   },
   {
    "duration": 76,
    "start_time": "2021-10-31T14:58:53.709Z"
   },
   {
    "duration": 396,
    "start_time": "2021-10-31T14:58:53.788Z"
   },
   {
    "duration": 21,
    "start_time": "2021-10-31T14:58:54.188Z"
   },
   {
    "duration": 420,
    "start_time": "2021-10-31T14:58:54.232Z"
   },
   {
    "duration": 681,
    "start_time": "2021-10-31T14:58:54.658Z"
   },
   {
    "duration": 134,
    "start_time": "2021-10-31T14:58:55.342Z"
   },
   {
    "duration": 647,
    "start_time": "2021-10-31T14:58:55.479Z"
   },
   {
    "duration": 846,
    "start_time": "2021-10-31T14:58:56.137Z"
   },
   {
    "duration": 1473,
    "start_time": "2021-10-31T14:58:56.987Z"
   },
   {
    "duration": 83,
    "start_time": "2021-10-31T14:58:58.465Z"
   },
   {
    "duration": 1258,
    "start_time": "2021-10-31T14:58:58.550Z"
   },
   {
    "duration": 148,
    "start_time": "2021-10-31T14:58:59.811Z"
   },
   {
    "duration": 426,
    "start_time": "2021-10-31T14:58:59.962Z"
   },
   {
    "duration": 13,
    "start_time": "2021-10-31T14:59:00.391Z"
   },
   {
    "duration": 858,
    "start_time": "2021-10-31T14:59:00.406Z"
   },
   {
    "duration": 279,
    "start_time": "2021-10-31T14:59:01.267Z"
   },
   {
    "duration": 87,
    "start_time": "2021-10-31T14:59:01.549Z"
   },
   {
    "duration": 346,
    "start_time": "2021-10-31T14:59:01.638Z"
   },
   {
    "duration": 9,
    "start_time": "2021-10-31T14:59:01.986Z"
   },
   {
    "duration": 166,
    "start_time": "2021-10-31T14:59:01.997Z"
   },
   {
    "duration": 38,
    "start_time": "2021-10-31T14:59:02.165Z"
   },
   {
    "duration": 53,
    "start_time": "2021-10-31T14:59:02.206Z"
   },
   {
    "duration": 464,
    "start_time": "2021-10-31T14:59:02.263Z"
   },
   {
    "duration": 35,
    "start_time": "2021-10-31T14:59:02.734Z"
   },
   {
    "duration": 13,
    "start_time": "2021-10-31T14:59:02.772Z"
   },
   {
    "duration": 52,
    "start_time": "2021-10-31T14:59:02.787Z"
   },
   {
    "duration": 35,
    "start_time": "2021-10-31T14:59:02.842Z"
   },
   {
    "duration": 12,
    "start_time": "2021-10-31T14:59:02.880Z"
   },
   {
    "duration": 50,
    "start_time": "2021-10-31T14:59:02.895Z"
   },
   {
    "duration": 36,
    "start_time": "2021-10-31T14:59:02.948Z"
   },
   {
    "duration": 458,
    "start_time": "2021-10-31T14:59:02.986Z"
   },
   {
    "duration": 398,
    "start_time": "2021-10-31T14:59:03.446Z"
   },
   {
    "duration": 441,
    "start_time": "2021-10-31T14:59:03.846Z"
   },
   {
    "duration": 571,
    "start_time": "2021-10-31T14:59:04.291Z"
   },
   {
    "duration": 414,
    "start_time": "2021-10-31T14:59:04.865Z"
   },
   {
    "duration": 455,
    "start_time": "2021-10-31T14:59:05.282Z"
   },
   {
    "duration": 2032,
    "start_time": "2021-10-31T15:17:47.862Z"
   },
   {
    "duration": 4,
    "start_time": "2021-10-31T15:17:49.897Z"
   },
   {
    "duration": 940,
    "start_time": "2021-10-31T15:17:49.904Z"
   },
   {
    "duration": 24,
    "start_time": "2021-10-31T15:17:50.847Z"
   },
   {
    "duration": 30,
    "start_time": "2021-10-31T15:17:50.873Z"
   },
   {
    "duration": 112,
    "start_time": "2021-10-31T15:17:50.905Z"
   },
   {
    "duration": 26,
    "start_time": "2021-10-31T15:17:51.034Z"
   },
   {
    "duration": 115,
    "start_time": "2021-10-31T15:17:51.064Z"
   },
   {
    "duration": 59,
    "start_time": "2021-10-31T15:17:51.182Z"
   },
   {
    "duration": 19,
    "start_time": "2021-10-31T15:17:51.243Z"
   },
   {
    "duration": 401,
    "start_time": "2021-10-31T15:17:51.265Z"
   },
   {
    "duration": 18,
    "start_time": "2021-10-31T15:17:51.668Z"
   },
   {
    "duration": 3,
    "start_time": "2021-10-31T15:17:51.689Z"
   },
   {
    "duration": 618,
    "start_time": "2021-10-31T15:17:51.695Z"
   },
   {
    "duration": 54,
    "start_time": "2021-10-31T15:17:52.315Z"
   },
   {
    "duration": 79,
    "start_time": "2021-10-31T15:17:52.371Z"
   },
   {
    "duration": 22,
    "start_time": "2021-10-31T15:17:52.453Z"
   },
   {
    "duration": 267,
    "start_time": "2021-10-31T15:17:52.478Z"
   },
   {
    "duration": 223,
    "start_time": "2021-10-31T15:17:52.748Z"
   },
   {
    "duration": 73,
    "start_time": "2021-10-31T15:17:52.974Z"
   },
   {
    "duration": 385,
    "start_time": "2021-10-31T15:17:53.050Z"
   },
   {
    "duration": 34,
    "start_time": "2021-10-31T15:17:53.438Z"
   },
   {
    "duration": 437,
    "start_time": "2021-10-31T15:17:53.479Z"
   },
   {
    "duration": 644,
    "start_time": "2021-10-31T15:17:53.919Z"
   },
   {
    "duration": 130,
    "start_time": "2021-10-31T15:17:54.566Z"
   },
   {
    "duration": 417,
    "start_time": "2021-10-31T15:17:54.698Z"
   },
   {
    "duration": 771,
    "start_time": "2021-10-31T15:17:55.117Z"
   },
   {
    "duration": 1317,
    "start_time": "2021-10-31T15:17:55.891Z"
   },
   {
    "duration": 75,
    "start_time": "2021-10-31T15:17:57.211Z"
   },
   {
    "duration": 1256,
    "start_time": "2021-10-31T15:17:57.289Z"
   },
   {
    "duration": 206,
    "start_time": "2021-10-31T15:17:58.548Z"
   },
   {
    "duration": 437,
    "start_time": "2021-10-31T15:17:58.756Z"
   },
   {
    "duration": 13,
    "start_time": "2021-10-31T15:17:59.196Z"
   },
   {
    "duration": 880,
    "start_time": "2021-10-31T15:17:59.228Z"
   },
   {
    "duration": 221,
    "start_time": "2021-10-31T15:18:00.135Z"
   },
   {
    "duration": 125,
    "start_time": "2021-10-31T15:18:00.363Z"
   },
   {
    "duration": 357,
    "start_time": "2021-10-31T15:18:00.491Z"
   },
   {
    "duration": 11,
    "start_time": "2021-10-31T15:18:00.851Z"
   },
   {
    "duration": 145,
    "start_time": "2021-10-31T15:18:00.865Z"
   },
   {
    "duration": 62,
    "start_time": "2021-10-31T15:18:01.013Z"
   },
   {
    "duration": 33,
    "start_time": "2021-10-31T15:18:01.077Z"
   },
   {
    "duration": 487,
    "start_time": "2021-10-31T15:18:01.129Z"
   },
   {
    "duration": 39,
    "start_time": "2021-10-31T15:18:01.618Z"
   },
   {
    "duration": 15,
    "start_time": "2021-10-31T15:18:01.660Z"
   },
   {
    "duration": 38,
    "start_time": "2021-10-31T15:18:01.677Z"
   },
   {
    "duration": 48,
    "start_time": "2021-10-31T15:18:01.718Z"
   },
   {
    "duration": 14,
    "start_time": "2021-10-31T15:18:01.769Z"
   },
   {
    "duration": 50,
    "start_time": "2021-10-31T15:18:01.786Z"
   },
   {
    "duration": 59,
    "start_time": "2021-10-31T15:18:01.841Z"
   },
   {
    "duration": 441,
    "start_time": "2021-10-31T15:18:01.903Z"
   },
   {
    "duration": 403,
    "start_time": "2021-10-31T15:18:02.351Z"
   },
   {
    "duration": 437,
    "start_time": "2021-10-31T15:18:02.757Z"
   },
   {
    "duration": 516,
    "start_time": "2021-10-31T15:18:03.197Z"
   },
   {
    "duration": 392,
    "start_time": "2021-10-31T15:18:03.716Z"
   },
   {
    "duration": 407,
    "start_time": "2021-10-31T15:18:04.111Z"
   },
   {
    "duration": 2335,
    "start_time": "2021-10-31T18:17:31.102Z"
   },
   {
    "duration": 3,
    "start_time": "2021-10-31T18:17:33.440Z"
   },
   {
    "duration": 971,
    "start_time": "2021-10-31T18:17:33.446Z"
   },
   {
    "duration": 22,
    "start_time": "2021-10-31T18:17:34.420Z"
   },
   {
    "duration": 28,
    "start_time": "2021-10-31T18:17:34.444Z"
   },
   {
    "duration": 100,
    "start_time": "2021-10-31T18:17:34.501Z"
   },
   {
    "duration": 19,
    "start_time": "2021-10-31T18:17:34.604Z"
   },
   {
    "duration": 117,
    "start_time": "2021-10-31T18:17:34.626Z"
   },
   {
    "duration": 57,
    "start_time": "2021-10-31T18:17:34.747Z"
   },
   {
    "duration": 11,
    "start_time": "2021-10-31T18:17:34.807Z"
   },
   {
    "duration": 431,
    "start_time": "2021-10-31T18:17:34.820Z"
   },
   {
    "duration": 18,
    "start_time": "2021-10-31T18:17:35.253Z"
   },
   {
    "duration": 3,
    "start_time": "2021-10-31T18:17:35.273Z"
   },
   {
    "duration": 550,
    "start_time": "2021-10-31T18:17:35.278Z"
   },
   {
    "duration": 42,
    "start_time": "2021-10-31T18:17:35.831Z"
   },
   {
    "duration": 67,
    "start_time": "2021-10-31T18:17:35.876Z"
   },
   {
    "duration": 21,
    "start_time": "2021-10-31T18:17:35.945Z"
   },
   {
    "duration": 272,
    "start_time": "2021-10-31T18:17:35.968Z"
   },
   {
    "duration": 222,
    "start_time": "2021-10-31T18:17:36.243Z"
   },
   {
    "duration": 69,
    "start_time": "2021-10-31T18:17:36.468Z"
   },
   {
    "duration": 374,
    "start_time": "2021-10-31T18:17:36.540Z"
   },
   {
    "duration": 21,
    "start_time": "2021-10-31T18:17:36.916Z"
   },
   {
    "duration": 425,
    "start_time": "2021-10-31T18:17:36.939Z"
   },
   {
    "duration": 648,
    "start_time": "2021-10-31T18:17:37.366Z"
   },
   {
    "duration": 118,
    "start_time": "2021-10-31T18:17:38.016Z"
   },
   {
    "duration": 407,
    "start_time": "2021-10-31T18:17:38.136Z"
   },
   {
    "duration": 755,
    "start_time": "2021-10-31T18:17:38.551Z"
   },
   {
    "duration": 1181,
    "start_time": "2021-10-31T18:17:39.309Z"
   },
   {
    "duration": 58,
    "start_time": "2021-10-31T18:17:40.500Z"
   },
   {
    "duration": 1042,
    "start_time": "2021-10-31T18:17:40.561Z"
   },
   {
    "duration": 139,
    "start_time": "2021-10-31T18:17:41.606Z"
   },
   {
    "duration": 392,
    "start_time": "2021-10-31T18:17:41.747Z"
   },
   {
    "duration": 12,
    "start_time": "2021-10-31T18:17:42.142Z"
   },
   {
    "duration": 800,
    "start_time": "2021-10-31T18:17:42.157Z"
   },
   {
    "duration": 171,
    "start_time": "2021-10-31T18:17:42.959Z"
   },
   {
    "duration": 108,
    "start_time": "2021-10-31T18:17:43.133Z"
   },
   {
    "duration": 337,
    "start_time": "2021-10-31T18:17:43.244Z"
   },
   {
    "duration": 10,
    "start_time": "2021-10-31T18:17:43.583Z"
   },
   {
    "duration": 125,
    "start_time": "2021-10-31T18:17:43.601Z"
   },
   {
    "duration": 41,
    "start_time": "2021-10-31T18:17:43.728Z"
   },
   {
    "duration": 56,
    "start_time": "2021-10-31T18:17:43.771Z"
   },
   {
    "duration": 419,
    "start_time": "2021-10-31T18:17:43.829Z"
   },
   {
    "duration": 30,
    "start_time": "2021-10-31T18:17:44.251Z"
   },
   {
    "duration": 26,
    "start_time": "2021-10-31T18:17:44.283Z"
   },
   {
    "duration": 20,
    "start_time": "2021-10-31T18:17:44.312Z"
   },
   {
    "duration": 26,
    "start_time": "2021-10-31T18:17:44.334Z"
   },
   {
    "duration": 47,
    "start_time": "2021-10-31T18:17:44.363Z"
   },
   {
    "duration": 29,
    "start_time": "2021-10-31T18:17:44.412Z"
   },
   {
    "duration": 32,
    "start_time": "2021-10-31T18:17:44.444Z"
   },
   {
    "duration": 410,
    "start_time": "2021-10-31T18:17:44.479Z"
   },
   {
    "duration": 389,
    "start_time": "2021-10-31T18:17:44.892Z"
   },
   {
    "duration": 394,
    "start_time": "2021-10-31T18:17:45.283Z"
   },
   {
    "duration": 513,
    "start_time": "2021-10-31T18:17:45.679Z"
   },
   {
    "duration": 378,
    "start_time": "2021-10-31T18:17:46.195Z"
   },
   {
    "duration": 394,
    "start_time": "2021-10-31T18:17:46.575Z"
   },
   {
    "duration": 12,
    "start_time": "2021-10-31T18:22:44.755Z"
   },
   {
    "duration": 618,
    "start_time": "2021-10-31T18:23:52.344Z"
   },
   {
    "duration": 397,
    "start_time": "2021-10-31T18:24:19.619Z"
   },
   {
    "duration": 11,
    "start_time": "2021-10-31T18:24:30.018Z"
   },
   {
    "duration": 14,
    "start_time": "2021-10-31T18:24:36.892Z"
   },
   {
    "duration": 202,
    "start_time": "2021-10-31T18:24:41.372Z"
   },
   {
    "duration": 2245,
    "start_time": "2021-10-31T18:39:07.188Z"
   },
   {
    "duration": 4,
    "start_time": "2021-10-31T18:39:09.436Z"
   },
   {
    "duration": 953,
    "start_time": "2021-10-31T18:39:09.442Z"
   },
   {
    "duration": 23,
    "start_time": "2021-10-31T18:39:10.398Z"
   },
   {
    "duration": 29,
    "start_time": "2021-10-31T18:39:10.424Z"
   },
   {
    "duration": 117,
    "start_time": "2021-10-31T18:39:10.456Z"
   },
   {
    "duration": 29,
    "start_time": "2021-10-31T18:39:10.576Z"
   },
   {
    "duration": 105,
    "start_time": "2021-10-31T18:39:10.609Z"
   },
   {
    "duration": 48,
    "start_time": "2021-10-31T18:39:10.717Z"
   },
   {
    "duration": 33,
    "start_time": "2021-10-31T18:39:10.767Z"
   },
   {
    "duration": 401,
    "start_time": "2021-10-31T18:39:10.803Z"
   },
   {
    "duration": 19,
    "start_time": "2021-10-31T18:39:11.207Z"
   },
   {
    "duration": 3,
    "start_time": "2021-10-31T18:39:11.228Z"
   },
   {
    "duration": 569,
    "start_time": "2021-10-31T18:39:11.233Z"
   },
   {
    "duration": 40,
    "start_time": "2021-10-31T18:39:11.805Z"
   },
   {
    "duration": 72,
    "start_time": "2021-10-31T18:39:11.848Z"
   },
   {
    "duration": 19,
    "start_time": "2021-10-31T18:39:11.923Z"
   },
   {
    "duration": 261,
    "start_time": "2021-10-31T18:39:11.944Z"
   },
   {
    "duration": 217,
    "start_time": "2021-10-31T18:39:12.208Z"
   },
   {
    "duration": 53,
    "start_time": "2021-10-31T18:39:12.428Z"
   },
   {
    "duration": 375,
    "start_time": "2021-10-31T18:39:12.484Z"
   },
   {
    "duration": 19,
    "start_time": "2021-10-31T18:39:12.861Z"
   },
   {
    "duration": 397,
    "start_time": "2021-10-31T18:39:12.903Z"
   },
   {
    "duration": 639,
    "start_time": "2021-10-31T18:39:13.303Z"
   },
   {
    "duration": 117,
    "start_time": "2021-10-31T18:39:13.944Z"
   },
   {
    "duration": 399,
    "start_time": "2021-10-31T18:39:14.063Z"
   },
   {
    "duration": 751,
    "start_time": "2021-10-31T18:39:14.465Z"
   },
   {
    "duration": 1206,
    "start_time": "2021-10-31T18:39:15.219Z"
   },
   {
    "duration": 75,
    "start_time": "2021-10-31T18:39:16.427Z"
   },
   {
    "duration": 1054,
    "start_time": "2021-10-31T18:39:16.504Z"
   },
   {
    "duration": 141,
    "start_time": "2021-10-31T18:39:17.561Z"
   },
   {
    "duration": 406,
    "start_time": "2021-10-31T18:39:17.704Z"
   },
   {
    "duration": 11,
    "start_time": "2021-10-31T18:39:18.113Z"
   },
   {
    "duration": 794,
    "start_time": "2021-10-31T18:39:18.127Z"
   },
   {
    "duration": 466,
    "start_time": "2021-10-31T18:39:18.923Z"
   },
   {
    "duration": 99,
    "start_time": "2021-10-31T18:39:19.392Z"
   },
   {
    "duration": 59,
    "start_time": "2021-10-31T18:39:19.501Z"
   },
   {
    "duration": 211,
    "start_time": "2021-10-31T18:39:19.563Z"
   },
   {
    "duration": 24,
    "start_time": "2021-10-31T18:39:19.777Z"
   },
   {
    "duration": 129,
    "start_time": "2021-10-31T18:39:19.804Z"
   },
   {
    "duration": 35,
    "start_time": "2021-10-31T18:39:19.935Z"
   },
   {
    "duration": 53,
    "start_time": "2021-10-31T18:39:19.973Z"
   },
   {
    "duration": 414,
    "start_time": "2021-10-31T18:39:20.028Z"
   },
   {
    "duration": 30,
    "start_time": "2021-10-31T18:39:20.444Z"
   },
   {
    "duration": 31,
    "start_time": "2021-10-31T18:39:20.477Z"
   },
   {
    "duration": 28,
    "start_time": "2021-10-31T18:39:20.510Z"
   },
   {
    "duration": 33,
    "start_time": "2021-10-31T18:39:20.541Z"
   },
   {
    "duration": 30,
    "start_time": "2021-10-31T18:39:20.577Z"
   },
   {
    "duration": 33,
    "start_time": "2021-10-31T18:39:20.609Z"
   },
   {
    "duration": 49,
    "start_time": "2021-10-31T18:39:20.645Z"
   },
   {
    "duration": 387,
    "start_time": "2021-10-31T18:39:20.697Z"
   },
   {
    "duration": 378,
    "start_time": "2021-10-31T18:39:21.086Z"
   },
   {
    "duration": 397,
    "start_time": "2021-10-31T18:39:21.467Z"
   },
   {
    "duration": 523,
    "start_time": "2021-10-31T18:39:21.867Z"
   },
   {
    "duration": 382,
    "start_time": "2021-10-31T18:39:22.400Z"
   },
   {
    "duration": 400,
    "start_time": "2021-10-31T18:39:22.784Z"
   },
   {
    "duration": 423,
    "start_time": "2021-11-03T19:22:16.914Z"
   },
   {
    "duration": 1814,
    "start_time": "2021-11-03T19:22:31.031Z"
   },
   {
    "duration": 4,
    "start_time": "2021-11-03T19:22:32.847Z"
   },
   {
    "duration": 1114,
    "start_time": "2021-11-03T19:22:32.854Z"
   },
   {
    "duration": 27,
    "start_time": "2021-11-03T19:22:33.973Z"
   },
   {
    "duration": 30,
    "start_time": "2021-11-03T19:22:34.002Z"
   },
   {
    "duration": 115,
    "start_time": "2021-11-03T19:22:34.034Z"
   },
   {
    "duration": 43,
    "start_time": "2021-11-03T19:22:34.151Z"
   },
   {
    "duration": 122,
    "start_time": "2021-11-03T19:22:34.196Z"
   },
   {
    "duration": 71,
    "start_time": "2021-11-03T19:22:34.322Z"
   },
   {
    "duration": 11,
    "start_time": "2021-11-03T19:22:34.396Z"
   },
   {
    "duration": 396,
    "start_time": "2021-11-03T19:22:34.409Z"
   },
   {
    "duration": 18,
    "start_time": "2021-11-03T19:22:34.807Z"
   },
   {
    "duration": 3,
    "start_time": "2021-11-03T19:22:34.827Z"
   },
   {
    "duration": 609,
    "start_time": "2021-11-03T19:22:34.833Z"
   },
   {
    "duration": 60,
    "start_time": "2021-11-03T19:22:35.445Z"
   },
   {
    "duration": 59,
    "start_time": "2021-11-03T19:22:35.508Z"
   },
   {
    "duration": 21,
    "start_time": "2021-11-03T19:22:35.570Z"
   },
   {
    "duration": 51,
    "start_time": "2021-11-03T19:22:35.594Z"
   },
   {
    "duration": 26,
    "start_time": "2021-11-03T19:22:35.647Z"
   },
   {
    "duration": 26,
    "start_time": "2021-11-03T19:22:35.677Z"
   },
   {
    "duration": 7,
    "start_time": "2021-11-03T19:22:35.706Z"
   },
   {
    "duration": 7,
    "start_time": "2021-11-03T19:22:35.715Z"
   },
   {
    "duration": 23,
    "start_time": "2021-11-03T19:22:35.725Z"
   },
   {
    "duration": 261,
    "start_time": "2021-11-03T19:22:35.751Z"
   },
   {
    "duration": 25,
    "start_time": "2021-11-03T19:22:36.015Z"
   },
   {
    "duration": 89,
    "start_time": "2021-11-03T19:22:36.042Z"
   },
   {
    "duration": 170,
    "start_time": "2021-11-03T19:22:36.138Z"
   },
   {
    "duration": 59,
    "start_time": "2021-11-03T19:22:36.312Z"
   },
   {
    "duration": 497,
    "start_time": "2021-11-03T19:22:36.374Z"
   },
   {
    "duration": 23,
    "start_time": "2021-11-03T19:22:36.874Z"
   },
   {
    "duration": 580,
    "start_time": "2021-11-03T19:22:36.900Z"
   },
   {
    "duration": 862,
    "start_time": "2021-11-03T19:22:37.483Z"
   },
   {
    "duration": 9,
    "start_time": "2021-11-03T19:22:38.347Z"
   },
   {
    "duration": 18,
    "start_time": "2021-11-03T19:22:38.358Z"
   },
   {
    "duration": 32,
    "start_time": "2021-11-03T19:22:38.380Z"
   },
   {
    "duration": 70,
    "start_time": "2021-11-03T19:22:38.415Z"
   },
   {
    "duration": 499,
    "start_time": "2021-11-03T19:22:38.487Z"
   },
   {
    "duration": 854,
    "start_time": "2021-11-03T19:22:38.989Z"
   },
   {
    "duration": 1184,
    "start_time": "2021-11-03T19:22:39.845Z"
   },
   {
    "duration": 441,
    "start_time": "2021-11-03T19:22:41.031Z"
   },
   {
    "duration": 2266,
    "start_time": "2021-11-03T19:22:41.475Z"
   },
   {
    "duration": 86,
    "start_time": "2021-11-03T19:22:43.743Z"
   },
   {
    "duration": 1225,
    "start_time": "2021-11-03T19:22:43.831Z"
   },
   {
    "duration": 38,
    "start_time": "2021-11-03T19:22:45.059Z"
   },
   {
    "duration": 25,
    "start_time": "2021-11-03T19:22:45.100Z"
   },
   {
    "duration": 1139,
    "start_time": "2021-11-03T19:22:45.128Z"
   },
   {
    "duration": 1096,
    "start_time": "2021-11-03T19:22:46.271Z"
   },
   {
    "duration": 19,
    "start_time": "2021-11-03T19:22:47.371Z"
   },
   {
    "duration": 154,
    "start_time": "2021-11-03T19:22:47.393Z"
   },
   {
    "duration": 436,
    "start_time": "2021-11-03T19:22:47.550Z"
   },
   {
    "duration": 22,
    "start_time": "2021-11-03T19:22:47.988Z"
   },
   {
    "duration": 20,
    "start_time": "2021-11-03T19:22:48.013Z"
   },
   {
    "duration": 493,
    "start_time": "2021-11-03T19:22:48.035Z"
   },
   {
    "duration": 12,
    "start_time": "2021-11-03T19:22:48.531Z"
   },
   {
    "duration": 490,
    "start_time": "2021-11-03T19:22:48.545Z"
   },
   {
    "duration": 63,
    "start_time": "2021-11-03T19:22:49.038Z"
   },
   {
    "duration": 85,
    "start_time": "2021-11-03T19:22:49.103Z"
   },
   {
    "duration": 245,
    "start_time": "2021-11-03T19:22:49.190Z"
   },
   {
    "duration": 35,
    "start_time": "2021-11-03T19:22:49.437Z"
   },
   {
    "duration": 12,
    "start_time": "2021-11-03T19:22:49.475Z"
   },
   {
    "duration": 90,
    "start_time": "2021-11-03T19:22:49.490Z"
   },
   {
    "duration": 11,
    "start_time": "2021-11-03T19:22:49.583Z"
   },
   {
    "duration": 13,
    "start_time": "2021-11-03T19:22:49.597Z"
   },
   {
    "duration": 88,
    "start_time": "2021-11-03T19:22:49.612Z"
   },
   {
    "duration": 32,
    "start_time": "2021-11-03T19:22:49.702Z"
   },
   {
    "duration": 57,
    "start_time": "2021-11-03T19:22:49.736Z"
   },
   {
    "duration": 422,
    "start_time": "2021-11-03T19:22:49.796Z"
   },
   {
    "duration": 20,
    "start_time": "2021-11-03T19:22:50.220Z"
   },
   {
    "duration": 34,
    "start_time": "2021-11-03T19:22:50.243Z"
   },
   {
    "duration": 24,
    "start_time": "2021-11-03T19:22:50.280Z"
   },
   {
    "duration": 23,
    "start_time": "2021-11-03T19:22:50.307Z"
   },
   {
    "duration": 41,
    "start_time": "2021-11-03T19:22:50.333Z"
   },
   {
    "duration": 22,
    "start_time": "2021-11-03T19:22:50.377Z"
   },
   {
    "duration": 28,
    "start_time": "2021-11-03T19:22:50.401Z"
   },
   {
    "duration": 440,
    "start_time": "2021-11-03T19:22:50.431Z"
   },
   {
    "duration": 605,
    "start_time": "2021-11-03T19:22:50.875Z"
   },
   {
    "duration": 467,
    "start_time": "2021-11-03T19:22:51.484Z"
   },
   {
    "duration": 543,
    "start_time": "2021-11-03T19:22:51.954Z"
   },
   {
    "duration": 411,
    "start_time": "2021-11-03T19:22:52.499Z"
   },
   {
    "duration": 418,
    "start_time": "2021-11-03T19:22:52.912Z"
   },
   {
    "duration": 14,
    "start_time": "2021-11-03T19:24:14.180Z"
   },
   {
    "duration": 5,
    "start_time": "2021-11-03T19:24:20.923Z"
   },
   {
    "duration": 5,
    "start_time": "2021-11-03T19:24:58.548Z"
   },
   {
    "duration": 26,
    "start_time": "2021-11-03T19:25:00.973Z"
   },
   {
    "duration": 33,
    "start_time": "2021-11-03T19:25:27.080Z"
   },
   {
    "duration": 15,
    "start_time": "2021-11-03T19:25:30.648Z"
   },
   {
    "duration": 23,
    "start_time": "2021-11-03T19:27:25.851Z"
   },
   {
    "duration": 1813,
    "start_time": "2021-11-03T19:38:37.067Z"
   },
   {
    "duration": 4,
    "start_time": "2021-11-03T19:38:38.884Z"
   },
   {
    "duration": 1009,
    "start_time": "2021-11-03T19:38:38.891Z"
   },
   {
    "duration": 24,
    "start_time": "2021-11-03T19:38:39.904Z"
   },
   {
    "duration": 53,
    "start_time": "2021-11-03T19:38:39.931Z"
   },
   {
    "duration": 111,
    "start_time": "2021-11-03T19:38:39.987Z"
   },
   {
    "duration": 19,
    "start_time": "2021-11-03T19:38:40.101Z"
   },
   {
    "duration": 136,
    "start_time": "2021-11-03T19:38:40.124Z"
   },
   {
    "duration": 56,
    "start_time": "2021-11-03T19:38:40.267Z"
   },
   {
    "duration": 13,
    "start_time": "2021-11-03T19:38:40.325Z"
   },
   {
    "duration": 450,
    "start_time": "2021-11-03T19:38:40.340Z"
   },
   {
    "duration": 20,
    "start_time": "2021-11-03T19:38:40.793Z"
   },
   {
    "duration": 3,
    "start_time": "2021-11-03T19:38:40.815Z"
   },
   {
    "duration": 610,
    "start_time": "2021-11-03T19:38:40.821Z"
   },
   {
    "duration": 66,
    "start_time": "2021-11-03T19:38:41.433Z"
   },
   {
    "duration": 77,
    "start_time": "2021-11-03T19:38:41.501Z"
   },
   {
    "duration": 21,
    "start_time": "2021-11-03T19:38:41.580Z"
   },
   {
    "duration": 80,
    "start_time": "2021-11-03T19:38:41.604Z"
   },
   {
    "duration": 22,
    "start_time": "2021-11-03T19:38:41.687Z"
   },
   {
    "duration": 23,
    "start_time": "2021-11-03T19:38:41.712Z"
   },
   {
    "duration": 40,
    "start_time": "2021-11-03T19:38:41.737Z"
   },
   {
    "duration": 7,
    "start_time": "2021-11-03T19:38:41.780Z"
   },
   {
    "duration": 22,
    "start_time": "2021-11-03T19:38:41.794Z"
   },
   {
    "duration": 312,
    "start_time": "2021-11-03T19:38:41.820Z"
   },
   {
    "duration": 41,
    "start_time": "2021-11-03T19:38:42.135Z"
   },
   {
    "duration": 102,
    "start_time": "2021-11-03T19:38:42.180Z"
   },
   {
    "duration": 181,
    "start_time": "2021-11-03T19:38:42.284Z"
   },
   {
    "duration": 60,
    "start_time": "2021-11-03T19:38:42.468Z"
   },
   {
    "duration": 415,
    "start_time": "2021-11-03T19:38:42.531Z"
   },
   {
    "duration": 36,
    "start_time": "2021-11-03T19:38:42.948Z"
   },
   {
    "duration": 442,
    "start_time": "2021-11-03T19:38:42.987Z"
   },
   {
    "duration": 695,
    "start_time": "2021-11-03T19:38:43.432Z"
   },
   {
    "duration": 9,
    "start_time": "2021-11-03T19:38:44.130Z"
   },
   {
    "duration": 32,
    "start_time": "2021-11-03T19:38:44.141Z"
   },
   {
    "duration": 29,
    "start_time": "2021-11-03T19:38:44.177Z"
   },
   {
    "duration": 61,
    "start_time": "2021-11-03T19:38:44.208Z"
   },
   {
    "duration": 453,
    "start_time": "2021-11-03T19:38:44.272Z"
   },
   {
    "duration": 874,
    "start_time": "2021-11-03T19:38:44.729Z"
   },
   {
    "duration": 1209,
    "start_time": "2021-11-03T19:38:45.606Z"
   },
   {
    "duration": 485,
    "start_time": "2021-11-03T19:38:46.818Z"
   },
   {
    "duration": 2302,
    "start_time": "2021-11-03T19:38:47.307Z"
   },
   {
    "duration": 97,
    "start_time": "2021-11-03T19:38:49.613Z"
   },
   {
    "duration": 1581,
    "start_time": "2021-11-03T19:38:49.713Z"
   },
   {
    "duration": 34,
    "start_time": "2021-11-03T19:38:51.298Z"
   },
   {
    "duration": 53,
    "start_time": "2021-11-03T19:38:51.335Z"
   },
   {
    "duration": 1458,
    "start_time": "2021-11-03T19:38:51.390Z"
   },
   {
    "duration": 1112,
    "start_time": "2021-11-03T19:38:52.850Z"
   },
   {
    "duration": 19,
    "start_time": "2021-11-03T19:38:53.968Z"
   },
   {
    "duration": 182,
    "start_time": "2021-11-03T19:38:53.990Z"
   },
   {
    "duration": 534,
    "start_time": "2021-11-03T19:38:54.175Z"
   },
   {
    "duration": 29,
    "start_time": "2021-11-03T19:38:54.712Z"
   },
   {
    "duration": 46,
    "start_time": "2021-11-03T19:38:54.744Z"
   },
   {
    "duration": 610,
    "start_time": "2021-11-03T19:38:54.794Z"
   },
   {
    "duration": 14,
    "start_time": "2021-11-03T19:38:55.407Z"
   },
   {
    "duration": 513,
    "start_time": "2021-11-03T19:38:55.424Z"
   },
   {
    "duration": 64,
    "start_time": "2021-11-03T19:38:55.940Z"
   },
   {
    "duration": 92,
    "start_time": "2021-11-03T19:38:56.007Z"
   },
   {
    "duration": 291,
    "start_time": "2021-11-03T19:38:56.101Z"
   },
   {
    "duration": 16,
    "start_time": "2021-11-03T19:38:56.394Z"
   },
   {
    "duration": 9,
    "start_time": "2021-11-03T19:38:56.413Z"
   },
   {
    "duration": 96,
    "start_time": "2021-11-03T19:38:56.424Z"
   },
   {
    "duration": 9,
    "start_time": "2021-11-03T19:38:56.522Z"
   },
   {
    "duration": 10,
    "start_time": "2021-11-03T19:38:56.534Z"
   },
   {
    "duration": 103,
    "start_time": "2021-11-03T19:38:56.547Z"
   },
   {
    "duration": 44,
    "start_time": "2021-11-03T19:38:56.653Z"
   },
   {
    "duration": 30,
    "start_time": "2021-11-03T19:38:56.700Z"
   },
   {
    "duration": 419,
    "start_time": "2021-11-03T19:38:56.732Z"
   },
   {
    "duration": 27,
    "start_time": "2021-11-03T19:38:57.171Z"
   },
   {
    "duration": 13,
    "start_time": "2021-11-03T19:38:57.200Z"
   },
   {
    "duration": 20,
    "start_time": "2021-11-03T19:38:57.216Z"
   },
   {
    "duration": 50,
    "start_time": "2021-11-03T19:38:57.238Z"
   },
   {
    "duration": 14,
    "start_time": "2021-11-03T19:38:57.291Z"
   },
   {
    "duration": 23,
    "start_time": "2021-11-03T19:38:57.307Z"
   },
   {
    "duration": 66,
    "start_time": "2021-11-03T19:38:57.333Z"
   },
   {
    "duration": 440,
    "start_time": "2021-11-03T19:38:57.402Z"
   },
   {
    "duration": 546,
    "start_time": "2021-11-03T19:38:57.845Z"
   },
   {
    "duration": 449,
    "start_time": "2021-11-03T19:38:58.394Z"
   },
   {
    "duration": 553,
    "start_time": "2021-11-03T19:38:58.846Z"
   },
   {
    "duration": 416,
    "start_time": "2021-11-03T19:38:59.402Z"
   },
   {
    "duration": 436,
    "start_time": "2021-11-03T19:38:59.821Z"
   }
  ],
  "kernelspec": {
   "display_name": "Python 3",
   "language": "python",
   "name": "python3"
  },
  "language_info": {
   "codemirror_mode": {
    "name": "ipython",
    "version": 3
   },
   "file_extension": ".py",
   "mimetype": "text/x-python",
   "name": "python",
   "nbconvert_exporter": "python",
   "pygments_lexer": "ipython3",
   "version": "3.7.4"
  },
  "toc": {
   "base_numbering": 1,
   "nav_menu": {},
   "number_sections": true,
   "sideBar": true,
   "skip_h1_title": true,
   "title_cell": "Table of Contents",
   "title_sidebar": "Contents",
   "toc_cell": false,
   "toc_position": {},
   "toc_section_display": true,
   "toc_window_display": false
  }
 },
 "nbformat": 4,
 "nbformat_minor": 2
}
